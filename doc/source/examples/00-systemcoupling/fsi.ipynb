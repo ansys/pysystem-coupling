{
  "cells": [
    {
      "cell_type": "markdown",
      "metadata": {},
      "source": [
        "\n# fsi.py Example\n\nThis example demonstrates a simple fluid-structure interaction (FSI) simulation\n"
      ]
    },
    {
      "cell_type": "code",
      "execution_count": null,
      "metadata": {
        "collapsed": false
      },
      "outputs": [],
      "source": [
        "# import required modules\nimport shutil\n\nimport ansys.fluent.core as pyfluent\nimport ansys.mapdl.core as pymapdl\n\nimport ansys.systemcoupling.core as pysyc\nfrom ansys.systemcoupling.core import examples\n\n# Connect to mapdl container\nprint(\"Connecting to MAPDL\")\nmapdl = pymapdl.Mapdl()\n\n# ================================\n\n# read in the pre-created Fluent case file and launch Fluent\n\nfluent_cas_file = examples.download_file(\n    \"plate.cas.gz\", \"pysystem-coupling/oscillating_plate/Fluent\"\n)\n\nshutil.copy(fluent_cas_file, \"plate.cas.gz\")\n\nfluent_cas_file = \"plate.cas.gz\"\n\ncustom_config = {\"fluent_image\": \"ghcr.io/ansys/pyfluent:v24.2.0\"}\nprint(\"Launching Fluent Container\")\nfluent = pyfluent.launch_fluent(start_transcript=False, container_dict=custom_config)\nfluent.file.read(file_type=\"case\", file_name=fluent_cas_file)\n\n# ================================\n\n# launch System Coupling\nprint(\"Launching System Coupling Container\")\nsyc = pysyc.launch()\n\n# ================================\n\nmapdl.prep7()\n\n# define material properties\nmapdl.mp(\"DENS\", 1, 2550)  # density\nmapdl.mp(\"ALPX\", 1, 1.2e-05)  # thermal expansion coefficient\nmapdl.mp(\"EX\", 1, 2500000)  # Young's modulus\nmapdl.mp(\"NUXY\", 1, 0.35)  # Poisson's ratio\n\n# set element types to SOLID186\nmapdl.et(1, 186)\nmapdl.keyopt(1, 2, 1)\n\n# make geometry\nmapdl.block(10.00, 10.06, 0.0, 1.0, 0.0, 0.4)\nmapdl.vsweep(1)\n\n# add fixed support at y=0\nmapdl.run(\"NSEL,S,LOC,Y,0\")\nmapdl.d(\"all\", \"all\")\n\n# add FSI interface\nmapdl.run(\"NSEL,S,LOC,X,9.99,10.01\")\nmapdl.run(\"NSEL,A,LOC,Y,0.99,1.01\")\nmapdl.run(\"NSEL,A,LOC,X,10.05,10.07\")\nmapdl.cm(\"FSIN_1\", \"NODE\")\nmapdl.sf(\"FSIN_1\", \"FSIN\", 1)\n\nmapdl.allsel()\n\nmapdl.run(\"/SOLU\")\n\n# set analysis type to steady\nmapdl.antype(4)\n\nmapdl.nlgeom(\"ON\")  # large deformations\nmapdl.kbc(1)\nmapdl.trnopt(\"full\", \"\", \"\", \"\", \"\", \"hht\")\nmapdl.tintp(0.1)\nmapdl.autots(\"off\")\nmapdl.run(\"nsub,1,1,1\")\nmapdl.run(\"time,10.0\")\nmapdl.timint(\"on\")\n\n# ================================\n\nsyc.start_output()\n\n# add participants\nfluid_name = syc.setup.add_participant(participant_session=fluent)\nsolid_name = syc.setup.add_participant(participant_session=mapdl)\n\nsyc.setup.coupling_participant[fluid_name].display_name = \"Fluid\"\nsyc.setup.coupling_participant[solid_name].display_name = \"Solid\"\n\n# add a coupling interface\ninterface_name = syc.setup.add_interface(\n    side_one_participant=fluid_name,\n    side_one_regions=[\"wall_deforming\"],\n    side_two_participant=solid_name,\n    side_two_regions=[\"FSIN_1\"],\n)\n\n# set up 2-way FSI coupling - add force & displacement data transfers\ndt_names = syc.setup.add_fsi_data_transfers(interface=interface_name)\n\n# modify force transfer to apply constant initial loading for the first 0.5 [s]\nforce_transfer = syc.setup.coupling_interface[interface_name].data_transfer[\"FORC\"]\nforce_transfer.option = \"UsingExpression\"\nforce_transfer.value = \"vector(5.0 [N], 0.0 [N], 0.0 [N]) if Time < 0.5 [s] else force\"\n\nsyc.setup.solution_control.time_step_size = 0.1\nsyc.setup.solution_control.end_time = (\n    3.0  # shorten the run a bit, full run is 10 seconds\n)\n\nsyc.setup.output_control.option = \"EveryStep\"\n\n# solve the coupled analysis\nsyc.solution.solve()\n\nmapdl.finish()\n\n# post-process structural results\nmapdl.post1()\n\n\"\"\"\nmapdl.result.animate_nodal_displacement(\n    rnum = 0,\n    loop=True,\n    add_text=False,\n    displacement_factor=1.0,\n    show_edges=True,\n    cpos=\"xy\")\n\"\"\"\n\n# post-process fluid results\n# ...\n\n# exit\nsyc.exit()\nfluent.exit()\nmapdl.exit()"
      ]
    }
  ],
  "metadata": {
    "kernelspec": {
      "display_name": "Python 3",
      "language": "python",
      "name": "python3"
    },
    "language_info": {
      "codemirror_mode": {
        "name": "ipython",
        "version": 3
      },
      "file_extension": ".py",
      "mimetype": "text/x-python",
      "name": "python",
      "nbconvert_exporter": "python",
      "pygments_lexer": "ipython3",
      "version": "3.10.12"
    }
  },
  "nbformat": 4,
  "nbformat_minor": 0
}