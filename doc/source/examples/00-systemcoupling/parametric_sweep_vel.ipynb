{
  "cells": [
    {
      "cell_type": "code",
      "execution_count": null,
      "metadata": {
        "collapsed": false
      },
      "outputs": [],
      "source": [
        "%matplotlib inline"
      ]
    },
    {
      "cell_type": "markdown",
      "metadata": {},
      "source": [
        "\n# Parametric sweep\n\nThis example is based on a steady FSI case where the fluid is flowing over a flexible plate.\nIt shows how you use PySystemCoupling with some other PyAnsys libraries.\n\nThe case is run a number of times, with varying fluid inlet velocity. The goal is to extract\nthe maximum plate deflection from each solution and examine how it responds to the\nchanging velocity value.\n\n<img src=\"file://_static/param_sweep_flow.png\" width=\"400pt\" align=\"center\">\n\n<img src=\"file://_static/param_sweep_result.png\" width=\"400pt\" align=\"center\">\n"
      ]
    },
    {
      "cell_type": "markdown",
      "metadata": {},
      "source": [
        "## Perform required imports\nThis example imports these PyAnsys libraries: PySystemCoupling,\nPyFluent, and PyDPF. It also imports Matplotlib and NumPy to\nproduce a simple plot of the results.\n\n"
      ]
    },
    {
      "cell_type": "code",
      "execution_count": null,
      "metadata": {
        "collapsed": false
      },
      "outputs": [],
      "source": [
        "import os\n\nimport matplotlib.pyplot as plt\nimport numpy as np\n\nimport ansys.dpf.core as pydpf\nimport ansys.fluent.core as pyfluent\nimport ansys.systemcoupling.core as pysyc\n\nfrom ansys.systemcoupling.core import examples"
      ]
    },
    {
      "cell_type": "markdown",
      "metadata": {},
      "source": [
        "## Define functions\nThis example is broken into functions that define the main steps that\nmust be performed. It makes particular sense to do this for the\nmain task of running a coupled analysis because this task must be repeated\nfor multiple values of a single input parameter. This is encapsulated\nin the ``get_max_displacement`` function. In turn, this function is broken\ninto further functions that represent its main steps. Also, functions are\ndefined to prepare the working directory (``setup_working_directory``)\nand plot the final results (``plot``).\n\n### Set up working directory\nTo set up the working directory with the downloaded data files for this\nexample, use the ``setup_working_directory()`` function. In the working\ndirectory, the MAPDL files are placed in a ``Mapdl`` subdirectory, and\nthe Fluent files are placed in a ``Fluent`` subdirectory. The\n``setup_working_directory()`` function returns the path of the\nworking directory for later use.\n\n"
      ]
    },
    {
      "cell_type": "code",
      "execution_count": null,
      "metadata": {
        "collapsed": false
      },
      "outputs": [],
      "source": [
        "def setup_working_directory():\n    examples.delete_downloads()\n\n    mapdl_scp_file = examples.download_file(\n        \"mapdl.scp\", \"pysystem-coupling/parametric_sweep_vel/Mapdl\"\n    )\n\n    fluent_scp_file = examples.download_file(\n        \"fluent.scp\", \"pysystem-coupling/parametric_sweep_vel/Fluent\"\n    )\n\n    mapdl_dat_file = examples.download_file(\n        \"ds.dat\", \"pysystem-coupling/parametric_sweep_vel/Mapdl\"\n    )\n\n    fluent_cas_file = examples.download_file(\n        \"case.cas.h5\", \"pysystem-coupling/parametric_sweep_vel/Fluent\"\n    )\n\n    working_dir = os.path.dirname(mapdl_scp_file)\n\n    fluent_working_dir = os.path.join(working_dir, \"Fluent\")\n    os.mkdir(fluent_working_dir)\n    mapdl_working_dir = os.path.join(working_dir, \"Mapdl\")\n    os.mkdir(mapdl_working_dir)\n\n    os.rename(fluent_cas_file, os.path.join(fluent_working_dir, \"case.cas.h5\"))\n    os.rename(mapdl_dat_file, os.path.join(mapdl_working_dir, \"ds.dat\"))\n    os.rename(fluent_scp_file, os.path.join(fluent_working_dir, \"fluent.scp\"))\n    os.rename(mapdl_scp_file, os.path.join(mapdl_working_dir, \"mapdl.scp\"))\n\n    return working_dir"
      ]
    },
    {
      "cell_type": "markdown",
      "metadata": {},
      "source": [
        "### Set inlet velocity\nTo modify the Fluent case to adjust the inlet velocity on the\n``\"wall_inlet\"`` velocity inlet boundary condition, use the\n``set_inlet_velocity()`` function. This function is called\nwith a varying ``inlet_velocity``value before each call of\nthe ``solve_coupled_analysis`` command in a sequence of analyses.\n\n"
      ]
    },
    {
      "cell_type": "code",
      "execution_count": null,
      "metadata": {
        "collapsed": false
      },
      "outputs": [],
      "source": [
        "def set_inlet_velocity(working_dir, inlet_velocity):\n  with pyfluent.launch_fluent(precision=\"double\", processor_count=2) as session:\n      case_file = os.path.join(working_dir, \"Fluent\", \"case.cas.h5\")\n      session.file.read(file_type=\"case\", file_name=case_file)\n      session.setup.boundary_conditions.velocity_inlet[\n          \"wall_inlet\"\n      ].vmag.value = inlet_velocity\n      session.tui.file.write_case(case_file)\n\n  print(f\"Inlet velocity is set to {inlet_velocity}\")"
      ]
    },
    {
      "cell_type": "markdown",
      "metadata": {},
      "source": [
        "### Solve coupled analysis\nPerform a single coupled analysis. In this example, the only change\nbetween successive calls to this function is in the content of the\nFluent input file that is used. The value for the ``inlet_velocity``\nsetting is modified in the Fluent file prior to this function being called.\n\n<div class=\"alert alert-info\"><h4>Note</h4><p>System Coupling is launched anew for each call of\n   this function.\n\n   The ``with pysyc.launch(...)`` syntax ensures\n   that the System Coupling session is properly exited at the\n   end of the scope defined by the ``with`` block.</p></div>\n\n"
      ]
    },
    {
      "cell_type": "code",
      "execution_count": null,
      "metadata": {
        "collapsed": false
      },
      "outputs": [],
      "source": [
        "def solve_coupled_analysis(working_dir):\n    with pysyc.launch(working_dir=working_dir) as syc:\n        print(\"Setting up the coupled analysis.\")\n\n        fluent_name = syc.setup.add_participant(\n            input_file = os.path.join(\"Fluent\", \"fluent.scp\"))\n\n        mapdl_name = syc.setup.add_participant(\n            input_file = os.path.join(\"Mapdl\", \"mapdl.scp\"))\n\n        fsi_name = syc.setup.add_interface(\n            side_one_participant = fluent_name, side_one_regions = ['wall_deforming'],\n            side_two_participant = mapdl_name, side_two_regions = ['FSIN_1'])\n\n        syc.setup.add_data_transfer(\n            interface = fsi_name, target_side = 'One',\n            source_variable = 'INCD', target_variable = 'displacement')\n\n        syc.setup.add_data_transfer(\n            interface = fsi_name, target_side = 'Two',\n            source_variable = 'force', target_variable = 'FORC')\n\n        syc.setup.solution_control.maximum_iterations = 7\n\n        print(\"Solving the coupled analysis. This may take a while....\")\n        syc.solution.solve()\n\n    print(\"...done.\")"
      ]
    },
    {
      "cell_type": "markdown",
      "metadata": {},
      "source": [
        "### Extract maximum displacement value\nUse PyDPF to query the MAPDL results for the extract the\nmaximum displacement value in the solution.\n\n"
      ]
    },
    {
      "cell_type": "code",
      "execution_count": null,
      "metadata": {
        "collapsed": false
      },
      "outputs": [],
      "source": [
        "def extract_max_displacement(working_dir):\n  print(\"Extracting max displacement value\")\n  model = pydpf.Model(os.path.join(working_dir, \"Mapdl\", \"file.rst\"))\n  displacements = model.results.displacement()\n  fields = displacements.outputs.fields_container()\n  value = max([v[0] for v in fields[0].data])\n  print(\"Max displacement value = \" + str(value))\n  return value"
      ]
    },
    {
      "cell_type": "markdown",
      "metadata": {},
      "source": [
        "### Get maximum displacement\nUse the previously defined functions to:\n\n- Modify the Fluent input file to apply the provided ``inlet_velocity`` setting.\n- Run the coupled analysis based on this setting.\n- Extract and return the maximum displacement value from the MAPDL results.\n\n"
      ]
    },
    {
      "cell_type": "code",
      "execution_count": null,
      "metadata": {
        "collapsed": false
      },
      "outputs": [],
      "source": [
        "def get_max_displacement(working_dir, inlet_velocity):\n  set_inlet_velocity(working_dir, inlet_velocity)\n  solve_coupled_analysis(working_dir)\n  return extract_max_displacement(working_dir)"
      ]
    },
    {
      "cell_type": "markdown",
      "metadata": {},
      "source": [
        "### Plot results\nGenerate an ``x-y`` plot of the results, showing the maximum\ndisplacement of the plate versus the inlet velocity.\n\n\n"
      ]
    },
    {
      "cell_type": "code",
      "execution_count": null,
      "metadata": {
        "collapsed": false
      },
      "outputs": [],
      "source": [
        "def plot(working_dir, x, y):\n  fig, ax = plt.subplots()\n  ax.plot(x, y, \"-o\")\n  ax.set(\n    xlabel=\"Inlet velocity [m/s]\",\n    ylabel='Max Displacement [m]',\n    title=\"Plate max displacement vs. inlet velocity\")\n  ax.grid()\n  plt.savefig(os.path.join(working_dir, \"displacement\"))"
      ]
    },
    {
      "cell_type": "markdown",
      "metadata": {},
      "source": [
        "## Run analyses\nUse the ``get_max_displacement()`` function sequentially, with input\nvelocity values provided by an initialized ``x`` array.\nThe results of the calls to the ``get_max_displacement()`` function\nare used to fill in the corresponding values of the ``y`` array.\nFinally, call the ``plot()`` function to generate a plot from the arrays.\n\n"
      ]
    },
    {
      "cell_type": "code",
      "execution_count": null,
      "metadata": {
        "collapsed": false
      },
      "outputs": [],
      "source": [
        "x = np.array([5.0, 10.0, 15.0, 20.0, 25.0])\ny = np.array([0.0] * len(x))\n\nworking_dir = setup_working_directory()\n\nfor index, inlet_velocity in enumerate(x):\n  y[index] = get_max_displacement(working_dir, inlet_velocity)\n\nplot(working_dir, x, y)"
      ]
    }
  ],
  "metadata": {
    "kernelspec": {
      "display_name": "Python 3",
      "language": "python",
      "name": "python3"
    },
    "language_info": {
      "codemirror_mode": {
        "name": "ipython",
        "version": 3
      },
      "file_extension": ".py",
      "mimetype": "text/x-python",
      "name": "python",
      "nbconvert_exporter": "python",
      "pygments_lexer": "ipython3",
      "version": "3.8.10"
    }
  },
  "nbformat": 4,
  "nbformat_minor": 0
}