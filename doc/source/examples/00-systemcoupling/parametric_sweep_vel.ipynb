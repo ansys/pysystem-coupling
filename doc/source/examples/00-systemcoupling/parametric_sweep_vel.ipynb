{
  "cells": [
    {
      "cell_type": "code",
      "execution_count": null,
      "metadata": {
        "collapsed": false
      },
      "outputs": [],
      "source": [
        "%matplotlib inline"
      ]
    },
    {
      "cell_type": "markdown",
      "metadata": {},
      "source": [
        "\n# Parametric sweep example\n\nThis example is based on a steady FSI case, where the fluid is flowing over a flexible plate.\n\nThe case is run a number of times, with varying fluid inlet velocity. The goal is to extract\nthe maximum plate deflection from each solution and to examine how it responds to the\nchanging velocity value.\n\nIt illustrates the use of PySystemCoupling in conjunction with some other PyAnsys tools.\n\n<img src=\"file://_static/param_sweep_flow.png\" width=\"400pt\" align=\"center\">\n\n<img src=\"file://_static/param_sweep_result.png\" width=\"400pt\" align=\"center\">\n"
      ]
    },
    {
      "cell_type": "markdown",
      "metadata": {},
      "source": [
        "## Perform required imports\nAs well as the PySystemCoupling package, PyFluent and PyDPF also need\nto be imported for this example. In addition, facilities from ``matplotlib`` and\n``numpy`` are used to produce a simple plot of the results.\n\n"
      ]
    },
    {
      "cell_type": "code",
      "execution_count": null,
      "metadata": {
        "collapsed": false
      },
      "outputs": [],
      "source": [
        "import os\n\nimport matplotlib.pyplot as plt\nimport numpy as np\n\nimport ansys.dpf.core as pydpf\nimport ansys.fluent.core as pyfluent\nimport ansys.systemcoupling.core as pysyc\n\nfrom ansys.systemcoupling.core import examples"
      ]
    },
    {
      "cell_type": "markdown",
      "metadata": {},
      "source": [
        "## Define functions\nThis example is broken into functions that define the main steps that\nneed to be performed. It makes particular sense to do this for the\nmain task of running a coupled analysis as that needs to be repeated\nfor multiple values of a single input parameter. This is encapsulated\nin ``get_max_displacement``. In turn, this is broken into further\nfunctions that represent its main steps. Also, define a function that prepares the\nworking directory (``setup_working_directory``) and one that plots the final\nresults (``plot``).\n\n### ``setup_working_directory``\nSet up the working directory with downloaded\ndata files for this example. The MAPDL files are placed in a\nsub-directory MAPDL of the working directory and the Fluent files\nin a sub-directory Fluent.\n\nThe function returns the path of the working directory for later use.\n\n"
      ]
    },
    {
      "cell_type": "code",
      "execution_count": null,
      "metadata": {
        "collapsed": false
      },
      "outputs": [],
      "source": [
        "def setup_working_directory():\n    examples.delete_downloads()\n\n    mapdl_scp_file = examples.download_file(\n        \"mapdl.scp\", \"pysystem-coupling/parametric_sweep_vel/Mapdl\"\n    )\n\n    fluent_scp_file = examples.download_file(\n        \"fluent.scp\", \"pysystem-coupling/parametric_sweep_vel/Fluent\"\n    )\n\n    mapdl_dat_file = examples.download_file(\n        \"ds.dat\", \"pysystem-coupling/parametric_sweep_vel/Mapdl\"\n    )\n\n    fluent_cas_file = examples.download_file(\n        \"case.cas.h5\", \"pysystem-coupling/parametric_sweep_vel/Fluent\"\n    )\n\n    working_dir = os.path.dirname(mapdl_scp_file)\n\n    fluent_working_dir = os.path.join(working_dir, \"Fluent\")\n    os.mkdir(fluent_working_dir)\n    mapdl_working_dir = os.path.join(working_dir, \"Mapdl\")\n    os.mkdir(mapdl_working_dir)\n\n    os.rename(fluent_cas_file, os.path.join(fluent_working_dir, \"case.cas.h5\"))\n    os.rename(mapdl_dat_file, os.path.join(mapdl_working_dir, \"ds.dat\"))\n    os.rename(fluent_scp_file, os.path.join(fluent_working_dir, \"fluent.scp\"))\n    os.rename(mapdl_scp_file, os.path.join(mapdl_working_dir, \"mapdl.scp\"))\n\n    return working_dir"
      ]
    },
    {
      "cell_type": "markdown",
      "metadata": {},
      "source": [
        "### ``set_inlet_velocity``\nModify the Fluent case to adjust the\ninlet velocity on the ``\"wall_inlet\"`` velocity inlet boundary\ncondition. This function is called with a varying ``inlet_velocity``\nparameter before each call of ``solve_coupled_analysis`` in\na sequence of analyses.\n\n"
      ]
    },
    {
      "cell_type": "code",
      "execution_count": null,
      "metadata": {
        "collapsed": false
      },
      "outputs": [],
      "source": [
        "def set_inlet_velocity(working_dir, inlet_velocity):\n  with pyfluent.launch_fluent(precision=\"double\", processor_count=2) as session:\n      case_file = os.path.join(working_dir, \"Fluent\", \"case.cas.h5\")\n      session.solver.root.file.read(file_type=\"case\", file_name=case_file)\n      session.solver.root.setup.boundary_conditions.velocity_inlet[\n          \"wall_inlet\"\n      ].vmag.constant = inlet_velocity\n      session.solver.tui.file.write_case(case_file)\n\n  print(f\"Inlet velocity is set to {inlet_velocity}\")"
      ]
    },
    {
      "cell_type": "markdown",
      "metadata": {},
      "source": [
        "### ``solve_coupled_analysis``\nPerform a single coupled analysis.\n\nIn this example, the only change between successive calls to this function\nis in the content of the Fluent input file that is used. The inlet velocity\nsetting is modified in the Fluent file prior to this function being called.\n\n<div class=\"alert alert-info\"><h4>Note</h4><p>System Coupling is launched anew for each call of\n   this function.\n\n   The ``with pysyc.launch(...)`` syntax ensures\n   that the System Coupling session is properly exited at the\n   end of the scope defined by the ``with`` block.</p></div>\n\n"
      ]
    },
    {
      "cell_type": "code",
      "execution_count": null,
      "metadata": {
        "collapsed": false
      },
      "outputs": [],
      "source": [
        "def solve_coupled_analysis(working_dir):\n    with pysyc.launch(working_dir=working_dir) as syc:\n        print(\"Setting up the coupled analysis\")\n\n        fluent_name = syc.setup.add_participant(\n            input_file = os.path.join(\"Fluent\", \"fluent.scp\"))\n\n        mapdl_name = syc.setup.add_participant(\n            input_file = os.path.join(\"Mapdl\", \"mapdl.scp\"))\n\n        fsi_name = syc.setup.add_interface(\n            side_one_participant = fluent_name, side_one_regions = ['wall_deforming'],\n            side_two_participant = mapdl_name, side_two_regions = ['FSIN_1'])\n\n        syc.setup.add_data_transfer(\n            interface = fsi_name, target_side = 'One',\n            source_variable = 'INCD', target_variable = 'displacement')\n\n        syc.setup.add_data_transfer(\n            interface = fsi_name, target_side = 'Two',\n            source_variable = 'force', target_variable = 'FORC')\n\n        syc.setup.solution_control.maximum_iterations = 7\n\n        print(\"Solving the coupled analysis. This may take a while...\")\n        syc.solution.solve()\n\n    print(\"...done!\")"
      ]
    },
    {
      "cell_type": "markdown",
      "metadata": {},
      "source": [
        "### ``extract_max_displacement``\nUse PyDPF to query the MAPDL results for the maximum displacement\nvalue in the solution.\n\n"
      ]
    },
    {
      "cell_type": "code",
      "execution_count": null,
      "metadata": {
        "collapsed": false
      },
      "outputs": [],
      "source": [
        "def extract_max_displacement(working_dir):\n  print(\"Extracting max displacement value\")\n  model = pydpf.Model(os.path.join(working_dir, \"Mapdl\", \"file.rst\"))\n  displacements = model.results.displacement()\n  fields = displacements.outputs.fields_container()\n  value = max([v[0] for v in fields[0].data])\n  print(\"Max displacement value = \" + str(value))\n  return value"
      ]
    },
    {
      "cell_type": "markdown",
      "metadata": {},
      "source": [
        "### ``get_max_displacement``\nUse the previously defined functions to:\n\n- Modify the Fluent input file to apply the provided ``inlet_velocity`` setting.\n- Run the coupled analysis based on that setting.\n- Extract and return the maximum displacement value from the MAPDL results.\n\n"
      ]
    },
    {
      "cell_type": "code",
      "execution_count": null,
      "metadata": {
        "collapsed": false
      },
      "outputs": [],
      "source": [
        "def get_max_displacement(working_dir, inlet_velocity):\n  set_inlet_velocity(working_dir, inlet_velocity)\n  solve_coupled_analysis(working_dir)\n  return extract_max_displacement(working_dir)"
      ]
    },
    {
      "cell_type": "markdown",
      "metadata": {},
      "source": [
        "### ``plot``\nGenerate an `x-y` plot of the results, showing\nmaximum displacement of the plate vs the inlet velocity.\n\n\n"
      ]
    },
    {
      "cell_type": "code",
      "execution_count": null,
      "metadata": {
        "collapsed": false
      },
      "outputs": [],
      "source": [
        "def plot(working_dir, x, y):\n  fig, ax = plt.subplots()\n  ax.plot(x, y, \"-o\")\n  ax.set(\n    xlabel=\"Inlet velocity [m/s]\",\n    ylabel='Max Displacement [m]',\n    title=\"Plate max displacement vs. inlet velocity\")\n  ax.grid()\n  plt.savefig(os.path.join(working_dir, \"displacement\"))"
      ]
    },
    {
      "cell_type": "markdown",
      "metadata": {},
      "source": [
        "## Run the analyses\nUse the ``get_max_displacement`` function sequentially, with input\nvelocity values provided by an initialized ``x`` array.\nThe results of the ``get_max_displacement`` calls are used to fill in the\ncorresponding values of the ``y`` array. Finally, call\nthe ``plot`` function to generate a plot from the arrays.\n\n"
      ]
    },
    {
      "cell_type": "code",
      "execution_count": null,
      "metadata": {
        "collapsed": false
      },
      "outputs": [],
      "source": [
        "x = np.array([5.0, 10.0, 15.0, 20.0, 25.0])\ny = np.array([0.0] * len(x))\n\nworking_dir = setup_working_directory()\n\nfor index, inlet_velocity in enumerate(x):\n  y[index] = get_max_displacement(working_dir, inlet_velocity)\n\nplot(working_dir, x, y)"
      ]
    }
  ],
  "metadata": {
    "kernelspec": {
      "display_name": "Python 3",
      "language": "python",
      "name": "python3"
    },
    "language_info": {
      "codemirror_mode": {
        "name": "ipython",
        "version": 3
      },
      "file_extension": ".py",
      "mimetype": "text/x-python",
      "name": "python",
      "nbconvert_exporter": "python",
      "pygments_lexer": "ipython3",
      "version": "3.8.10"
    }
  },
  "nbformat": 4,
  "nbformat_minor": 0
}