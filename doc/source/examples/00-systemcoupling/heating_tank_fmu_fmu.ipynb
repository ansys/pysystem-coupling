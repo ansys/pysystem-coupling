{
  "cells": [
    {
      "cell_type": "markdown",
      "metadata": {},
      "source": [
        "\n",
        "# FMU-FMU cosimulation of a heating tank & heater\n",
        "\n",
        "This demo illustrates a transient coupled simulation of convection\n",
        "heating of a fluid in a cylindrical tank. The heat source and heating\n",
        "tank are controlled via two FMUs that share temperature and heat flow\n",
        "data with one another.\n",
        "\n",
        "- One FMU is used to model the fluid in the tank.\n",
        "- Another FMU is used to model the controlled heat source at the bottom\n",
        "  of the tank.\n",
        "- System Coupling coordinates the simultaneous execution of the solvers \n",
        "  and the data transfers between them.\n",
        "\n",
        "**Problem description**\n",
        "\n",
        "The tank is modelled as a uniform-temperature fluid heated by a\n",
        "thermostat and experiencing convective cooling at its top. The\n",
        "temperature of the fluid is available as an output, modelling a sensor\n",
        "in the tank. The FMU has six parameters that can be set:\n",
        "\n",
        "    - Height and base radius of the cylindrical tank [m]\n",
        "    - Density [kg/m\\ :sup:`3`\\ ] and specific heat [W/kgK] of the fluid\n",
        "      (by default, set to the properties of water)\n",
        "    - Convection heat transfer coefficient between the fluid and its\n",
        "      surroundings [W/m\\ :sup:`2`\\ K]\n",
        "    - Temperature of the tank's surroundings [K].\n",
        "\n",
        "The thermostat receives a temperature from the tank sensor and outputs\n",
        "a heat-rate. The FMU has three parameters that can be set:\n",
        "\n",
        "    - Target temperature [K]\n",
        "    - Maximum heat output [W]\n",
        "    - Heat scale factor [W/K].\n",
        "\n",
        "Two coupling interfaces :\n",
        "\n",
        "    - sensor coupling interface\n",
        "    - heat source coupling interface\n",
        "\n",
        "Two data transfers :\n",
        "\n",
        "    - temperature\n",
        "    - heat flow\n"
      ]
    },
    {
      "cell_type": "code",
      "execution_count": null,
      "metadata": {
        "collapsed": false
      },
      "outputs": [],
      "source": [
        "# Tags: FMU, transient"
      ]
    },
    {
      "cell_type": "markdown",
      "metadata": {},
      "source": [
        "# Set up example\n",
        "Setting up this example consists of performing imports, downloading\n",
        "input files, and launching System Coupling.\n",
        "\n",
        "## Perform required imports\n",
        "Import the ``ansys-systemcoupling-core`` package and other required packages.\n",
        "\n"
      ]
    },
    {
      "cell_type": "code",
      "execution_count": null,
      "metadata": {
        "collapsed": false
      },
      "outputs": [],
      "source": [
        "import ansys.systemcoupling.core as pysystemcoupling\n",
        "from ansys.systemcoupling.core import examples"
      ]
    },
    {
      "cell_type": "markdown",
      "metadata": {},
      "source": [
        "## Download input files\n",
        "Clear the downloads target directory (which is to be used as the\n",
        "working directory). Download the FMU files, which define the\n",
        "participant-specific setup information.\n",
        "\n"
      ]
    },
    {
      "cell_type": "code",
      "execution_count": null,
      "metadata": {
        "collapsed": false
      },
      "outputs": [],
      "source": [
        "examples.delete_downloads()\n",
        "fmu_file_heater = examples.download_file(\n",
        "    \"thermostat.fmu\", \"pysystem-coupling/heating_tank_fmu/FMU\"\n",
        ")\n",
        "fmu_file_tank = examples.download_file(\n",
        "    \"heatingTank.fmu\", \"pysystem-coupling/heating_tank_fmu_fmu/FMU\"\n",
        ")"
      ]
    },
    {
      "cell_type": "markdown",
      "metadata": {},
      "source": [
        "## Launch System Coupling\n",
        "Launch a remote System Coupling instance and return a *client* object\n",
        "(a ``Session`` object) that allows you to interact with System Coupling\n",
        "via an API exposed into the current Python environment.\n",
        "\n"
      ]
    },
    {
      "cell_type": "code",
      "execution_count": null,
      "metadata": {
        "collapsed": false
      },
      "outputs": [],
      "source": [
        "syc = pysystemcoupling.launch()"
      ]
    },
    {
      "cell_type": "markdown",
      "metadata": {},
      "source": [
        "# Create analysis\n",
        "Creating the analysis consists of accessing the ``setup`` API,\n",
        "loading participants, creating and verifying both interfaces and\n",
        "data transfers, querying for setup errors, and modifying settings.\n",
        "\n",
        "## Access the ``setup`` API\n",
        "\n"
      ]
    },
    {
      "cell_type": "code",
      "execution_count": null,
      "metadata": {
        "collapsed": false
      },
      "outputs": [],
      "source": [
        "setup = syc.setup"
      ]
    },
    {
      "cell_type": "markdown",
      "metadata": {},
      "source": [
        "## Add participants\n",
        "Use ``add_participant`` to create ``coupling_participant`` objects\n",
        "representing the FMU participants, based on the previously defined\n",
        "setup information.\n",
        "\n"
      ]
    },
    {
      "cell_type": "code",
      "execution_count": null,
      "metadata": {
        "collapsed": false
      },
      "outputs": [],
      "source": [
        "heater_part_name = setup.add_participant(input_file=fmu_file_heater)\n",
        "tank_part_name = setup.add_participant(input_file=fmu_file_tank)"
      ]
    },
    {
      "cell_type": "markdown",
      "metadata": {},
      "source": [
        "## FMU settings\n",
        "Change FMU parameters by accessing ``fmu_parameter``\n",
        "\n"
      ]
    },
    {
      "cell_type": "code",
      "execution_count": null,
      "metadata": {
        "collapsed": false
      },
      "outputs": [],
      "source": [
        "# Change the \"maximum heat output\" settings\n",
        "setup.coupling_participant[heater_part_name].fmu_parameter[\"Real_2\"].real_value = 10.0"
      ]
    },
    {
      "cell_type": "markdown",
      "metadata": {},
      "source": [
        "Change the \"target temperature\" settings\n",
        "\n"
      ]
    },
    {
      "cell_type": "code",
      "execution_count": null,
      "metadata": {
        "collapsed": false
      },
      "outputs": [],
      "source": [
        "setup.coupling_participant[heater_part_name].fmu_parameter[\"Real_3\"].real_value = 350.0"
      ]
    },
    {
      "cell_type": "markdown",
      "metadata": {},
      "source": [
        "Change the \"heat scale factor\" settings\n",
        "\n"
      ]
    },
    {
      "cell_type": "code",
      "execution_count": null,
      "metadata": {
        "collapsed": false
      },
      "outputs": [],
      "source": [
        "setup.coupling_participant[heater_part_name].fmu_parameter[\"Real_4\"].real_value = 2.0"
      ]
    },
    {
      "cell_type": "markdown",
      "metadata": {},
      "source": [
        "## Create interfaces and data transfers\n",
        "Create interfaces and data transfers by specifying participant variables\n",
        "to map to one another. This consists of calling the appropriate commands\n",
        "to create an interface and both temperature and heat flow data transfers.\n",
        "\n"
      ]
    },
    {
      "cell_type": "code",
      "execution_count": null,
      "metadata": {
        "collapsed": false
      },
      "outputs": [],
      "source": [
        "# Create a coupling interface for tank <-> heater (sensor, heat source)\n",
        "interface = setup.add_interface(\n",
        "    side_one_participant=tank_part_name, side_two_participant=heater_part_name\n",
        ")\n",
        "\n",
        "# Create data transfer for \"temperature\"\n",
        "temperatureDataTransfer = setup.add_data_transfer(\n",
        "    interface=interface,\n",
        "    target_side=\"Two\",\n",
        "    source_variable=\"Real_0\",\n",
        "    target_variable=\"Real_0\",\n",
        ")\n",
        "\n",
        "# Create data transfer for \"heatflow\"\n",
        "heatFlowDataTransfer = setup.add_data_transfer(\n",
        "    interface=interface,\n",
        "    target_side=\"One\",\n",
        "    source_variable=\"Real_1\",\n",
        "    target_variable=\"Real_1\",\n",
        ")"
      ]
    },
    {
      "cell_type": "markdown",
      "metadata": {},
      "source": [
        "Change the ``time_step_size`` setting.\n",
        "\n"
      ]
    },
    {
      "cell_type": "code",
      "execution_count": null,
      "metadata": {
        "collapsed": false
      },
      "outputs": [],
      "source": [
        "setup.solution_control.time_step_size = \"1 [s]\""
      ]
    },
    {
      "cell_type": "markdown",
      "metadata": {},
      "source": [
        "Change the ``end_time`` setting.\n",
        "\n"
      ]
    },
    {
      "cell_type": "code",
      "execution_count": null,
      "metadata": {
        "collapsed": false
      },
      "outputs": [],
      "source": [
        "setup.solution_control.end_time = \"50 [s]\""
      ]
    },
    {
      "cell_type": "markdown",
      "metadata": {},
      "source": [
        "Change the ``minimum_iterations`` and ``maximum_iterations`` settings.\n",
        "\n"
      ]
    },
    {
      "cell_type": "code",
      "execution_count": null,
      "metadata": {
        "collapsed": false
      },
      "outputs": [],
      "source": [
        "setup.solution_control.minimum_iterations = 1\n",
        "setup.solution_control.maximum_iterations = 5"
      ]
    },
    {
      "cell_type": "markdown",
      "metadata": {},
      "source": [
        "Set the ``option`` setting.\n",
        "\n"
      ]
    },
    {
      "cell_type": "code",
      "execution_count": null,
      "metadata": {
        "collapsed": false
      },
      "outputs": [],
      "source": [
        "setup.output_control.option = \"StepInterval\""
      ]
    },
    {
      "cell_type": "markdown",
      "metadata": {},
      "source": [
        "Change the ``output_frequency`` frequency setting.\n",
        "\n"
      ]
    },
    {
      "cell_type": "code",
      "execution_count": null,
      "metadata": {
        "collapsed": false
      },
      "outputs": [],
      "source": [
        "setup.output_control.output_frequency = 2"
      ]
    },
    {
      "cell_type": "markdown",
      "metadata": {},
      "source": [
        "Change the ``generate_csv_chart_output`` setting to record the temperature\n",
        "and heat rate values over time in a ``.csv`` file. This step is necessary\n",
        "to chart the data after solving.\n",
        "\n"
      ]
    },
    {
      "cell_type": "code",
      "execution_count": null,
      "metadata": {
        "collapsed": false
      },
      "outputs": [],
      "source": [
        "setup.output_control.generate_csv_chart_output = True"
      ]
    },
    {
      "cell_type": "markdown",
      "metadata": {},
      "source": [
        "# Run solution\n",
        "The System Coupling server's ``stdout`` and ``stderr`` output is not shown\n",
        "in PySystemCoupling by default. To see it, turn output streaming on.\n",
        "\n"
      ]
    },
    {
      "cell_type": "code",
      "execution_count": null,
      "metadata": {
        "collapsed": false
      },
      "outputs": [],
      "source": [
        "syc.start_output()"
      ]
    },
    {
      "cell_type": "markdown",
      "metadata": {},
      "source": [
        "Access the ``solve`` command via the ``solution`` API.\n",
        "\n"
      ]
    },
    {
      "cell_type": "code",
      "execution_count": null,
      "metadata": {
        "collapsed": false
      },
      "outputs": [],
      "source": [
        "solution = syc.solution\n",
        "solution.solve()"
      ]
    },
    {
      "cell_type": "markdown",
      "metadata": {},
      "source": [
        "Plot graphs of temperature and heat rate over time using System Coupling's\n",
        "charting command.\n",
        "\n"
      ]
    },
    {
      "cell_type": "code",
      "execution_count": null,
      "metadata": {
        "collapsed": false
      },
      "outputs": [],
      "source": [
        "syc.solution.show_plot(interface_name=interface, show_convergence=False)"
      ]
    },
    {
      "cell_type": "markdown",
      "metadata": {},
      "source": [
        "Terminate the system coupling session with ``exit``.\n",
        "\n"
      ]
    },
    {
      "cell_type": "code",
      "execution_count": null,
      "metadata": {
        "collapsed": false
      },
      "outputs": [],
      "source": [
        "syc.exit()"
      ]
    }
  ],
  "metadata": {
    "kernelspec": {
      "display_name": "Python 3",
      "language": "python",
      "name": "python3"
    },
    "language_info": {
      "codemirror_mode": {
        "name": "ipython",
        "version": 3
      },
      "file_extension": ".py",
      "mimetype": "text/x-python",
      "name": "python",
      "nbconvert_exporter": "python",
      "pygments_lexer": "ipython3",
      "version": "3.9.13"
    }
  },
  "nbformat": 4,
  "nbformat_minor": 0
}
