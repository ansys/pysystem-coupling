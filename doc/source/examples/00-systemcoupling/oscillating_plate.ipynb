{
  "cells": [
    {
      "cell_type": "code",
      "execution_count": null,
      "metadata": {
        "collapsed": false
      },
      "outputs": [],
      "source": [
        "%matplotlib inline"
      ]
    },
    {
      "cell_type": "markdown",
      "metadata": {},
      "source": [
        "\n# Oscillating Plate tutorial case\n\nThis example is a version of the `Oscillating Plate` case, which is\noften used as an introductory tutorial case for System Coupling. It\nis a two-way fluid-structural interaction (FSI) case, based on transient\noscillating plate co-simulation with 2D data transfers.\n\nIn this version, MAPDL performs a transient-structural analysis and\nFluent performs a transient fluid-flow analysis, while System Coupling\ncoordinates the simultaneous execution of the solvers and the data\ntransfers between their coupled surface regions.\n\n## Problem description\n\nThis tutorial uses an example of an oscillating plate within a\nfluid-filled cavity. A thin plate is anchored to the bottom of\na closed cavity filled with fluid (air), as shown in the image below.\n\nThere is no friction between the plate and the side of the cavity. An\ninitial pressure of 100 Pa is applied to one side of the thin plate\nfor 0.5 s to distort it. Once this pressure is released, the plate\noscillates back and forth to regain its equilibrium, and the\nsurrounding air damps this oscillation. The plate and surrounding\nair are simulated for a few oscillations to allow an examination of the\nmotion of the plate as it is damped.\n\n<img src=\"file://_static/img_oscplate_case.png\" width=\"400pt\" align=\"center\">\n"
      ]
    },
    {
      "cell_type": "markdown",
      "metadata": {},
      "source": [
        "# Example Setup\n\n## Perform required imports\nImport the PySystemCoupling package and other required imports, and download\nthe input files for this example.\n\n"
      ]
    },
    {
      "cell_type": "code",
      "execution_count": null,
      "metadata": {
        "collapsed": false
      },
      "outputs": [],
      "source": [
        "import os\nfrom pprint import pprint\nimport ansys.systemcoupling.core as pysystemcoupling\nfrom ansys.systemcoupling.core import examples"
      ]
    },
    {
      "cell_type": "markdown",
      "metadata": {},
      "source": [
        "## Download the input files for this example\n\nClear the downloads target directory (which is going to be used as the\nworking directory). Download the \"SCP\" files for Fluent and MAPDL, which\nprovide solver-specifc  information to System Coupling, and the respective\nsolver input files for each solver run.\n\n\n"
      ]
    },
    {
      "cell_type": "code",
      "execution_count": null,
      "metadata": {
        "collapsed": false
      },
      "outputs": [],
      "source": [
        "examples.delete_downloads()\n\nmapdl_scp_file = examples.download_file(\n    \"mapdl.scp\", \"pysystem-coupling/oscillating_plate\"\n)\n\nfluent_scp_file = examples.download_file(\n    \"fluent.scp\", \"pysystem-coupling/oscillating_plate\"\n)\n\nmapdl_dat_file = examples.download_file(\n    \"mapdl.dat\", \"pysystem-coupling/oscillating_plate/MAPDL\"\n)\n\nfluent_cas_file = examples.download_file(\n    \"plate.cas.gz\", \"pysystem-coupling/oscillating_plate/Fluent\"\n)"
      ]
    },
    {
      "cell_type": "markdown",
      "metadata": {},
      "source": [
        "## Prepare the expected directory structure\nThe target download directory is used as the working directory.\nThe SCP files are defined such that there is expected to be a Fluent\nsub-directory in which Fluent runs, and an MAPDL sub-directory in\nwhich MAPDL runs. These directories should contain their respective\ninput/case files.\n\n"
      ]
    },
    {
      "cell_type": "code",
      "execution_count": null,
      "metadata": {
        "collapsed": false
      },
      "outputs": [],
      "source": [
        "working_dir = os.path.dirname(mapdl_scp_file)\n\nfluent_working_dir = os.path.join(working_dir, \"Fluent\")\nos.mkdir(fluent_working_dir)\nmapdl_working_dir = os.path.join(working_dir, \"MAPDL\")\nos.mkdir(mapdl_working_dir)\n\nos.rename(fluent_cas_file, os.path.join(fluent_working_dir, \"plate.cas.gz\"))\nos.rename(mapdl_dat_file, os.path.join(mapdl_working_dir, \"mapdl.dat\"))"
      ]
    },
    {
      "cell_type": "markdown",
      "metadata": {},
      "source": [
        "## Launch System Coupling\nLaunch a remote System Coupling instance and return a \"client\" object\n(a ``Session`` object) that allows you to interact with System Coupling\nvia an API exposed into the current Python environment.\n\n"
      ]
    },
    {
      "cell_type": "code",
      "execution_count": null,
      "metadata": {
        "collapsed": false
      },
      "outputs": [],
      "source": [
        "syc = pysystemcoupling.launch(working_dir=working_dir)"
      ]
    },
    {
      "cell_type": "markdown",
      "metadata": {},
      "source": [
        "## Create analysis\n\nAccess the `setup` API:\n\n"
      ]
    },
    {
      "cell_type": "code",
      "execution_count": null,
      "metadata": {
        "collapsed": false
      },
      "outputs": [],
      "source": [
        "setup = syc.setup"
      ]
    },
    {
      "cell_type": "markdown",
      "metadata": {},
      "source": [
        "### Load participants\nUse ``add_participant`` to create ``coupling_participant`` objects\nrepresenting the Fluent and MAPDL participants, based on the data\nin the `scp` files that were previously exported by the respective\nproducts.\n\n"
      ]
    },
    {
      "cell_type": "code",
      "execution_count": null,
      "metadata": {
        "collapsed": false
      },
      "outputs": [],
      "source": [
        "mapdl_part_name = setup.add_participant(input_file=\"mapdl.scp\")\nfluent_part_name = setup.add_participant(input_file=\"fluent.scp\")"
      ]
    },
    {
      "cell_type": "markdown",
      "metadata": {},
      "source": [
        "Verify that the ``coupling_participant`` objects now exist:\n\n"
      ]
    },
    {
      "cell_type": "code",
      "execution_count": null,
      "metadata": {
        "collapsed": false
      },
      "outputs": [],
      "source": [
        "setup.coupling_participant.keys()"
      ]
    },
    {
      "cell_type": "markdown",
      "metadata": {},
      "source": [
        "### Create interfaces and data transfers by specifying participant regions\nCall the appropriate commands to create an interface, and force and\ndisplacement data transfers.\n\n"
      ]
    },
    {
      "cell_type": "code",
      "execution_count": null,
      "metadata": {
        "collapsed": false
      },
      "outputs": [],
      "source": [
        "interface_name = setup.add_interface(\n    side_one_participant = mapdl_part_name, side_one_regions = ['FSIN_1'],\n    side_two_participant = fluent_part_name, side_two_regions = ['wall_deforming'])\n\nforce_transfer_name = setup.add_data_transfer(\n    interface=interface_name,\n    target_side=\"One\",\n    side_one_variable=\"FORC\",\n    side_two_variable=\"force\",\n)\n\ndisp_transfer_name = setup.add_data_transfer(\n    interface=interface_name,\n    target_side=\"Two\",\n    side_one_variable=\"INCD\",\n    side_two_variable=\"displacement\",\n)"
      ]
    },
    {
      "cell_type": "markdown",
      "metadata": {},
      "source": [
        "### Verify creation of interface and data transfers\nConfirm the coupling interface exists:\n\n"
      ]
    },
    {
      "cell_type": "code",
      "execution_count": null,
      "metadata": {
        "collapsed": false
      },
      "outputs": [],
      "source": [
        "setup.coupling_interface.keys()"
      ]
    },
    {
      "cell_type": "markdown",
      "metadata": {},
      "source": [
        "Examine the coupling interface state. Note the ``\"FORC\"`` and ``\"displacement\"``\n``data_transfer`` child objects:\n\n"
      ]
    },
    {
      "cell_type": "code",
      "execution_count": null,
      "metadata": {
        "collapsed": false
      },
      "outputs": [],
      "source": [
        "setup.coupling_interface[interface_name].print_state()"
      ]
    },
    {
      "cell_type": "markdown",
      "metadata": {},
      "source": [
        "### Query for any current setup errors\nA coupled analysis setup cannot be solved if there\nare any errors. Errors are indicated by messages with\n``level`` field set to ``Error``. Here, it is seen that\nthere are two missing settings that need to be corrected.\nThere is also an ``Information`` level message that\nadvises that, once the current setup is solved, it is\nnot possible to restart it from any point except the\nlast step.\n\n"
      ]
    },
    {
      "cell_type": "code",
      "execution_count": null,
      "metadata": {
        "collapsed": false
      },
      "outputs": [],
      "source": [
        "pprint(setup.get_status_messages())"
      ]
    },
    {
      "cell_type": "markdown",
      "metadata": {},
      "source": [
        "<div class=\"alert alert-info\"><h4>Note</h4><p>In the current release of PySystemCoupling, ``get_status_messages``\n   provides messages generated by System Coupling using its native\n   terminology. This means that any settings identifiers that are\n   mentioned in messages are in System Coupling's usual `camel case` format.\n\n   In most cases, it should be obvious how to translate to the\n   corresponding PySystemCoupling setting. For example ``EndTime``\n   in System Coupling's ``OutputControl`` object corresponds to the\n   PySystemCoupling ``output_control.end_time`` setting.</p></div>\n\n"
      ]
    },
    {
      "cell_type": "markdown",
      "metadata": {},
      "source": [
        "### Modify settings\n\nView contents of ``solution_control``. Notice that\n``time_step_size`` and ``end_time`` are unset,\nconsistent with what was shown in the status messages.\nValues shown in the ``print_state`` output as ``<None>``\nactually have Python values of ``None``.\n\n"
      ]
    },
    {
      "cell_type": "code",
      "execution_count": null,
      "metadata": {
        "collapsed": false
      },
      "outputs": [],
      "source": [
        "setup.solution_control.print_state()"
      ]
    },
    {
      "cell_type": "markdown",
      "metadata": {},
      "source": [
        "Change ``time_step_size`` setting:\n\n"
      ]
    },
    {
      "cell_type": "code",
      "execution_count": null,
      "metadata": {
        "collapsed": false
      },
      "outputs": [],
      "source": [
        "setup.solution_control.time_step_size = \"0.1 [s]\""
      ]
    },
    {
      "cell_type": "markdown",
      "metadata": {},
      "source": [
        "Verify setting:\n\n"
      ]
    },
    {
      "cell_type": "code",
      "execution_count": null,
      "metadata": {
        "collapsed": false
      },
      "outputs": [],
      "source": [
        "setup.solution_control.time_step_size"
      ]
    },
    {
      "cell_type": "markdown",
      "metadata": {},
      "source": [
        "Change ``end_time``:\n\n"
      ]
    },
    {
      "cell_type": "code",
      "execution_count": null,
      "metadata": {
        "collapsed": false
      },
      "outputs": [],
      "source": [
        "setup.solution_control.end_time = \"1.0 [s]\""
      ]
    },
    {
      "cell_type": "markdown",
      "metadata": {},
      "source": [
        "View ``output_control``:\n\n"
      ]
    },
    {
      "cell_type": "code",
      "execution_count": null,
      "metadata": {
        "collapsed": false
      },
      "outputs": [],
      "source": [
        "setup.output_control.print_state()"
      ]
    },
    {
      "cell_type": "markdown",
      "metadata": {},
      "source": [
        "Set ``option`` in ``output_control``. First, see valid options:\n\n"
      ]
    },
    {
      "cell_type": "code",
      "execution_count": null,
      "metadata": {
        "collapsed": false
      },
      "outputs": [],
      "source": [
        "setup.output_control.get_property_options(\"option\")"
      ]
    },
    {
      "cell_type": "markdown",
      "metadata": {},
      "source": [
        "Set output option:\n\n"
      ]
    },
    {
      "cell_type": "code",
      "execution_count": null,
      "metadata": {
        "collapsed": false
      },
      "outputs": [],
      "source": [
        "setup.output_control.option = \"StepInterval\""
      ]
    },
    {
      "cell_type": "markdown",
      "metadata": {},
      "source": [
        "Change ``output_frequency``:\n\n"
      ]
    },
    {
      "cell_type": "code",
      "execution_count": null,
      "metadata": {
        "collapsed": false
      },
      "outputs": [],
      "source": [
        "setup.output_control.output_frequency = 2"
      ]
    },
    {
      "cell_type": "markdown",
      "metadata": {},
      "source": [
        "View ``output_control`` again:\n\n"
      ]
    },
    {
      "cell_type": "code",
      "execution_count": null,
      "metadata": {
        "collapsed": false
      },
      "outputs": [],
      "source": [
        "setup.output_control.print_state()"
      ]
    },
    {
      "cell_type": "markdown",
      "metadata": {},
      "source": [
        "## Review setup\n\nVerify that there are no longer any setup errors:\n\n"
      ]
    },
    {
      "cell_type": "code",
      "execution_count": null,
      "metadata": {
        "collapsed": false
      },
      "outputs": [],
      "source": [
        "pprint(setup.get_status_messages())"
      ]
    },
    {
      "cell_type": "markdown",
      "metadata": {},
      "source": [
        "``get_setup_summary`` returns a string showing a summary of\nthe coupled analysis setup. This is also shown in the\ntranscript output when the solve is started, but it can\nbe useful to review this before starting the solve.\n\n"
      ]
    },
    {
      "cell_type": "code",
      "execution_count": null,
      "metadata": {
        "collapsed": false
      },
      "outputs": [],
      "source": [
        "print(setup.get_setup_summary())"
      ]
    },
    {
      "cell_type": "markdown",
      "metadata": {},
      "source": [
        "# Run solution\n\nThe System Coupling server's ``stdout``/``stderr`` output is not shown\nin PySystemCoupling by default. To see it, output streaming must be turned on:\n\n"
      ]
    },
    {
      "cell_type": "code",
      "execution_count": null,
      "metadata": {
        "collapsed": false
      },
      "outputs": [],
      "source": [
        "syc.start_output()"
      ]
    },
    {
      "cell_type": "markdown",
      "metadata": {},
      "source": [
        "Access ``solve`` via the ``solution`` API.\n\n"
      ]
    },
    {
      "cell_type": "code",
      "execution_count": null,
      "metadata": {
        "collapsed": false
      },
      "outputs": [],
      "source": [
        "solution = syc.solution\nsolution.solve()"
      ]
    },
    {
      "cell_type": "markdown",
      "metadata": {},
      "source": [
        "# Extend analysis end time for a restarted run\n\nAccess the ``case`` API for file handling and persistence.\nUse this to completely clear the current case and reload\nfrom the one saved during the solve.\n\n"
      ]
    },
    {
      "cell_type": "code",
      "execution_count": null,
      "metadata": {
        "collapsed": false
      },
      "outputs": [],
      "source": [
        "case = syc.case\ncase.clear_state()\ncase.open()"
      ]
    },
    {
      "cell_type": "markdown",
      "metadata": {},
      "source": [
        "## Extend analysis\n\nView ``solution_control``, change ``end-time`` and verify setting.\nThe analysis is extended to 1.5 seconds.\n\n"
      ]
    },
    {
      "cell_type": "code",
      "execution_count": null,
      "metadata": {
        "collapsed": false
      },
      "outputs": [],
      "source": [
        "setup.solution_control.print_state()\nsetup.solution_control.end_time = \"1.5 [s]\"\nsetup.solution_control.print_state()"
      ]
    },
    {
      "cell_type": "markdown",
      "metadata": {},
      "source": [
        "## Additional settings changes\n\nExamine ``\"Force\"`` data transfer.\n\n"
      ]
    },
    {
      "cell_type": "code",
      "execution_count": null,
      "metadata": {
        "collapsed": false
      },
      "outputs": [],
      "source": [
        "force_transfer = setup.coupling_interface[interface_name].data_transfer[\n    force_transfer_name\n]\nforce_transfer.print_state()"
      ]
    },
    {
      "cell_type": "markdown",
      "metadata": {},
      "source": [
        "Change a setting in the ``\"Force\"`` data transfer, and increase the\nminimum iterations value in ``solutions_control`` from its default\nvalue of 1.\n\n"
      ]
    },
    {
      "cell_type": "code",
      "execution_count": null,
      "metadata": {
        "collapsed": false
      },
      "outputs": [],
      "source": [
        "force_transfer.convergence_target = 0.001\n\nsetup.solution_control.minimum_iterations = 2"
      ]
    },
    {
      "cell_type": "markdown",
      "metadata": {},
      "source": [
        "## Review setup\n\n"
      ]
    },
    {
      "cell_type": "code",
      "execution_count": null,
      "metadata": {
        "collapsed": false
      },
      "outputs": [],
      "source": [
        "print(setup.get_setup_summary())"
      ]
    },
    {
      "cell_type": "markdown",
      "metadata": {},
      "source": [
        "# Restart solution\n\n"
      ]
    },
    {
      "cell_type": "code",
      "execution_count": null,
      "metadata": {
        "collapsed": false
      },
      "outputs": [],
      "source": [
        "solution.solve()"
      ]
    },
    {
      "cell_type": "markdown",
      "metadata": {},
      "source": [
        "Stop streaming output from server and shut down this server instance:\n\n"
      ]
    },
    {
      "cell_type": "code",
      "execution_count": null,
      "metadata": {
        "collapsed": false
      },
      "outputs": [],
      "source": [
        "syc.end_output()\nsyc.exit()"
      ]
    },
    {
      "cell_type": "markdown",
      "metadata": {},
      "source": [
        "<div class=\"alert alert-info\"><h4>Note</h4><p>This ``syc`` object is now \"defunct\" and any attempt to\n   use it to perform any further action yields an error. To do\n   more in the current Python session, create a new ``syc`` instance\n   using ``syc = pysystemcoupling.launch()`` again.)</p></div>\n\n"
      ]
    }
  ],
  "metadata": {
    "kernelspec": {
      "display_name": "Python 3",
      "language": "python",
      "name": "python3"
    },
    "language_info": {
      "codemirror_mode": {
        "name": "ipython",
        "version": 3
      },
      "file_extension": ".py",
      "mimetype": "text/x-python",
      "name": "python",
      "nbconvert_exporter": "python",
      "pygments_lexer": "ipython3",
      "version": "3.8.10"
    }
  },
  "nbformat": 4,
  "nbformat_minor": 0
}