{
  "cells": [
    {
      "cell_type": "code",
      "execution_count": null,
      "metadata": {
        "collapsed": false
      },
      "outputs": [],
      "source": [
        "%matplotlib inline"
      ]
    },
    {
      "cell_type": "markdown",
      "metadata": {},
      "source": [
        "\n",
        "# Oscillating Plate tutorial case\n",
        "\n",
        "This example is a version of the `Oscillating Plate` case, which is\n",
        "often used as an introductory tutorial case for System Coupling. It\n",
        "is a two-way fluid-structural interaction (FSI) case, based on transient\n",
        "oscillating plate co-simulation with 2D data transfers.\n",
        "\n",
        "In this version, MAPDL performs a transient-structural analysis and\n",
        "Fluent performs a transient fluid-flow analysis, while System Coupling\n",
        "coordinates the simultaneous execution of the solvers and the data\n",
        "transfers between their coupled surface regions.\n",
        "\n",
        "## Problem description\n",
        "\n",
        "This tutorial uses an example of an oscillating plate within a\n",
        "fluid-filled cavity. A thin plate is anchored to the bottom of\n",
        "a closed cavity filled with fluid (air), as shown in the image below.\n",
        "\n",
        "There is no friction between the plate and the side of the cavity. An\n",
        "initial pressure of 100 Pa is applied to one side of the thin plate\n",
        "for 0.5 s to distort it. Once this pressure is released, the plate\n",
        "oscillates back and forth to regain its equilibrium, and the\n",
        "surrounding air damps this oscillation. The plate and surrounding\n",
        "air are simulated for a few oscillations to allow an examination of the\n",
        "motion of the plate as it is damped.\n",
        "\n",
        "<img src=\"file://_static/img_oscplate_case.png\" width=\"400pt\" align=\"center\">\n"
      ]
    },
    {
      "cell_type": "markdown",
      "metadata": {},
      "source": [
        "# Example Setup\n",
        "\n",
        "## Perform required imports\n",
        "Import the PySystemCoupling package and other required imports, and download\n",
        "the input files for this example.\n",
        "\n"
      ]
    },
    {
      "cell_type": "code",
      "execution_count": null,
      "metadata": {
        "collapsed": false
      },
      "outputs": [],
      "source": [
        "import os\n",
        "from pprint import pprint\n",
        "import ansys.systemcoupling.core as pysystemcoupling\n",
        "from ansys.systemcoupling.core import examples"
      ]
    },
    {
      "cell_type": "markdown",
      "metadata": {},
      "source": [
        "## Download the input files for this example\n",
        "\n",
        "Clear the downloads target directory (which is going to be used as the\n",
        "working directory). Download the \"SCP\" files for Fluent and MAPDL, which\n",
        "provide solver-specifc  information to System Coupling, and the respective\n",
        "solver input files for each solver run.\n",
        "\n",
        "\n"
      ]
    },
    {
      "cell_type": "code",
      "execution_count": null,
      "metadata": {
        "collapsed": false
      },
      "outputs": [],
      "source": [
        "examples.delete_downloads()\n",
        "\n",
        "mapdl_scp_file = examples.download_file(\n",
        "    \"mapdl.scp\", \"pysystem-coupling/oscillating_plate\"\n",
        ")\n",
        "\n",
        "fluent_scp_file = examples.download_file(\n",
        "    \"fluent.scp\", \"pysystem-coupling/oscillating_plate\"\n",
        ")\n",
        "\n",
        "mapdl_dat_file = examples.download_file(\n",
        "    \"mapdl.dat\", \"pysystem-coupling/oscillating_plate/MAPDL\"\n",
        ")\n",
        "\n",
        "fluent_cas_file = examples.download_file(\n",
        "    \"plate.cas.gz\", \"pysystem-coupling/oscillating_plate/Fluent\"\n",
        ")"
      ]
    },
    {
      "cell_type": "markdown",
      "metadata": {},
      "source": [
        "## Prepare the expected directory structure\n",
        "The target download directory is used as the working directory.\n",
        "The SCP files are defined such that there is expected to be a Fluent\n",
        "sub-directory in which Fluent runs, and an MAPDL sub-directory in\n",
        "which MAPDL runs. These directories should contain their respective\n",
        "input/case files.\n",
        "\n"
      ]
    },
    {
      "cell_type": "code",
      "execution_count": null,
      "metadata": {
        "collapsed": false
      },
      "outputs": [],
      "source": [
        "working_dir = os.path.dirname(mapdl_scp_file)\n",
        "\n",
        "fluent_working_dir = os.path.join(working_dir, \"Fluent\")\n",
        "os.mkdir(fluent_working_dir)\n",
        "mapdl_working_dir = os.path.join(working_dir, \"MAPDL\")\n",
        "os.mkdir(mapdl_working_dir)\n",
        "\n",
        "os.rename(fluent_cas_file, os.path.join(fluent_working_dir, \"plate.cas.gz\"))\n",
        "os.rename(mapdl_dat_file, os.path.join(mapdl_working_dir, \"mapdl.dat\"))"
      ]
    },
    {
      "cell_type": "markdown",
      "metadata": {},
      "source": [
        "## Launch System Coupling\n",
        "Launch a remote System Coupling instance and return a \"client\" object\n",
        "(a ``Session`` object) that allows you to interact with System Coupling\n",
        "via an API exposed into the current Python environment.\n",
        "\n"
      ]
    },
    {
      "cell_type": "code",
      "execution_count": null,
      "metadata": {
        "collapsed": false
      },
      "outputs": [],
      "source": [
        "syc = pysystemcoupling.launch(working_dir=working_dir)"
      ]
    },
    {
      "cell_type": "markdown",
      "metadata": {},
      "source": [
        "## Create analysis\n",
        "\n",
        "Access the `setup` API:\n",
        "\n"
      ]
    },
    {
      "cell_type": "code",
      "execution_count": null,
      "metadata": {
        "collapsed": false
      },
      "outputs": [],
      "source": [
        "setup = syc.setup"
      ]
    },
    {
      "cell_type": "markdown",
      "metadata": {},
      "source": [
        "### Load participants\n",
        "Use ``add_participant`` to create ``coupling_participant`` objects\n",
        "representing the Fluent and MAPDL participants, based on the data\n",
        "in the `scp` files that were previously exported by the respective\n",
        "products.\n",
        "\n"
      ]
    },
    {
      "cell_type": "code",
      "execution_count": null,
      "metadata": {
        "collapsed": false
      },
      "outputs": [],
      "source": [
        "mapdl_part_name = setup.add_participant(input_file=\"mapdl.scp\")\n",
        "fluent_part_name = setup.add_participant(input_file=\"fluent.scp\")"
      ]
    },
    {
      "cell_type": "markdown",
      "metadata": {},
      "source": [
        "Verify that the ``coupling_participant`` objects now exist:\n",
        "\n"
      ]
    },
    {
      "cell_type": "code",
      "execution_count": null,
      "metadata": {
        "collapsed": false
      },
      "outputs": [],
      "source": [
        "setup.coupling_participant.keys()"
      ]
    },
    {
      "cell_type": "markdown",
      "metadata": {},
      "source": [
        "### Create interfaces and data transfers by specifying participant regions\n",
        "Call the appropriate commands to create an interface, and force and\n",
        "displacement data transfers.\n",
        "\n"
      ]
    },
    {
      "cell_type": "code",
      "execution_count": null,
      "metadata": {
        "collapsed": false
      },
      "outputs": [],
      "source": [
        "interface_name = setup.add_interface(\n",
        "    side_one_participant = mapdl_part_name, side_one_regions = ['FSIN_1'],\n",
        "    side_two_participant = fluent_part_name, side_two_regions = ['wall_deforming'])\n",
        "\n",
        "force_transfer_name = setup.add_data_transfer(\n",
        "    interface=interface_name,\n",
        "    target_side=\"One\",\n",
        "    side_one_variable=\"FORC\",\n",
        "    side_two_variable=\"force\",\n",
        ")\n",
        "\n",
        "disp_transfer_name = setup.add_data_transfer(\n",
        "    interface=interface_name,\n",
        "    target_side=\"Two\",\n",
        "    side_one_variable=\"INCD\",\n",
        "    side_two_variable=\"displacement\",\n",
        ")"
      ]
    },
    {
      "cell_type": "markdown",
      "metadata": {},
      "source": [
        "### Verify creation of interface and data transfers\n",
        "Confirm the coupling interface exists:\n",
        "\n"
      ]
    },
    {
      "cell_type": "code",
      "execution_count": null,
      "metadata": {
        "collapsed": false
      },
      "outputs": [],
      "source": [
        "setup.coupling_interface.keys()"
      ]
    },
    {
      "cell_type": "markdown",
      "metadata": {},
      "source": [
        "Examine the coupling interface state. Note the ``\"FORC\"`` and ``\"displacement\"``\n",
        "``data_transfer`` child objects:\n",
        "\n"
      ]
    },
    {
      "cell_type": "code",
      "execution_count": null,
      "metadata": {
        "collapsed": false
      },
      "outputs": [],
      "source": [
        "setup.coupling_interface[interface_name].print_state()"
      ]
    },
    {
      "cell_type": "markdown",
      "metadata": {},
      "source": [
        "### Query for any current setup errors\n",
        "A coupled analysis setup cannot be solved if there\n",
        "are any errors. Errors are indicated by messages with\n",
        "``level`` field set to ``Error``. Here, it is seen that\n",
        "there are two missing settings that need to be corrected.\n",
        "There is also an ``Information`` level message that\n",
        "advises that, once the current setup is solved, it is\n",
        "not possible to restart it from any point except the\n",
        "last step.\n",
        "\n"
      ]
    },
    {
      "cell_type": "code",
      "execution_count": null,
      "metadata": {
        "collapsed": false
      },
      "outputs": [],
      "source": [
        "pprint(setup.get_status_messages())"
      ]
    },
    {
      "cell_type": "markdown",
      "metadata": {},
      "source": [
        "<div class=\"alert alert-info\"><h4>Note</h4><p>In the current release of PySystemCoupling, ``get_status_messages``\n",
        "   provides messages generated by System Coupling using its native\n",
        "   terminology. This means that any settings identifiers that are\n",
        "   mentioned in messages are in System Coupling's usual `camel case` format.\n",
        "\n",
        "   In most cases, it should be obvious how to translate to the\n",
        "   corresponding PySystemCoupling setting. For example ``EndTime``\n",
        "   in System Coupling's ``OutputControl`` object corresponds to the\n",
        "   PySystemCoupling ``output_control.end_time`` setting.</p></div>\n",
        "\n"
      ]
    },
    {
      "cell_type": "markdown",
      "metadata": {},
      "source": [
        "### Modify settings\n",
        "\n",
        "View contents of ``solution_control``. Notice that\n",
        "``time_step_size`` and ``end_time`` are unset,\n",
        "consistent with what was shown in the status messages.\n",
        "Values shown in the ``print_state`` output as ``<None>``\n",
        "actually have Python values of ``None``.\n",
        "\n"
      ]
    },
    {
      "cell_type": "code",
      "execution_count": null,
      "metadata": {
        "collapsed": false
      },
      "outputs": [],
      "source": [
        "setup.solution_control.print_state()"
      ]
    },
    {
      "cell_type": "markdown",
      "metadata": {},
      "source": [
        "Change ``time_step_size`` setting:\n",
        "\n"
      ]
    },
    {
      "cell_type": "code",
      "execution_count": null,
      "metadata": {
        "collapsed": false
      },
      "outputs": [],
      "source": [
        "setup.solution_control.time_step_size = \"0.1 [s]\""
      ]
    },
    {
      "cell_type": "markdown",
      "metadata": {},
      "source": [
        "Verify setting:\n",
        "\n"
      ]
    },
    {
      "cell_type": "code",
      "execution_count": null,
      "metadata": {
        "collapsed": false
      },
      "outputs": [],
      "source": [
        "setup.solution_control.time_step_size"
      ]
    },
    {
      "cell_type": "markdown",
      "metadata": {},
      "source": [
        "Change ``end_time``:\n",
        "\n"
      ]
    },
    {
      "cell_type": "code",
      "execution_count": null,
      "metadata": {
        "collapsed": false
      },
      "outputs": [],
      "source": [
        "setup.solution_control.end_time = \"1.0 [s]\""
      ]
    },
    {
      "cell_type": "markdown",
      "metadata": {},
      "source": [
        "View ``output_control``:\n",
        "\n"
      ]
    },
    {
      "cell_type": "code",
      "execution_count": null,
      "metadata": {
        "collapsed": false
      },
      "outputs": [],
      "source": [
        "setup.output_control.print_state()"
      ]
    },
    {
      "cell_type": "markdown",
      "metadata": {},
      "source": [
        "Set ``option`` in ``output_control``. First, see valid options:\n",
        "\n"
      ]
    },
    {
      "cell_type": "code",
      "execution_count": null,
      "metadata": {
        "collapsed": false
      },
      "outputs": [],
      "source": [
        "setup.output_control.get_property_options(\"option\")"
      ]
    },
    {
      "cell_type": "markdown",
      "metadata": {},
      "source": [
        "Set output option:\n",
        "\n"
      ]
    },
    {
      "cell_type": "code",
      "execution_count": null,
      "metadata": {
        "collapsed": false
      },
      "outputs": [],
      "source": [
        "setup.output_control.option = \"StepInterval\""
      ]
    },
    {
      "cell_type": "markdown",
      "metadata": {},
      "source": [
        "Change ``output_frequency``:\n",
        "\n"
      ]
    },
    {
      "cell_type": "code",
      "execution_count": null,
      "metadata": {
        "collapsed": false
      },
      "outputs": [],
      "source": [
        "setup.output_control.output_frequency = 2"
      ]
    },
    {
      "cell_type": "markdown",
      "metadata": {},
      "source": [
        "View ``output_control`` again:\n",
        "\n"
      ]
    },
    {
      "cell_type": "code",
      "execution_count": null,
      "metadata": {
        "collapsed": false
      },
      "outputs": [],
      "source": [
        "setup.output_control.print_state()"
      ]
    },
    {
      "cell_type": "markdown",
      "metadata": {},
      "source": [
        "## Review setup\n",
        "\n",
        "Verify that there are no longer any setup errors:\n",
        "\n"
      ]
    },
    {
      "cell_type": "code",
      "execution_count": null,
      "metadata": {
        "collapsed": false
      },
      "outputs": [],
      "source": [
        "pprint(setup.get_status_messages())"
      ]
    },
    {
      "cell_type": "markdown",
      "metadata": {},
      "source": [
        "``get_setup_summary`` returns a string showing a summary of\n",
        "the coupled analysis setup. This is also shown in the\n",
        "transcript output when the solve is started, but it can\n",
        "be useful to review this before starting the solve.\n",
        "\n"
      ]
    },
    {
      "cell_type": "code",
      "execution_count": null,
      "metadata": {
        "collapsed": false
      },
      "outputs": [],
      "source": [
        "print(setup.get_setup_summary())"
      ]
    },
    {
      "cell_type": "markdown",
      "metadata": {},
      "source": [
        "# Run solution\n",
        "\n",
        "The System Coupling server's ``stdout``/``stderr`` output is not shown\n",
        "in PySystemCoupling by default. To see it, output streaming must be turned on:\n",
        "\n"
      ]
    },
    {
      "cell_type": "code",
      "execution_count": null,
      "metadata": {
        "collapsed": false
      },
      "outputs": [],
      "source": [
        "syc.start_output()"
      ]
    },
    {
      "cell_type": "markdown",
      "metadata": {},
      "source": [
        "Access ``solve`` via the ``solution`` API.\n",
        "\n"
      ]
    },
    {
      "cell_type": "code",
      "execution_count": null,
      "metadata": {
        "collapsed": false
      },
      "outputs": [],
      "source": [
        "solution = syc.solution\n",
        "solution.solve()"
      ]
    },
    {
      "cell_type": "markdown",
      "metadata": {},
      "source": [
        "# Extend analysis end time for a restarted run\n",
        "\n",
        "Access the ``case`` API for file handling and persistence.\n",
        "Use this to completely clear the current case and reload\n",
        "from the one saved during the solve.\n",
        "\n"
      ]
    },
    {
      "cell_type": "code",
      "execution_count": null,
      "metadata": {
        "collapsed": false
      },
      "outputs": [],
      "source": [
        "case = syc.case\n",
        "case.clear_state()\n",
        "case.open()"
      ]
    },
    {
      "cell_type": "markdown",
      "metadata": {},
      "source": [
        "## Extend analysis\n",
        "\n",
        "View ``solution_control``, change ``end-time`` and verify setting.\n",
        "The analysis is extended to 1.5 seconds.\n",
        "\n"
      ]
    },
    {
      "cell_type": "code",
      "execution_count": null,
      "metadata": {
        "collapsed": false
      },
      "outputs": [],
      "source": [
        "setup.solution_control.print_state()\n",
        "setup.solution_control.end_time = \"1.5 [s]\"\n",
        "setup.solution_control.print_state()"
      ]
    },
    {
      "cell_type": "markdown",
      "metadata": {},
      "source": [
        "## Additional settings changes\n",
        "\n",
        "Examine ``\"Force\"`` data transfer.\n",
        "\n"
      ]
    },
    {
      "cell_type": "code",
      "execution_count": null,
      "metadata": {
        "collapsed": false
      },
      "outputs": [],
      "source": [
        "force_transfer = setup.coupling_interface[interface_name].data_transfer[\n",
        "    force_transfer_name\n",
        "]\n",
        "force_transfer.print_state()"
      ]
    },
    {
      "cell_type": "markdown",
      "metadata": {},
      "source": [
        "Change a setting in the ``\"Force\"`` data transfer, and increase the\n",
        "minimum iterations value in ``solutions_control`` from its default\n",
        "value of 1.\n",
        "\n"
      ]
    },
    {
      "cell_type": "code",
      "execution_count": null,
      "metadata": {
        "collapsed": false
      },
      "outputs": [],
      "source": [
        "force_transfer.convergence_target = 0.001\n",
        "\n",
        "setup.solution_control.minimum_iterations = 2"
      ]
    },
    {
      "cell_type": "markdown",
      "metadata": {},
      "source": [
        "## Review setup\n",
        "\n"
      ]
    },
    {
      "cell_type": "code",
      "execution_count": null,
      "metadata": {
        "collapsed": false
      },
      "outputs": [],
      "source": [
        "print(setup.get_setup_summary())"
      ]
    },
    {
      "cell_type": "markdown",
      "metadata": {},
      "source": [
        "# Restart solution\n",
        "\n"
      ]
    },
    {
      "cell_type": "code",
      "execution_count": null,
      "metadata": {
        "collapsed": false
      },
      "outputs": [],
      "source": [
        "solution.solve()"
      ]
    },
    {
      "cell_type": "markdown",
      "metadata": {},
      "source": [
        "Stop streaming output from server and shut down this server instance:\n",
        "\n"
      ]
    },
    {
      "cell_type": "code",
      "execution_count": null,
      "metadata": {
        "collapsed": false
      },
      "outputs": [],
      "source": [
        "syc.end_output()\n",
        "syc.exit()"
      ]
    },
    {
      "cell_type": "markdown",
      "metadata": {},
      "source": [
        "<div class=\"alert alert-info\"><h4>Note</h4><p>This ``syc`` object is now \"defunct\" and any attempt to\n",
        "   use it to perform any further action yields an error. To do\n",
        "   more in the current Python session, create a new ``syc`` instance\n",
        "   using ``syc = pysystemcoupling.launch()`` again.)</p></div>\n",
        "\n"
      ]
    }
  ],
  "metadata": {
    "kernelspec": {
      "display_name": "Python 3.8.0 ('venv': venv)",
      "language": "python",
      "name": "python3"
    },
    "language_info": {
      "codemirror_mode": {
        "name": "ipython",
        "version": 3
      },
      "file_extension": ".py",
      "mimetype": "text/x-python",
      "name": "python",
      "nbconvert_exporter": "python",
      "pygments_lexer": "ipython3",
      "version": "3.8.0"
    },
    "vscode": {
      "interpreter": {
        "hash": "ed29f63814c208dc189680830f6f548883191462511f07d8452ae10e593e9dac"
      }
    }
  },
  "nbformat": 4,
  "nbformat_minor": 0
}
