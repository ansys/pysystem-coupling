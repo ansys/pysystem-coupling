{
  "cells": [
    {
      "cell_type": "markdown",
      "metadata": {},
      "source": [
        "\n",
        "# Oscillating plate\n",
        "\n",
        "This example is a version of the *Oscillating Plate* case that is\n",
        "often used as a tutorial for System Coupling. This two-way, fluid-structural\n",
        "interaction (FSI) case is based on co-simulation of a transient oscillating\n",
        "plate with 2D data transfers.\n",
        "\n",
        "- Ansys Mechanical APDL (MAPDL) is used to perform a transient structural analysis.\n",
        "- Ansys Fluent is used to perform a transient fluid-flow analysis.\n",
        "- System Coupling coordinates the simultaneous execution of the solvers for\n",
        "  these Ansys products and the data transfers between their coupled surface regions.\n",
        "\n",
        "**Problem description**\n",
        "\n",
        "An oscillating plate resides within a fluid-filled cavity. A thin plate is\n",
        "anchored to the bottom of a closed cavity filled with fluid (air):\n",
        "\n",
        "<img src=\"file://_static/img_oscplate_case.png\" width=\"400pt\" align=\"center\">\n",
        "\n",
        "There is no friction between the plate and the side of the cavity. An\n",
        "initial pressure of 100 Pa is applied to one side of the thin plate\n",
        "for 0.5 seconds to distort it. Once this pressure is released, the plate\n",
        "oscillates back and forth to regain its equilibrium, and the\n",
        "surrounding air damps this oscillation. The plate and surrounding\n",
        "air are simulated for a few oscillations to allow an examination of the\n",
        "motion of the plate as it is damped.\n"
      ]
    },
    {
      "cell_type": "markdown",
      "metadata": {},
      "source": [
        "# Set up example\n",
        "Setting up this example consists of performing imports, downloading\n",
        "input files, preparing the directory structure, and launching System Coupling.\n",
        "\n",
        "## Perform required imports\n",
        "Import the ``ansys-systemcoupling-core`` package and other required packages.\n",
        "\n"
      ]
    },
    {
      "cell_type": "code",
      "execution_count": null,
      "metadata": {
        "collapsed": false
      },
      "outputs": [],
      "source": [
        "import os\n",
        "from pprint import pprint\n",
        "\n",
        "import ansys.systemcoupling.core as pysystemcoupling\n",
        "from ansys.systemcoupling.core import examples"
      ]
    },
    {
      "cell_type": "markdown",
      "metadata": {},
      "source": [
        "## Download input files\n",
        "Clear the downloads target directory (which is to be used as the\n",
        "working directory). Download the SCP files for Fluent and MAPDL, which\n",
        "provide solver-specific information to System Coupling and the respective\n",
        "solver input files for each solver run.\n",
        "\n",
        "\n"
      ]
    },
    {
      "cell_type": "code",
      "execution_count": null,
      "metadata": {
        "collapsed": false
      },
      "outputs": [],
      "source": [
        "examples.delete_downloads()\n",
        "\n",
        "mapdl_scp_file = examples.download_file(\n",
        "    \"mapdl.scp\", \"pysystem-coupling/oscillating_plate\"\n",
        ")\n",
        "\n",
        "fluent_scp_file = examples.download_file(\n",
        "    \"fluent.scp\", \"pysystem-coupling/oscillating_plate\"\n",
        ")\n",
        "\n",
        "mapdl_dat_file = examples.download_file(\n",
        "    \"mapdl.dat\", \"pysystem-coupling/oscillating_plate/MAPDL\"\n",
        ")\n",
        "\n",
        "fluent_cas_file = examples.download_file(\n",
        "    \"plate.cas.gz\", \"pysystem-coupling/oscillating_plate/Fluent\"\n",
        ")"
      ]
    },
    {
      "cell_type": "markdown",
      "metadata": {},
      "source": [
        "## Prepare expected directory structure\n",
        "The target download directory is used as the working directory.\n",
        "The SCP files are defined such that there is expected to be a Fluent\n",
        "subdirectory in which Fluent runs and an MAPDL subdirectory in\n",
        "which MAPDL runs. These directories should contain their respective\n",
        "case and input files.\n",
        "\n"
      ]
    },
    {
      "cell_type": "code",
      "execution_count": null,
      "metadata": {
        "collapsed": false
      },
      "outputs": [],
      "source": [
        "working_dir = os.path.dirname(mapdl_scp_file)\n",
        "\n",
        "fluent_working_dir = os.path.join(working_dir, \"Fluent\")\n",
        "os.mkdir(fluent_working_dir)\n",
        "mapdl_working_dir = os.path.join(working_dir, \"MAPDL\")\n",
        "os.mkdir(mapdl_working_dir)\n",
        "\n",
        "os.rename(fluent_cas_file, os.path.join(fluent_working_dir, \"plate.cas.gz\"))\n",
        "os.rename(mapdl_dat_file, os.path.join(mapdl_working_dir, \"mapdl.dat\"))"
      ]
    },
    {
      "cell_type": "markdown",
      "metadata": {},
      "source": [
        "## Launch System Coupling\n",
        "Launch a remote System Coupling instance and return a *client* object\n",
        "(a ``Session`` object) that allows you to interact with System Coupling\n",
        "via an API exposed into the current Python environment.\n",
        "\n"
      ]
    },
    {
      "cell_type": "code",
      "execution_count": null,
      "metadata": {
        "collapsed": false
      },
      "outputs": [],
      "source": [
        "syc = pysystemcoupling.launch(working_dir=working_dir)"
      ]
    },
    {
      "cell_type": "markdown",
      "metadata": {},
      "source": [
        "# Create analysis\n",
        "Creating the analysis consists of accessing the ``setup`` API,\n",
        "loading participants, creating and verifying both interfaces and\n",
        "data transfers, querying for setup errors, and modifying settings.\n",
        "\n",
        "## Access the ``setup`` API\n",
        "\n"
      ]
    },
    {
      "cell_type": "code",
      "execution_count": null,
      "metadata": {
        "collapsed": false
      },
      "outputs": [],
      "source": [
        "setup = syc.setup"
      ]
    },
    {
      "cell_type": "markdown",
      "metadata": {},
      "source": [
        "## Load participants\n",
        "Use ``add_participant`` to create ``coupling_participant`` objects\n",
        "representing the Fluent and MAPDL participants, based on the data\n",
        "in the `scp` files that were previously exported by the respective\n",
        "products.\n",
        "\n"
      ]
    },
    {
      "cell_type": "code",
      "execution_count": null,
      "metadata": {
        "collapsed": false
      },
      "outputs": [],
      "source": [
        "mapdl_part_name = setup.add_participant(input_file=\"mapdl.scp\")\n",
        "fluent_part_name = setup.add_participant(input_file=\"fluent.scp\")"
      ]
    },
    {
      "cell_type": "markdown",
      "metadata": {},
      "source": [
        "Verify ``coupling_participant`` objects exist:\n",
        "\n"
      ]
    },
    {
      "cell_type": "code",
      "execution_count": null,
      "metadata": {
        "collapsed": false
      },
      "outputs": [],
      "source": [
        "setup.coupling_participant.keys()"
      ]
    },
    {
      "cell_type": "markdown",
      "metadata": {},
      "source": [
        "## Create interfaces and data transfers\n",
        "Create interfaces and data transfers by specifying participant regions.\n",
        "This consists of calling the appropriate commands to create an interface\n",
        "and both force and displacement data transfers.\n",
        "\n"
      ]
    },
    {
      "cell_type": "code",
      "execution_count": null,
      "metadata": {
        "collapsed": false
      },
      "outputs": [],
      "source": [
        "interface_name = setup.add_interface(\n",
        "    side_one_participant=mapdl_part_name,\n",
        "    side_one_regions=[\"FSIN_1\"],\n",
        "    side_two_participant=fluent_part_name,\n",
        "    side_two_regions=[\"wall_deforming\"],\n",
        ")\n",
        "\n",
        "force_transfer_name = setup.add_data_transfer(\n",
        "    interface=interface_name,\n",
        "    target_side=\"One\",\n",
        "    side_one_variable=\"FORC\",\n",
        "    side_two_variable=\"force\",\n",
        ")\n",
        "\n",
        "disp_transfer_name = setup.add_data_transfer(\n",
        "    interface=interface_name,\n",
        "    target_side=\"Two\",\n",
        "    side_one_variable=\"INCD\",\n",
        "    side_two_variable=\"displacement\",\n",
        ")"
      ]
    },
    {
      "cell_type": "markdown",
      "metadata": {},
      "source": [
        "## Verify creation of interfaces and data transfers\n",
        "Confirm the coupling interface exists.\n",
        "\n"
      ]
    },
    {
      "cell_type": "code",
      "execution_count": null,
      "metadata": {
        "collapsed": false
      },
      "outputs": [],
      "source": [
        "setup.coupling_interface.keys()"
      ]
    },
    {
      "cell_type": "markdown",
      "metadata": {},
      "source": [
        "Examine the coupling interface state. Note that\n",
        "``data_transfer`` child objects exist for ``\"displacement\"``\n",
        "and ``\"FORC\"``.\n",
        "\n"
      ]
    },
    {
      "cell_type": "code",
      "execution_count": null,
      "metadata": {
        "collapsed": false
      },
      "outputs": [],
      "source": [
        "setup.coupling_interface[interface_name].print_state()"
      ]
    },
    {
      "cell_type": "markdown",
      "metadata": {},
      "source": [
        "## Query for setup errors\n",
        "A coupled analysis setup cannot be solved if errors\n",
        "exist. Errors are indicated by messages with\n",
        "the ``level`` field set to ``Error``. Here, there are\n",
        "two missing settings that must be corrected.\n",
        "There is also an ``Information`` level message that\n",
        "advises that, once the current setup is solved, it is\n",
        "not possible to restart it from any point except the\n",
        "last step.\n",
        "\n"
      ]
    },
    {
      "cell_type": "code",
      "execution_count": null,
      "metadata": {
        "collapsed": false
      },
      "outputs": [],
      "source": [
        "pprint(setup.get_status_messages())"
      ]
    },
    {
      "cell_type": "markdown",
      "metadata": {},
      "source": [
        "<div class=\"alert alert-info\"><h4>Note</h4><p>In the current release of PySystemCoupling, the ``get_status_messages``\n",
        "   class provides messages generated by System Coupling using its native\n",
        "   terminology. This means that any identifiers for settings that are\n",
        "   mentioned in messages are in System Coupling's usual *camel case* format.\n",
        "\n",
        "   In most cases, it should be obvious how to translate to the\n",
        "   *snake case* format for the corresponding PySystemCoupling setting.\n",
        "   For example, the ``EndTime`` setting in System Coupling's\n",
        "   ``OutputControl`` object corresponds to the ``output_control.end_time``\n",
        "   setting in PySystemCoupling.</p></div>\n",
        "\n"
      ]
    },
    {
      "cell_type": "markdown",
      "metadata": {},
      "source": [
        "## Modify settings\n",
        "View contents of the ``solution_control`` object. Notice that\n",
        "the ``time_step_size`` and ``end_time`` settings are unset,\n",
        "consistent with what was shown in the status messages.\n",
        "Values shown in the ``print_state`` output as ``<None>``\n",
        "have Python values of ``None``.\n",
        "\n"
      ]
    },
    {
      "cell_type": "code",
      "execution_count": null,
      "metadata": {
        "collapsed": false
      },
      "outputs": [],
      "source": [
        "setup.solution_control.print_state()"
      ]
    },
    {
      "cell_type": "markdown",
      "metadata": {},
      "source": [
        "Change the ``time_step_size`` setting.\n",
        "\n"
      ]
    },
    {
      "cell_type": "code",
      "execution_count": null,
      "metadata": {
        "collapsed": false
      },
      "outputs": [],
      "source": [
        "setup.solution_control.time_step_size = \"0.1 [s]\""
      ]
    },
    {
      "cell_type": "markdown",
      "metadata": {},
      "source": [
        "Verify the ``time_step_size`` setting.\n",
        "\n"
      ]
    },
    {
      "cell_type": "code",
      "execution_count": null,
      "metadata": {
        "collapsed": false
      },
      "outputs": [],
      "source": [
        "setup.solution_control.time_step_size"
      ]
    },
    {
      "cell_type": "markdown",
      "metadata": {},
      "source": [
        "Change the ``end_time`` setting.\n",
        "\n"
      ]
    },
    {
      "cell_type": "code",
      "execution_count": null,
      "metadata": {
        "collapsed": false
      },
      "outputs": [],
      "source": [
        "setup.solution_control.end_time = \"1.0 [s]\""
      ]
    },
    {
      "cell_type": "markdown",
      "metadata": {},
      "source": [
        "View the ``output_control`` object.\n",
        "\n"
      ]
    },
    {
      "cell_type": "code",
      "execution_count": null,
      "metadata": {
        "collapsed": false
      },
      "outputs": [],
      "source": [
        "setup.output_control.print_state()"
      ]
    },
    {
      "cell_type": "markdown",
      "metadata": {},
      "source": [
        "View the valid values for the ``option`` setting.\n",
        "\n"
      ]
    },
    {
      "cell_type": "code",
      "execution_count": null,
      "metadata": {
        "collapsed": false
      },
      "outputs": [],
      "source": [
        "setup.output_control.get_property_options(\"option\")"
      ]
    },
    {
      "cell_type": "markdown",
      "metadata": {},
      "source": [
        "Set the ``option`` setting.\n",
        "\n"
      ]
    },
    {
      "cell_type": "code",
      "execution_count": null,
      "metadata": {
        "collapsed": false
      },
      "outputs": [],
      "source": [
        "setup.output_control.option = \"StepInterval\""
      ]
    },
    {
      "cell_type": "markdown",
      "metadata": {},
      "source": [
        "Change the ``output_frequency`` frequency setting.\n",
        "\n"
      ]
    },
    {
      "cell_type": "code",
      "execution_count": null,
      "metadata": {
        "collapsed": false
      },
      "outputs": [],
      "source": [
        "setup.output_control.output_frequency = 2"
      ]
    },
    {
      "cell_type": "markdown",
      "metadata": {},
      "source": [
        "View the ``output_control`` object again:\n",
        "\n"
      ]
    },
    {
      "cell_type": "code",
      "execution_count": null,
      "metadata": {
        "collapsed": false
      },
      "outputs": [],
      "source": [
        "setup.output_control.print_state()"
      ]
    },
    {
      "cell_type": "markdown",
      "metadata": {},
      "source": [
        "# Review setup\n",
        "Verify that there are no longer any setup errors.\n",
        "\n"
      ]
    },
    {
      "cell_type": "code",
      "execution_count": null,
      "metadata": {
        "collapsed": false
      },
      "outputs": [],
      "source": [
        "pprint(setup.get_status_messages())"
      ]
    },
    {
      "cell_type": "markdown",
      "metadata": {},
      "source": [
        "Use the ``get_setup_summary`` class to return a string showing a summary of\n",
        "the coupled analysis setup. This summary is also shown in the\n",
        "transcript output when the solve is started, but it can\n",
        "be useful to review this before starting the solve.\n",
        "\n"
      ]
    },
    {
      "cell_type": "code",
      "execution_count": null,
      "metadata": {
        "collapsed": false
      },
      "outputs": [],
      "source": [
        "print(setup.get_setup_summary())"
      ]
    },
    {
      "cell_type": "markdown",
      "metadata": {},
      "source": [
        "# Run solution\n",
        "The System Coupling server's ``stdout`` and ``stderr`` output is not shown\n",
        "in PySystemCoupling by default. To see it, turn output streaming on.\n",
        "\n"
      ]
    },
    {
      "cell_type": "code",
      "execution_count": null,
      "metadata": {
        "collapsed": false
      },
      "outputs": [],
      "source": [
        "syc.start_output()"
      ]
    },
    {
      "cell_type": "markdown",
      "metadata": {},
      "source": [
        "Access the ``solve`` command via the ``solution`` API.\n",
        "\n"
      ]
    },
    {
      "cell_type": "code",
      "execution_count": null,
      "metadata": {
        "collapsed": false
      },
      "outputs": [],
      "source": [
        "solution = syc.solution\n",
        "solution.solve()"
      ]
    },
    {
      "cell_type": "markdown",
      "metadata": {},
      "source": [
        "# Extend analysis end time\n",
        "Extend the analysis end time for a restarted run.\n",
        "Access the ``case`` attribute for file handling and persistence.\n",
        "Use this attribute to completely clear the current case and reload\n",
        "from the case saved during the solve.\n",
        "\n"
      ]
    },
    {
      "cell_type": "code",
      "execution_count": null,
      "metadata": {
        "collapsed": false
      },
      "outputs": [],
      "source": [
        "case = syc.case\n",
        "case.clear_state()\n",
        "case.open()"
      ]
    },
    {
      "cell_type": "markdown",
      "metadata": {},
      "source": [
        "## Extend analysis\n",
        "\n",
        "View the ``solution_control`` object, change the ``end-time`` setting,\n",
        "and verify the setting change.\n",
        "This code extends the analysis to 1.5 seconds.\n",
        "\n"
      ]
    },
    {
      "cell_type": "code",
      "execution_count": null,
      "metadata": {
        "collapsed": false
      },
      "outputs": [],
      "source": [
        "setup.solution_control.print_state()\n",
        "setup.solution_control.end_time = \"1.5 [s]\"\n",
        "setup.solution_control.print_state()"
      ]
    },
    {
      "cell_type": "markdown",
      "metadata": {},
      "source": [
        "## Change additional settings\n",
        "Examine ``\"Force\"`` data transfer.\n",
        "\n"
      ]
    },
    {
      "cell_type": "code",
      "execution_count": null,
      "metadata": {
        "collapsed": false
      },
      "outputs": [],
      "source": [
        "force_transfer = setup.coupling_interface[interface_name].data_transfer[\n",
        "    force_transfer_name\n",
        "]\n",
        "force_transfer.print_state()"
      ]
    },
    {
      "cell_type": "markdown",
      "metadata": {},
      "source": [
        "Change a setting in the ``\"Force\"`` data transfer and increase the\n",
        "minimum iterations value in the ``solutions_control`` object from its default\n",
        "value of 1 to 2.\n",
        "\n"
      ]
    },
    {
      "cell_type": "code",
      "execution_count": null,
      "metadata": {
        "collapsed": false
      },
      "outputs": [],
      "source": [
        "force_transfer.convergence_target = 0.001\n",
        "\n",
        "setup.solution_control.minimum_iterations = 2"
      ]
    },
    {
      "cell_type": "markdown",
      "metadata": {},
      "source": [
        "## Review setup\n",
        "To review the setup again, use the ``get_setup_summary`` class to return a string\n",
        "showing a summary.\n",
        "\n"
      ]
    },
    {
      "cell_type": "code",
      "execution_count": null,
      "metadata": {
        "collapsed": false
      },
      "outputs": [],
      "source": [
        "print(setup.get_setup_summary())"
      ]
    },
    {
      "cell_type": "markdown",
      "metadata": {},
      "source": [
        "# Restart solution\n",
        "To restart the solution, access the ``solve`` command via the ``solution`` API.\n",
        "\n"
      ]
    },
    {
      "cell_type": "code",
      "execution_count": null,
      "metadata": {
        "collapsed": false
      },
      "outputs": [],
      "source": [
        "solution.solve()"
      ]
    },
    {
      "cell_type": "markdown",
      "metadata": {},
      "source": [
        "## Stop streaming output and shut down the server instance\n",
        "Stop streaming output from the server and shut down the server instance.\n",
        "\n"
      ]
    },
    {
      "cell_type": "code",
      "execution_count": null,
      "metadata": {
        "collapsed": false
      },
      "outputs": [],
      "source": [
        "syc.end_output()\n",
        "syc.exit()"
      ]
    },
    {
      "cell_type": "markdown",
      "metadata": {},
      "source": [
        "<div class=\"alert alert-info\"><h4>Note</h4><p>This ``syc`` object is now *defunct*. Any attempt to\n",
        "   use it to perform a further action yields an error. To do\n",
        "   more in the current Python session, you must create a new ``syc`` instance\n",
        "   using ``syc = pysystemcoupling.launch()``.</p></div>\n",
        "\n"
      ]
    }
  ],
  "metadata": {
    "kernelspec": {
      "display_name": "Python 3",
      "language": "python",
      "name": "python3"
    },
    "language_info": {
      "codemirror_mode": {
        "name": "ipython",
        "version": 3
      },
      "file_extension": ".py",
      "mimetype": "text/x-python",
      "name": "python",
      "nbconvert_exporter": "python",
      "pygments_lexer": "ipython3",
      "version": "3.11.7"
    }
  },
  "nbformat": 4,
  "nbformat_minor": 0
}
