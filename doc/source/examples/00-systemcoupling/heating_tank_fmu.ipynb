{
  "cells": [
    {
      "cell_type": "markdown",
      "metadata": {},
      "source": [
        "\n# Heating tank with a Functional Mock-up Unit (FMU)\n\nThis demo illustrates a transient coupled simulation of convection\nheating of a fluid in a cylindrical tank. Fluent is used to prepare\nthe thermal analysis while heat flow in source is controlled via an FMU,\nby taking the temperature from a sensor as an input.\n\n- Ansys Fluent is used to perform the transient fluid-thermal analysis.\n- FMU is used to control the heat flow at the bottom of the tank.\n- System Coupling coordinates the simultaneous execution of the solvers for\n  these Ansys products and the data transfers between their coupled surface regions.\n\n**Problem description**\n\nHeating tank with FMU:\n\n<img src=\"file://_static/heating_tank_fmu.png\" width=\"400pt\" align=\"center\">\n\nThe thermostat receives a temperature from the Fluent sensor\nand outputs a heat-rate. The FMU has three parameters that\ncan be set:\n\n    - Target temperature [K]\n    - Maximum heat output [W]\n    - Heat scale factor [W/K].\n\nTwo coupling interfaces :\n\n    - sensor-FMU coupling interface\n    - heat source- FMU coupling interface\n\nTwo data transfers :\n\n    - temperature\n    - heat flow\n"
      ]
    },
    {
      "cell_type": "code",
      "execution_count": null,
      "metadata": {
        "collapsed": false
      },
      "outputs": [],
      "source": [
        "# Tags: FMU, Fluent, transient"
      ]
    },
    {
      "cell_type": "markdown",
      "metadata": {},
      "source": [
        "# Set up example\nSetting up this example consists of performing imports, downloading\ninput files, and launching System Coupling.\n\n## Perform required imports\nImport the ``ansys-systemcoupling-core`` package and other required packages.\n\n"
      ]
    },
    {
      "cell_type": "code",
      "execution_count": null,
      "metadata": {
        "collapsed": false
      },
      "outputs": [],
      "source": [
        "import shutil\n\nimport ansys.fluent.core as pyfluent\n\nimport ansys.systemcoupling.core as pysystemcoupling\nfrom ansys.systemcoupling.core import examples"
      ]
    },
    {
      "cell_type": "markdown",
      "metadata": {},
      "source": [
        "## Download input files\nClear the downloads target directory (which is to be used as the\nworking directory). Download the case file for Fluent and the FMU file, which\ndefine the participant-specific setup information.\n\n"
      ]
    },
    {
      "cell_type": "code",
      "execution_count": null,
      "metadata": {
        "collapsed": false
      },
      "outputs": [],
      "source": [
        "examples.delete_downloads()\nfmu_file = examples.download_file(\n    \"thermostat.fmu\", \"pysystem-coupling/heating_tank_fmu/FMU\"\n)\n\nshutil.copy(fmu_file, \"thermostat.fmu\")\n\nfmu_file = \"thermostat.fmu\"\n\nfluent_cas_file = examples.download_file(\n    \"fluent.cas.h5\", \"pysystem-coupling/heating_tank_fmu/Fluent\"\n)\n\nshutil.copy(fluent_cas_file, \"fluent.cas.h5\")\n\nfluent_cas_file = \"fluent.cas.h5\""
      ]
    },
    {
      "cell_type": "markdown",
      "metadata": {},
      "source": [
        "## Launch Fluent\nLaunch a remote Fluent instance and return a *client* object\n(a ``Session`` object) that allows you to interact with Fluent\nvia an API exposed into the current Python environment.\nRead in the Fluent case file.\n\n<div class=\"alert alert-info\"><h4>Note</h4><p>Fluent version greater than 24.1 is required.\n   To specify Fluent version explicitly when launching Fluent,\n   use ``product_version`` argument to the ``launch_fluent``\n   function, for example ``pyfluent.launch_fluent(product_version=\"24.2.0\")``</p></div>\n\n"
      ]
    },
    {
      "cell_type": "code",
      "execution_count": null,
      "metadata": {
        "collapsed": false
      },
      "outputs": [],
      "source": [
        "custom_config = {\"fluent_image\": \"ghcr.io/ansys/pyfluent:v24.2.0\"}\nprint(\"Launching Fluent Container\")\nfluent_session = pyfluent.launch_fluent(\n    start_transcript=False, container_dict=custom_config\n)\nfluent_v241 = pyfluent.utils.fluent_version.FluentVersion.v241\nassert fluent_session.get_fluent_version() >= fluent_v241\nprint(\"Reading Fluent case file\")\nfluent_session.file.read(file_type=\"case\", file_name=fluent_cas_file)"
      ]
    },
    {
      "cell_type": "markdown",
      "metadata": {},
      "source": [
        "## Launch System Coupling\nLaunch a remote System Coupling instance and return a *client* object\n(a ``Session`` object) that allows you to interact with System Coupling\nvia an API exposed into the current Python environment.\n\n"
      ]
    },
    {
      "cell_type": "code",
      "execution_count": null,
      "metadata": {
        "collapsed": false
      },
      "outputs": [],
      "source": [
        "print(\"Launching System Coupling Container\")\nsyc = pysystemcoupling.launch()"
      ]
    },
    {
      "cell_type": "markdown",
      "metadata": {},
      "source": [
        "# Create analysis\nCreating the analysis consists of accessing the ``setup`` API,\nloading participants, creating and verifying both interfaces and\ndata transfers, querying for setup errors, and modifying settings.\n\n## Access the ``setup`` API\n\n"
      ]
    },
    {
      "cell_type": "code",
      "execution_count": null,
      "metadata": {
        "collapsed": false
      },
      "outputs": [],
      "source": [
        "setup = syc.setup"
      ]
    },
    {
      "cell_type": "markdown",
      "metadata": {},
      "source": [
        "## Add participants\nUse ``add_participant`` to create ``coupling_participant`` objects\nrepresenting the Fluent and FMU participants, based on the setup\ninformation that was previously defined in the respective\nproducts.\n\n"
      ]
    },
    {
      "cell_type": "code",
      "execution_count": null,
      "metadata": {
        "collapsed": false
      },
      "outputs": [],
      "source": [
        "fluent_part_name = setup.add_participant(participant_session=fluent_session)\nfmu_part_name = setup.add_participant(input_file=fmu_file)"
      ]
    },
    {
      "cell_type": "markdown",
      "metadata": {},
      "source": [
        "## FMU settings\nChange FMU parameters by accessing ``fmu_parameter``\n\n"
      ]
    },
    {
      "cell_type": "code",
      "execution_count": null,
      "metadata": {
        "collapsed": false
      },
      "outputs": [],
      "source": [
        "# Change the \"maximum heat output\" settings\nsetup.coupling_participant[fmu_part_name].fmu_parameter[\"Real_2\"].real_value = 10.0\nsetup.coupling_participant[fmu_part_name].fmu_parameter[\n    \"Real_2\"\n].display_name = \"Maximum Heat Output\""
      ]
    },
    {
      "cell_type": "markdown",
      "metadata": {},
      "source": [
        "Change the \"target temperature\" settings\n\n"
      ]
    },
    {
      "cell_type": "code",
      "execution_count": null,
      "metadata": {
        "collapsed": false
      },
      "outputs": [],
      "source": [
        "setup.coupling_participant[fmu_part_name].fmu_parameter[\"Real_3\"].real_value = 350\nsetup.coupling_participant[fmu_part_name].fmu_parameter[\n    \"Real_3\"\n].display_name = \"Target_Temperature\""
      ]
    },
    {
      "cell_type": "markdown",
      "metadata": {},
      "source": [
        "Change the \"heat scale factor\" settings\n\n"
      ]
    },
    {
      "cell_type": "code",
      "execution_count": null,
      "metadata": {
        "collapsed": false
      },
      "outputs": [],
      "source": [
        "setup.coupling_participant[fmu_part_name].fmu_parameter[\"Real_4\"].real_value = 2.0\nsetup.coupling_participant[fmu_part_name].fmu_parameter[\n    \"Real_4\"\n].display_name = \"Heat_Scale_Factor\""
      ]
    },
    {
      "cell_type": "markdown",
      "metadata": {},
      "source": [
        "## Create interfaces and data transfers\nCreate interfaces and data transfers by specifying participant regions.\nThis consists of calling the appropriate commands to create an interface\nand both force and displacement data transfers.\n\n"
      ]
    },
    {
      "cell_type": "code",
      "execution_count": null,
      "metadata": {
        "collapsed": false
      },
      "outputs": [],
      "source": [
        "# Create a coupling interface for Fluent -> FMU (sensor to FMU)\nsensor_interface = setup.add_interface(\n    side_one_participant=fluent_part_name,\n    side_one_regions=[\"sensor\"],\n    side_two_participant=fmu_part_name,\n)\n\n# Create a coupling interface for FMU -> Fluent (FMU to heat source)\nheatSourceInterface = setup.add_interface(\n    side_one_participant=fmu_part_name,\n    side_two_participant=fluent_part_name,\n    side_two_regions=[\"heat_source\"],\n)\n\n# Create data transfer for \"temperature\"\ntemperatureDataTransfer = setup.add_data_transfer(\n    interface=sensor_interface,\n    target_side=\"Two\",\n    source_variable=\"temperature\",\n    target_variable=\"Real_0\",\n)\n\n# Create data transfer for \"heatflow\"\nheatFlowDataTransfer = setup.add_data_transfer(\n    interface=heatSourceInterface,\n    target_side=\"Two\",\n    source_variable=\"Real_1\",\n    target_variable=\"heatflow\",\n)"
      ]
    },
    {
      "cell_type": "markdown",
      "metadata": {},
      "source": [
        "Change the ``time_step_size`` setting.\n\n"
      ]
    },
    {
      "cell_type": "code",
      "execution_count": null,
      "metadata": {
        "collapsed": false
      },
      "outputs": [],
      "source": [
        "setup.solution_control.time_step_size = \"0.5 [s]\""
      ]
    },
    {
      "cell_type": "markdown",
      "metadata": {},
      "source": [
        "Change the ``end_time`` setting.\n\n"
      ]
    },
    {
      "cell_type": "code",
      "execution_count": null,
      "metadata": {
        "collapsed": false
      },
      "outputs": [],
      "source": [
        "setup.solution_control.end_time = \"40.0 [s]\""
      ]
    },
    {
      "cell_type": "markdown",
      "metadata": {},
      "source": [
        "Change the ``minimum_iterations`` and ``maximum_iterations`` settings.\n\n"
      ]
    },
    {
      "cell_type": "code",
      "execution_count": null,
      "metadata": {
        "collapsed": false
      },
      "outputs": [],
      "source": [
        "setup.solution_control.minimum_iterations = 1\nsetup.solution_control.maximum_iterations = 5"
      ]
    },
    {
      "cell_type": "markdown",
      "metadata": {},
      "source": [
        "Set the ``option`` setting.\n\n"
      ]
    },
    {
      "cell_type": "code",
      "execution_count": null,
      "metadata": {
        "collapsed": false
      },
      "outputs": [],
      "source": [
        "setup.output_control.option = \"StepInterval\""
      ]
    },
    {
      "cell_type": "markdown",
      "metadata": {},
      "source": [
        "Change the ``output_frequency`` frequency setting.\n\n"
      ]
    },
    {
      "cell_type": "code",
      "execution_count": null,
      "metadata": {
        "collapsed": false
      },
      "outputs": [],
      "source": [
        "setup.output_control.output_frequency = 2"
      ]
    },
    {
      "cell_type": "markdown",
      "metadata": {},
      "source": [
        "# Run solution\nThe System Coupling server's ``stdout`` and ``stderr`` output is not shown\nin PySystemCoupling by default. To see it, turn output streaming on.\n\n"
      ]
    },
    {
      "cell_type": "code",
      "execution_count": null,
      "metadata": {
        "collapsed": false
      },
      "outputs": [],
      "source": [
        "syc.start_output()"
      ]
    },
    {
      "cell_type": "markdown",
      "metadata": {},
      "source": [
        "Access the ``solve`` command via the ``solution`` API.\n\n"
      ]
    },
    {
      "cell_type": "code",
      "execution_count": null,
      "metadata": {
        "collapsed": false
      },
      "outputs": [],
      "source": [
        "solution = syc.solution\nsolution.solve()"
      ]
    },
    {
      "cell_type": "markdown",
      "metadata": {},
      "source": [
        "Terminate the system coupling session with ``exit``.\n\n"
      ]
    },
    {
      "cell_type": "code",
      "execution_count": null,
      "metadata": {
        "collapsed": false
      },
      "outputs": [],
      "source": [
        "syc.exit()"
      ]
    }
  ],
  "metadata": {
    "kernelspec": {
      "display_name": "Python 3",
      "language": "python",
      "name": "python3"
    },
    "language_info": {
      "codemirror_mode": {
        "name": "ipython",
        "version": 3
      },
      "file_extension": ".py",
      "mimetype": "text/x-python",
      "name": "python",
      "nbconvert_exporter": "python",
      "pygments_lexer": "ipython3",
      "version": "3.10.12"
    }
  },
  "nbformat": 4,
  "nbformat_minor": 0
}