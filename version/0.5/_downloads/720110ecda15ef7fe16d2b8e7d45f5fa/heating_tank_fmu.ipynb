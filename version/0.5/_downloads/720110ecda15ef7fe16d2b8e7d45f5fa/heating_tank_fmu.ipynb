{
  "cells": [
    {
      "cell_type": "markdown",
      "metadata": {},
      "source": [
        "\n# Heating tank with a Functional Mock-up Unit (FMU)\n\nThis demo illustrates a transient coupled simulation of convection\nheating of a fluid in a cylindrical tank. Fluent is used to prepare\nthe thermal analysis while heat flow in source is controlled via an FMU,\nby taking the temperature from a sensor as an input.\n\n- Ansys Fluent is used to perform the transient fluid-thermal analysis.\n- FMU is used to control the heat flow at the bottom of the tank.\n- System Coupling coordinates the simultaneous execution of the solvers for\n  these Ansys products and the data transfers between their coupled surface regions.\n\n**Problem description**\n\nHeating tank with FMU:\n\n<img src=\"file://_static/heating_tank_fmu.png\" width=\"400pt\" align=\"center\">\n\nThe thermostat receives a temperature from the Fluent sensor\nand outputs a heat-rate. The FMU has three parameters that\ncan be set:\n\n    - Target temperature [K]\n    - Maximum heat output [W]\n    - Heat scale factor [W/K].\n\nTwo coupling interfaces :\n\n    - sensor-FMU coupling interface\n    - heat source- FMU coupling interface\n\nTwo data transfers :\n\n    - temperature\n    - heat flow\n"
      ]
    },
    {
      "cell_type": "code",
      "execution_count": null,
      "metadata": {
        "collapsed": false
      },
      "outputs": [],
      "source": [
        "# Tags: FMU, Fluent, transient"
      ]
    },
    {
      "cell_type": "markdown",
      "metadata": {},
      "source": [
        "# Set up example\nSetting up this example consists of performing imports, downloading\ninput files, and launching System Coupling.\n\n## Perform required imports\nImport the ``ansys-systemcoupling-core`` package and other required packages.\n\n"
      ]
    },
    {
      "cell_type": "code",
      "execution_count": null,
      "metadata": {
        "collapsed": false
      },
      "outputs": [],
      "source": [
        "import ansys.fluent.core as pyfluent\n\nimport ansys.systemcoupling.core as pysystemcoupling\nfrom ansys.systemcoupling.core import examples"
      ]
    },
    {
      "cell_type": "markdown",
      "metadata": {},
      "source": [
        "## Download input files\nClear the downloads target directory (which is to be used as the\nworking directory). Download the case file for Fluent and the FMU file, which\ndefine the participant-specifc setup information.\n\n"
      ]
    },
    {
      "cell_type": "code",
      "execution_count": null,
      "metadata": {
        "collapsed": false
      },
      "outputs": [],
      "source": [
        "examples.delete_downloads()\nfmu_file = examples.download_file(\n    \"thermostat.fmu\", \"pysystem-coupling/heating_tank_fmu/FMU\"\n)\n\nfluent_cas_file = examples.download_file(\n    \"fluent.cas.h5\", \"pysystem-coupling/heating_tank_fmu/Fluent\"\n)"
      ]
    },
    {
      "cell_type": "markdown",
      "metadata": {},
      "source": [
        "## Launch Fluent\nLaunch a remote Fluent instance and return a *client* object\n(a ``Session`` object) that allows you to interact with Fluent\nvia an API exposed into the current Python environment.\nRead in the Fluent case file.\n\n<div class=\"alert alert-info\"><h4>Note</h4><p>Fluent version greater than 24.1 is required.\n   To specify Fluent version explicitly when launching Fluent,\n   use ``product_version`` argument to the ``launch_fluent``\n   function, e.g. ``pyfluent.launch_fluent(product_version=\"24.2.0\")``</p></div>\n\n"
      ]
    },
    {
      "cell_type": "code",
      "execution_count": null,
      "metadata": {
        "collapsed": false
      },
      "outputs": [],
      "source": [
        "fluent_session = pyfluent.launch_fluent(start_transcript=False)\nfluent_v241 = pyfluent.utils.fluent_version.FluentVersion.v241\nassert fluent_session.get_fluent_version() >= fluent_v241\n\nfluent_session.file.read(file_type=\"case\", file_name=fluent_cas_file)"
      ]
    },
    {
      "cell_type": "markdown",
      "metadata": {},
      "source": [
        "## Launch System Coupling\nLaunch a remote System Coupling instance and return a *client* object\n(a ``Session`` object) that allows you to interact with System Coupling\nvia an API exposed into the current Python environment.\n\n"
      ]
    },
    {
      "cell_type": "code",
      "execution_count": null,
      "metadata": {
        "collapsed": false
      },
      "outputs": [],
      "source": [
        "syc = pysystemcoupling.launch()"
      ]
    },
    {
      "cell_type": "markdown",
      "metadata": {},
      "source": [
        "# Create analysis\nCreating the analysis consists of accessing the ``setup`` API,\nloading participants, creating and verifying both interfaces and\ndata transfers, querying for setup errors, and modifying settings.\n\n## Access the ``setup`` API\n\n"
      ]
    },
    {
      "cell_type": "code",
      "execution_count": null,
      "metadata": {
        "collapsed": false
      },
      "outputs": [],
      "source": [
        "setup = syc.setup"
      ]
    },
    {
      "cell_type": "markdown",
      "metadata": {},
      "source": [
        "## Add participants\nUse ``add_participant`` to create ``coupling_participant`` objects\nrepresenting the Fluent and FMU participants, based on the setup\ninformation that was previously defined in the respective\nproducts.\n\n"
      ]
    },
    {
      "cell_type": "code",
      "execution_count": null,
      "metadata": {
        "collapsed": false
      },
      "outputs": [],
      "source": [
        "fluent_part_name = setup.add_participant(participant_session=fluent_session)\nfmu_part_name = setup.add_participant(input_file=fmu_file)"
      ]
    },
    {
      "cell_type": "markdown",
      "metadata": {},
      "source": [
        "## FMU settings\nChange FMU parameters by accessing ``fmu_parameter``\n\n"
      ]
    },
    {
      "cell_type": "code",
      "execution_count": null,
      "metadata": {
        "collapsed": false
      },
      "outputs": [],
      "source": [
        "# Change the \"maximum heat output\" settings\nsetup.coupling_participant[fmu_part_name].fmu_parameter[\"Real_2\"].real_value = 10.0\nsetup.coupling_participant[fmu_part_name].fmu_parameter[\n    \"Real_2\"\n].display_name = \"Maximum Heat Output\""
      ]
    },
    {
      "cell_type": "markdown",
      "metadata": {},
      "source": [
        "Change the \"target temperature\" settings\n\n"
      ]
    },
    {
      "cell_type": "code",
      "execution_count": null,
      "metadata": {
        "collapsed": false
      },
      "outputs": [],
      "source": [
        "setup.coupling_participant[fmu_part_name].fmu_parameter[\"Real_3\"].real_value = 350\nsetup.coupling_participant[fmu_part_name].fmu_parameter[\n    \"Real_3\"\n].display_name = \"Target_Temperature\""
      ]
    },
    {
      "cell_type": "markdown",
      "metadata": {},
      "source": [
        "Change the \"heat scale factor\" settings\n\n"
      ]
    },
    {
      "cell_type": "code",
      "execution_count": null,
      "metadata": {
        "collapsed": false
      },
      "outputs": [],
      "source": [
        "setup.coupling_participant[fmu_part_name].fmu_parameter[\"Real_4\"].real_value = 2.0\nsetup.coupling_participant[fmu_part_name].fmu_parameter[\n    \"Real_4\"\n].display_name = \"Heat_Scale_Factor\""
      ]
    },
    {
      "cell_type": "markdown",
      "metadata": {},
      "source": [
        "## Create interfaces and data transfers\nCreate interfaces and data transfers by specifying participant regions.\nThis consists of calling the appropriate commands to create an interface\nand both force and displacement data transfers.\n\n"
      ]
    },
    {
      "cell_type": "code",
      "execution_count": null,
      "metadata": {
        "collapsed": false
      },
      "outputs": [],
      "source": [
        "# Create a coupling interface for Fluent -> FMU (sensor to FMU)\nsensor_interface = setup.add_interface(\n    side_one_participant=fluent_part_name,\n    side_one_regions=[\"sensor\"],\n    side_two_participant=fmu_part_name,\n)\n\n# Create a coupling interface for FMU -> Fluent (FMU to heat source)\nheatSourceInterface = setup.add_interface(\n    side_one_participant=fmu_part_name,\n    side_two_participant=fluent_part_name,\n    side_two_regions=[\"heat_source\"],\n)\n\n# Create data transfer for \"temperature\"\ntemperatureDataTransfer = setup.add_data_transfer(\n    interface=sensor_interface,\n    target_side=\"Two\",\n    source_variable=\"temperature\",\n    target_variable=\"Real_0\",\n)\n\n# Create data transfer for \"heatflow\"\nheatFlowDataTransfer = setup.add_data_transfer(\n    interface=heatSourceInterface,\n    target_side=\"Two\",\n    source_variable=\"Real_1\",\n    target_variable=\"heatflow\",\n)"
      ]
    },
    {
      "cell_type": "markdown",
      "metadata": {},
      "source": [
        "Change the ``time_step_size`` setting.\n\n"
      ]
    },
    {
      "cell_type": "code",
      "execution_count": null,
      "metadata": {
        "collapsed": false
      },
      "outputs": [],
      "source": [
        "setup.solution_control.time_step_size = \"0.5 [s]\""
      ]
    },
    {
      "cell_type": "markdown",
      "metadata": {},
      "source": [
        "Change the ``end_time`` setting.\n\n"
      ]
    },
    {
      "cell_type": "code",
      "execution_count": null,
      "metadata": {
        "collapsed": false
      },
      "outputs": [],
      "source": [
        "setup.solution_control.end_time = \"40.0 [s]\""
      ]
    },
    {
      "cell_type": "markdown",
      "metadata": {},
      "source": [
        "Change the ``minimum_iterations`` and ``maximum_iterations`` settings.\n\n"
      ]
    },
    {
      "cell_type": "code",
      "execution_count": null,
      "metadata": {
        "collapsed": false
      },
      "outputs": [],
      "source": [
        "setup.solution_control.minimum_iterations = 1\nsetup.solution_control.maximum_iterations = 5"
      ]
    },
    {
      "cell_type": "markdown",
      "metadata": {},
      "source": [
        "Set the ``option`` setting.\n\n"
      ]
    },
    {
      "cell_type": "code",
      "execution_count": null,
      "metadata": {
        "collapsed": false
      },
      "outputs": [],
      "source": [
        "setup.output_control.option = \"StepInterval\""
      ]
    },
    {
      "cell_type": "markdown",
      "metadata": {},
      "source": [
        "Change the ``output_frequency`` frequency setting.\n\n"
      ]
    },
    {
      "cell_type": "code",
      "execution_count": null,
      "metadata": {
        "collapsed": false
      },
      "outputs": [],
      "source": [
        "setup.output_control.output_frequency = 2"
      ]
    },
    {
      "cell_type": "markdown",
      "metadata": {},
      "source": [
        "# Run solution\nThe System Coupling server's ``stdout`` and ``stderr`` output is not shown\nin PySystemCoupling by default. To see it, turn output streaming on.\n\n"
      ]
    },
    {
      "cell_type": "code",
      "execution_count": null,
      "metadata": {
        "collapsed": false
      },
      "outputs": [],
      "source": [
        "syc.start_output()"
      ]
    },
    {
      "cell_type": "markdown",
      "metadata": {},
      "source": [
        "Access the ``solve`` command via the ``solution`` API.\n\n"
      ]
    },
    {
      "cell_type": "code",
      "execution_count": null,
      "metadata": {
        "collapsed": false
      },
      "outputs": [],
      "source": [
        "solution = syc.solution\nsolution.solve()"
      ]
    },
    {
      "cell_type": "markdown",
      "metadata": {},
      "source": [
        "Terminate the system coupling session with ``exit``.\n\n"
      ]
    },
    {
      "cell_type": "code",
      "execution_count": null,
      "metadata": {
        "collapsed": false
      },
      "outputs": [],
      "source": [
        "syc.exit()"
      ]
    },
    {
      "cell_type": "markdown",
      "metadata": {},
      "source": [
        "# Post-process the results\n\n"
      ]
    },
    {
      "cell_type": "markdown",
      "metadata": {},
      "source": [
        "Set some graphics preferences\n\n"
      ]
    },
    {
      "cell_type": "code",
      "execution_count": null,
      "metadata": {
        "collapsed": false
      },
      "outputs": [],
      "source": [
        "fluent_session.tui.display.set.lights.lights_on(\"yes\")\nfluent_session.tui.preferences.graphics.graphics_effects.grid_plane_enabled(\"no\")\nfluent_session.tui.preferences.graphics.graphics_effects.reflections_enabled(\"no\")\nfluent_session.tui.preferences.graphics.graphics_effects.simple_shadows_enabled(\"no\")"
      ]
    },
    {
      "cell_type": "markdown",
      "metadata": {},
      "source": [
        "Method to save png images\n\n"
      ]
    },
    {
      "cell_type": "code",
      "execution_count": null,
      "metadata": {
        "collapsed": false
      },
      "outputs": [],
      "source": [
        "def save_png(fluent_session, png_name):\n    fluent_session.results.graphics.picture.driver_options.hardcopy_format = \"png\"\n    fluent_session.results.graphics.picture.use_window_resolution = False\n    fluent_session.results.graphics.picture.x_resolution = 1920\n    fluent_session.results.graphics.picture.y_resolution = 1080\n    fluent_session.tui.display.save_picture(png_name)"
      ]
    },
    {
      "cell_type": "markdown",
      "metadata": {},
      "source": [
        "Create a plane\n\n"
      ]
    },
    {
      "cell_type": "code",
      "execution_count": null,
      "metadata": {
        "collapsed": false
      },
      "outputs": [],
      "source": [
        "normal_plane = \"zx\"\nposition = 0.0\nplane_name = \"plane\" + \"-\" + normal_plane + \"-\" + str(position)\nfluent_session.results.surfaces.plane_surface.create(plane_name)\nfluent_session.results.surfaces.plane_surface[plane_name].method = (\n    normal_plane + \"-plane\"\n)\nfluent_session.results.surfaces.plane_surface[plane_name].y = position"
      ]
    },
    {
      "cell_type": "markdown",
      "metadata": {},
      "source": [
        "Create a mutli-plane\n\n"
      ]
    },
    {
      "cell_type": "code",
      "execution_count": null,
      "metadata": {
        "collapsed": false
      },
      "outputs": [],
      "source": [
        "normal_multiplane = \"xy\"\nmutliplane_list = []\nnumber_of_planes = 8\nheight = 0.14\nstep = height / (number_of_planes + 2)\nfor i in range(0, number_of_planes):\n    multiplane_name = \"plane\" + \"-\" + normal_multiplane + \"-\" + str(i)\n    fluent_session.results.surfaces.plane_surface.create(multiplane_name)\n    fluent_session.results.surfaces.plane_surface[multiplane_name].method = (\n        normal_multiplane + \"-plane\"\n    )\n    fluent_session.results.surfaces.plane_surface[multiplane_name].z = (\n        float(i) * step + step\n    )\n    mutliplane_list.append(multiplane_name)"
      ]
    },
    {
      "cell_type": "markdown",
      "metadata": {},
      "source": [
        "Method to create a contour\n\n"
      ]
    },
    {
      "cell_type": "code",
      "execution_count": null,
      "metadata": {
        "collapsed": false
      },
      "outputs": [],
      "source": [
        "def contour(fluent_session, surface_list, surface_name, field, color):\n    contour_name = \"contour-\" + field + \"-\" + surface_name\n    fluent_session.results.graphics.contour.create(contour_name)\n    fluent_session.results.graphics.contours.render_mesh = True\n    fluent_session.results.graphics.contour[contour_name] = {\n        \"name\": contour_name,\n        \"field\": field,\n        \"filled\": True,\n        \"boundary_values\": True,\n        \"contour_lines\": False,\n        \"node_values\": True,\n        \"surfaces_list\": surface_list,\n        \"range_option\": {\n            \"option\": \"auto-range-on\",\n            \"auto_range_on\": {\"global_range\": True},\n        },\n        \"coloring\": {\"option\": \"smooth\", \"smooth\": False},\n        \"color_map\": {\n            \"visible\": True,\n            \"size\": 100,\n            \"color\": color,\n            \"log_scale\": False,\n            \"format\": \"%0.4g\",\n            \"user_skip\": 20,\n            \"show_all\": True,\n            \"position\": 1,\n            \"font_name\": \"Helvetica\",\n            \"font_automatic\": True,\n            \"font_size\": 0.032,\n            \"length\": 0.54,\n            \"width\": 6.0,\n        },\n        \"display_state_name\": \"None\",\n    }\n    fluent_session.results.graphics.contour[contour_name].display()\n    scene(fluent_session, contour_name)"
      ]
    },
    {
      "cell_type": "markdown",
      "metadata": {},
      "source": [
        "Method to create a vector\n\n"
      ]
    },
    {
      "cell_type": "code",
      "execution_count": null,
      "metadata": {
        "collapsed": false
      },
      "outputs": [],
      "source": [
        "def vector(fluent_session, surfaces_list, surface_name, field):\n    vector_name = \"vectors-\" + field + \"-\" + surface_name\n    fluent_session.results.graphics.vector.create(vector_name)\n    fluent_session.results.graphics.vector[vector_name].style = \"arrow\"\n    fluent_session.results.graphics.vector[vector_name].scale.scale_f = 0.6\n    fluent_session.results.graphics.vector[vector_name].field = field\n    fluent_session.results.graphics.vector[vector_name].surfaces_list = surfaces_list\n    fluent_session.results.graphics.vector[vector_name] = {\n        \"color_map\": {\n            \"visible\": True,\n            \"size\": 100,\n            \"color\": \"field-temperature\",\n            \"log_scale\": False,\n            \"format\": \"%0.4g\",\n            \"user_skip\": 20,\n            \"show_all\": True,\n            \"position\": 1,\n            \"font_name\": \"Helvetica\",\n            \"font_automatic\": True,\n            \"font_size\": 0.032,\n            \"length\": 0.54,\n            \"width\": 6.0,\n        }\n    }\n    fluent_session.results.graphics.vector[vector_name].display()\n    scene(fluent_session, vector_name)"
      ]
    },
    {
      "cell_type": "markdown",
      "metadata": {},
      "source": [
        "Method to define the outline of an object\n\n"
      ]
    },
    {
      "cell_type": "code",
      "execution_count": null,
      "metadata": {
        "collapsed": false
      },
      "outputs": [],
      "source": [
        "def outline(fluent_session):\n    fluent_session.results.graphics.mesh.create(\"outline\")\n    fluent_session.results.graphics.mesh[\"outline\"].coloring.option = \"manual\"\n    fluent_session.results.graphics.mesh[\"outline\"].surfaces_list = [\n        \"wall\",\n        \"heat_source\",\n        \"top\",\n        \"sensor\",\n    ]\n    fluent_session.results.graphics.mesh[\"outline\"].coloring.manual.faces = \"light gray\""
      ]
    },
    {
      "cell_type": "markdown",
      "metadata": {},
      "source": [
        "Method to create a scene\n\n"
      ]
    },
    {
      "cell_type": "code",
      "execution_count": null,
      "metadata": {
        "collapsed": false
      },
      "outputs": [],
      "source": [
        "def scene(fluent_session, object_name):\n    scene_name = \"scene-\" + object_name\n    fluent_session.results.scene.create(scene_name)\n    fluent_session.results.scene[scene_name] = {}\n    fluent_session.results.scene[scene_name].graphics_objects[\"outline\"] = {}\n    fluent_session.results.scene[scene_name].graphics_objects[\n        \"outline\"\n    ].transparency = 90\n    fluent_session.results.scene[scene_name].graphics_objects[object_name] = {}\n    fluent_session.results.scene[scene_name].display()\n    fluent_session.results.graphics.views.restore_view(view_name=\"top\")\n    fluent_session.results.graphics.views.camera.orbit(right=140, up=20)\n    fluent_session.results.graphics.views.camera.zoom(factor=1.1)\n    save_png(fluent_session, scene_name)"
      ]
    },
    {
      "cell_type": "markdown",
      "metadata": {},
      "source": [
        "Create the outline of the object\n\n"
      ]
    },
    {
      "cell_type": "code",
      "execution_count": null,
      "metadata": {
        "collapsed": false
      },
      "outputs": [],
      "source": [
        "outline(fluent_session)"
      ]
    },
    {
      "cell_type": "markdown",
      "metadata": {},
      "source": [
        "Create contours and vectors\n\n"
      ]
    },
    {
      "cell_type": "code",
      "execution_count": null,
      "metadata": {
        "collapsed": false
      },
      "outputs": [],
      "source": [
        "contour(\n    fluent_session,\n    surface_list=[\"plane-zx-0.0\"],\n    surface_name=\"plane-zx-0.0\",\n    field=\"total-temperature\",\n    color=\"field-temperature\",\n)\ncontour(\n    fluent_session,\n    surface_list=[\"plane-zx-0.0\"],\n    surface_name=\"plane-zx-0.0\",\n    field=\"velocity-magnitude\",\n    color=\"field-velocity\",\n)\ncontour(\n    fluent_session,\n    surface_list=mutliplane_list,\n    surface_name=\"multiplane-xy\",\n    field=\"total-temperature\",\n    color=\"field-temperature\",\n)\ncontour(\n    fluent_session,\n    surface_list=mutliplane_list,\n    surface_name=\"multiplane-xy\",\n    field=\"velocity-magnitude\",\n    color=\"field-velocity\",\n)\nvector(\n    fluent_session,\n    surfaces_list=[\"plane-zx-0.0\"],\n    surface_name=\"plane-zx-0.0\",\n    field=\"total-temperature\",\n)"
      ]
    },
    {
      "cell_type": "markdown",
      "metadata": {},
      "source": [
        "# Results\nTotal temperature on zx plane at y = 0\n\n<img src=\"file://_static/images/heating_tank_fmu/scene-contour-total-temperature-plane-zx-0.png\" width=\"500pt\" align=\"center\">\n\nVelocity magnitude on zx plane at y = 0\n\n<img src=\"file://_static/images/heating_tank_fmu/scene-contour-velocity-magnitude-plane-zx-0.png\" width=\"500pt\" align=\"center\">\n\nTotal temperature on multi-xy plane\n\n<img src=\"file://_static/images/heating_tank_fmu/scene-contour-total-temperature-multiplane-xy.png\" width=\"500pt\" align=\"center\">\n\nVelocity magnitude on multi-xy plane\n\n<img src=\"file://_static/images/heating_tank_fmu/scene-contour-velocity-magnitude-multiplane-xy.png\" width=\"500pt\" align=\"center\">\n\nTotal temperature on velocity vectors on zx plane at y = 0\n\n<img src=\"file://_static/images/heating_tank_fmu/scene-vectors-total-temperature-plane-zx-0.png\" width=\"500pt\" align=\"center\">\n\n"
      ]
    }
  ],
  "metadata": {
    "kernelspec": {
      "display_name": "Python 3",
      "language": "python",
      "name": "python3"
    },
    "language_info": {
      "codemirror_mode": {
        "name": "ipython",
        "version": 3
      },
      "file_extension": ".py",
      "mimetype": "text/x-python",
      "name": "python",
      "nbconvert_exporter": "python",
      "pygments_lexer": "ipython3",
      "version": "3.10.12"
    }
  },
  "nbformat": 4,
  "nbformat_minor": 0
}