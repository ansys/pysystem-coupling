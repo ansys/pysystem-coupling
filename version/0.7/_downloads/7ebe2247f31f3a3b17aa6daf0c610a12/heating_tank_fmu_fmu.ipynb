{
  "cells": [
    {
      "cell_type": "markdown",
      "metadata": {},
      "source": [
        "\n# FMU-FMU cosimulation of a heating tank & heater\n\nThis demo illustrates a transient coupled simulation of convection\nheating of a fluid in a cylindrical tank. The heat source and heating\ntank are controlled via two FMUs that share temperature and heat flow\ndata with one another.\n\n- One FMU is used to model the fluid in the tank.\n- Another FMU is used to model the controlled heat source at the bottom\n  of the tank.\n- System Coupling coordinates the simultaneous execution of the solvers\n  and the data transfers between them.\n\n**Problem description**\n\nThe tank is modelled as a uniform-temperature fluid heated by a\nthermostat and experiencing convective cooling at its top. The\ntemperature of the fluid is available as an output, modelling a sensor\nin the tank. The FMU has six parameters that can be set:\n\n    - Height and base radius of the cylindrical tank [m]\n    - Density [kg/m\\ :sup:`3`\\ ] and specific heat [W/kgK] of the fluid\n      (by default, set to the properties of water)\n    - Convection heat transfer coefficient between the fluid and its\n      surroundings [W/m\\ :sup:`2`\\ K]\n    - Temperature of the tank's surroundings [K].\n\nThe thermostat receives a temperature from the tank sensor and outputs\na heat-rate. The FMU has three parameters that can be set:\n\n    - Target temperature [K]\n    - Maximum heat output [W]\n    - Heat scale factor [W/K].\n\nTwo coupling interfaces :\n\n    - sensor coupling interface\n    - heat source coupling interface\n\nTwo data transfers :\n\n    - temperature\n    - heat flow\n"
      ]
    },
    {
      "cell_type": "code",
      "execution_count": null,
      "metadata": {
        "collapsed": false
      },
      "outputs": [],
      "source": [
        "# Tags: FMU, transient"
      ]
    },
    {
      "cell_type": "markdown",
      "metadata": {},
      "source": [
        "# Import modules, download files, launch products\nSetting up this example consists of importing required modueles,\ndownloading the input files, and launching the required products.\n\n## Perform required imports\nImport ``ansys-systemcoupling-core``.\n\n"
      ]
    },
    {
      "cell_type": "code",
      "execution_count": null,
      "metadata": {
        "collapsed": false
      },
      "outputs": [],
      "source": [
        "import ansys.systemcoupling.core as pysystemcoupling\nfrom ansys.systemcoupling.core import examples"
      ]
    },
    {
      "cell_type": "markdown",
      "metadata": {},
      "source": [
        "## Download the input files\nThis example requires the two FMU files to be downloaded.\n\n\n"
      ]
    },
    {
      "cell_type": "code",
      "execution_count": null,
      "metadata": {
        "collapsed": false
      },
      "outputs": [],
      "source": [
        "examples.delete_downloads()\nfmu_file_heater = examples.download_file(\n    \"thermostat.fmu\", \"pysystem-coupling/heating_tank_fmu/FMU\"\n)\nfmu_file_tank = examples.download_file(\n    \"heatingTank.fmu\", \"pysystem-coupling/heating_tank_fmu_fmu/FMU\"\n)"
      ]
    },
    {
      "cell_type": "markdown",
      "metadata": {},
      "source": [
        "## Launch System Coupling\nLaunch a remote System Coupling instance and return a *client* object\n(a ``Session`` object) that allows you to interact with System Coupling\nvia an API exposed into the current Python environment.\n\n"
      ]
    },
    {
      "cell_type": "code",
      "execution_count": null,
      "metadata": {
        "collapsed": false
      },
      "outputs": [],
      "source": [
        "syc = pysystemcoupling.launch(start_output=True)"
      ]
    },
    {
      "cell_type": "markdown",
      "metadata": {},
      "source": [
        "# Set up the coupled analysis\nSystem Coupling setup involves adding the two FMU participants,\nadding coupled interfaces and data transfers,\nand setting other coupled analysis properties.\n\n\n"
      ]
    },
    {
      "cell_type": "markdown",
      "metadata": {},
      "source": [
        "Add participants by passing session handles to System Coupling.\n\n"
      ]
    },
    {
      "cell_type": "code",
      "execution_count": null,
      "metadata": {
        "collapsed": false
      },
      "outputs": [],
      "source": [
        "heater_part_name = syc.setup.add_participant(input_file=fmu_file_heater)\ntank_part_name = syc.setup.add_participant(input_file=fmu_file_tank)"
      ]
    },
    {
      "cell_type": "markdown",
      "metadata": {},
      "source": [
        "## Set FMU settings\n\n"
      ]
    },
    {
      "cell_type": "code",
      "execution_count": null,
      "metadata": {
        "collapsed": false
      },
      "outputs": [],
      "source": [
        "# Access the heater participant object\nheater_participant = syc.setup.coupling_participant[heater_part_name]\n\n# Change the \"maximum heat output\" settings\nmax_heat_output_param = heater_participant.fmu_parameter[\"Real_2\"]\nmax_heat_output_param.real_value = 10.0\nmax_heat_output_param.display_name = \"Maximum_Heat_Output\"\n\n# Change the \"target temperature\" settings\ntarget_temperature_param = heater_participant.fmu_parameter[\"Real_3\"]\ntarget_temperature_param.real_value = 350\ntarget_temperature_param.display_name = \"Target_Temperature\"\n\n# Change the \"heat scale factor\" settings\nheat_scale_factor_param = heater_participant.fmu_parameter[\"Real_4\"]\nheat_scale_factor_param.real_value = 2.0\nheat_scale_factor_param.display_name = \"Heat_Scale_Factor\""
      ]
    },
    {
      "cell_type": "markdown",
      "metadata": {},
      "source": [
        "## Add a coupling interface and data transfers\n\n"
      ]
    },
    {
      "cell_type": "code",
      "execution_count": null,
      "metadata": {
        "collapsed": false
      },
      "outputs": [],
      "source": [
        "# Add a coupling interface for tank <-> heater (sensor, heat source)\nfmu_interface_name = syc.setup.add_interface(\n    side_one_participant=tank_part_name, side_two_participant=heater_part_name\n)\n\n# Add the temperature data transfer\ntemperature_transfer_name = syc.setup.add_data_transfer(\n    interface=fmu_interface_name,\n    target_side=\"Two\",\n    source_variable=\"Real_0\",\n    target_variable=\"Real_0\",\n)\n\n# Add the heat flow data transfer\nheatflow_transfer_name = syc.setup.add_data_transfer(\n    interface=fmu_interface_name,\n    target_side=\"One\",\n    source_variable=\"Real_1\",\n    target_variable=\"Real_1\",\n)"
      ]
    },
    {
      "cell_type": "markdown",
      "metadata": {},
      "source": [
        "Other controls\n\n"
      ]
    },
    {
      "cell_type": "code",
      "execution_count": null,
      "metadata": {
        "collapsed": false
      },
      "outputs": [],
      "source": [
        "# Set time step size\nsyc.setup.solution_control.time_step_size = \"1 [s]\"\n\n# Set the simulation end time\nsyc.setup.solution_control.end_time = \"50 [s]\"\n\n# Set minimum and maximum iterations per time step\nsyc.setup.solution_control.minimum_iterations = 1\nsyc.setup.solution_control.maximum_iterations = 5\n\n# Turn on chart output. This step is necessary\n# to chart the data after solving.\nsyc.setup.output_control.generate_csv_chart_output = True"
      ]
    },
    {
      "cell_type": "markdown",
      "metadata": {},
      "source": [
        "# Solution\n\n"
      ]
    },
    {
      "cell_type": "code",
      "execution_count": null,
      "metadata": {
        "collapsed": false
      },
      "outputs": [],
      "source": [
        "syc.solution.solve()"
      ]
    },
    {
      "cell_type": "markdown",
      "metadata": {},
      "source": [
        "# Post-processing\nPlot graphs of temperature and heat rate over time using System Coupling's\ncharting command.\n\n"
      ]
    },
    {
      "cell_type": "code",
      "execution_count": null,
      "metadata": {
        "collapsed": false
      },
      "outputs": [],
      "source": [
        "syc.solution.show_plot(interface_name=fmu_interface_name, show_convergence=False)"
      ]
    },
    {
      "cell_type": "markdown",
      "metadata": {},
      "source": [
        "# Exit\n\n"
      ]
    },
    {
      "cell_type": "code",
      "execution_count": null,
      "metadata": {
        "collapsed": false
      },
      "outputs": [],
      "source": [
        "syc.exit()"
      ]
    }
  ],
  "metadata": {
    "kernelspec": {
      "display_name": "Python 3",
      "language": "python",
      "name": "python3"
    },
    "language_info": {
      "codemirror_mode": {
        "name": "ipython",
        "version": 3
      },
      "file_extension": ".py",
      "mimetype": "text/x-python",
      "name": "python",
      "nbconvert_exporter": "python",
      "pygments_lexer": "ipython3",
      "version": "3.10.14"
    }
  },
  "nbformat": 4,
  "nbformat_minor": 0
}