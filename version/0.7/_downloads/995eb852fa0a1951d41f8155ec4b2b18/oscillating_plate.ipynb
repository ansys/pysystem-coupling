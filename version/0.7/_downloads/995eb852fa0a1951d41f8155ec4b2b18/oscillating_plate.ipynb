{
  "cells": [
    {
      "cell_type": "markdown",
      "metadata": {},
      "source": [
        "\n# Oscillating plate\n\nThis example is a version of the *Oscillating Plate* case that is\noften used as a tutorial for System Coupling. This two-way, fluid-structure\ninteraction (FSI) case is based on co-simulation of a transient oscillating\nplate with surface data transfers.\n\n- Ansys Mechanical APDL (MAPDL) is used to perform a transient structural analysis.\n- Ansys Fluent is used to perform a transient fluid-flow analysis.\n- System Coupling coordinates the coupled solution involving the above products to\n  solve the multiphysics problem via co-simulation.\n\n**Problem description**\n\nAn oscillating plate resides within a fluid-filled cavity. A thin plate is\nanchored to the bottom of a closed cavity filled with fluid (air):\n\n<img src=\"file://_static/img_oscplate_case.png\" width=\"400pt\" align=\"center\">\n\nThere is no friction between the plate and the side of the cavity. An\ninitial constant force in x-direction is applied to one side of the thin plate\nfor the first 0.5 seconds to distort it. Once this pressure is released, the plate\noscillates back and forth to regain its equilibrium, and the\nsurrounding air damps this oscillation. The plate and surrounding\nair are simulated for a few oscillations to allow an examination of the\nmotion of the plate as it is damped.\n"
      ]
    },
    {
      "cell_type": "markdown",
      "metadata": {},
      "source": [
        "# Import modules, download files, launch products\nSetting up this example consists of performing imports, downloading\nthe input file, and launching the required products.\n\n## Perform required imports\nImport ``ansys-systemcoupling-core``, ``ansys-fluent-core`` and\n``ansys-mapdl-core`` and other required packages.\n\n"
      ]
    },
    {
      "cell_type": "code",
      "execution_count": null,
      "metadata": {
        "collapsed": false
      },
      "outputs": [],
      "source": [
        "import ansys.fluent.core as pyfluent\nimport ansys.mapdl.core as pymapdl\n\nimport ansys.systemcoupling.core as pysyc\nfrom ansys.systemcoupling.core import examples"
      ]
    },
    {
      "cell_type": "markdown",
      "metadata": {},
      "source": [
        "## Download the input file\nThis example uses one pre-created file - a Fluent input file that contains\nthe fluids setup.\n\n\n"
      ]
    },
    {
      "cell_type": "code",
      "execution_count": null,
      "metadata": {
        "collapsed": false
      },
      "outputs": [],
      "source": [
        "fluent_cas_file = examples.download_file(\n    \"oscillating_plate.cas.h5\", \"pysystem-coupling/oscillating_plate\"\n)"
      ]
    },
    {
      "cell_type": "markdown",
      "metadata": {},
      "source": [
        "## Launch products\nLaunch instances of the Mechanical APDL, Fluent, and System Coupling\nand return *client* (session) objects that allow you to interact with\nthese products via APIs exposed into the current Python environment.\n\n"
      ]
    },
    {
      "cell_type": "code",
      "execution_count": null,
      "metadata": {
        "collapsed": false
      },
      "outputs": [],
      "source": [
        "mapdl = pymapdl.launch_mapdl()\nfluent = pyfluent.launch_fluent(start_transcript=False)\nsyc = pysyc.launch(start_output=True)"
      ]
    },
    {
      "cell_type": "markdown",
      "metadata": {},
      "source": [
        "# Setup\nThe setup consists of setting up the structural analysis,\nthe fluids analysis, and the coupled analysis.\n\n"
      ]
    },
    {
      "cell_type": "markdown",
      "metadata": {},
      "source": [
        "## Set up the structural analysis\n\n"
      ]
    },
    {
      "cell_type": "markdown",
      "metadata": {},
      "source": [
        "Enter Mechancal APDL setup\n\n"
      ]
    },
    {
      "cell_type": "code",
      "execution_count": null,
      "metadata": {
        "collapsed": false
      },
      "outputs": [],
      "source": [
        "mapdl.prep7()"
      ]
    },
    {
      "cell_type": "markdown",
      "metadata": {},
      "source": [
        "Define material properties.\n\n"
      ]
    },
    {
      "cell_type": "code",
      "execution_count": null,
      "metadata": {
        "collapsed": false
      },
      "outputs": [],
      "source": [
        "mapdl.mp(\"DENS\", 1, 2550)  # density\nmapdl.mp(\"ALPX\", 1, 1.2e-05)  # thermal expansion coefficient\nmapdl.mp(\"EX\", 1, 2500000)  # Young's modulus\nmapdl.mp(\"NUXY\", 1, 0.35)  # Poisson's ratio"
      ]
    },
    {
      "cell_type": "markdown",
      "metadata": {},
      "source": [
        "Set element types to SOLID186.\n\n"
      ]
    },
    {
      "cell_type": "code",
      "execution_count": null,
      "metadata": {
        "collapsed": false
      },
      "outputs": [],
      "source": [
        "mapdl.et(1, 186)\nmapdl.keyopt(1, 2, 1)"
      ]
    },
    {
      "cell_type": "markdown",
      "metadata": {},
      "source": [
        "Make geometry.\n\n"
      ]
    },
    {
      "cell_type": "code",
      "execution_count": null,
      "metadata": {
        "collapsed": false
      },
      "outputs": [],
      "source": [
        "mapdl.block(10.00, 10.06, 0.0, 1.0, 0.0, 0.4)\nmapdl.vsweep(1)"
      ]
    },
    {
      "cell_type": "markdown",
      "metadata": {},
      "source": [
        "Add fixed support at y=0.\n\n"
      ]
    },
    {
      "cell_type": "code",
      "execution_count": null,
      "metadata": {
        "collapsed": false
      },
      "outputs": [],
      "source": [
        "mapdl.run(\"NSEL,S,LOC,Y,0\")\nmapdl.d(\"all\", \"all\")"
      ]
    },
    {
      "cell_type": "markdown",
      "metadata": {},
      "source": [
        "Add the FSI interface.\n\n"
      ]
    },
    {
      "cell_type": "code",
      "execution_count": null,
      "metadata": {
        "collapsed": false
      },
      "outputs": [],
      "source": [
        "mapdl.nsel(\"S\", \"LOC\", \"X\", 9.99, 10.01)\nmapdl.nsel(\"A\", \"LOC\", \"Y\", 0.99, 1.01)\nmapdl.nsel(\"A\", \"LOC\", \"X\", 10.05, 10.07)\nmapdl.cm(\"FSIN_1\", \"NODE\")\nmapdl.sf(\"FSIN_1\", \"FSIN\", 1)"
      ]
    },
    {
      "cell_type": "markdown",
      "metadata": {},
      "source": [
        "Set up the rest of the transient analysis\n\n"
      ]
    },
    {
      "cell_type": "code",
      "execution_count": null,
      "metadata": {
        "collapsed": false
      },
      "outputs": [],
      "source": [
        "mapdl.allsel()\nmapdl.run(\"/SOLU\")\nmapdl.antype(4)  # transient analysis\nmapdl.nlgeom(\"ON\")  # large deformations\nmapdl.kbc(1)\nmapdl.trnopt(\"full\", \"\", \"\", \"\", \"\", \"hht\")\nmapdl.tintp(0.1)\nmapdl.autots(\"off\")\nmapdl.run(\"nsub,1,1,1\")\nmapdl.run(\"time,10.0\")\nmapdl.timint(\"on\")"
      ]
    },
    {
      "cell_type": "markdown",
      "metadata": {},
      "source": [
        "## Set up the fluid analysis\n\n"
      ]
    },
    {
      "cell_type": "markdown",
      "metadata": {},
      "source": [
        "Read the pre-created case file\n\n"
      ]
    },
    {
      "cell_type": "code",
      "execution_count": null,
      "metadata": {
        "collapsed": false
      },
      "outputs": [],
      "source": [
        "fluent.file.read(file_type=\"case\", file_name=fluent_cas_file)"
      ]
    },
    {
      "cell_type": "markdown",
      "metadata": {},
      "source": [
        "## Set up the coupled analysis\nSystem Coupling setup involves adding the structural and fluid\nparticipants, adding coupled interfaces and data transfers,\nand setting other coupled analysis properties.\n\n"
      ]
    },
    {
      "cell_type": "markdown",
      "metadata": {},
      "source": [
        "Add participants by passing session handles to System Coupling.\n\n"
      ]
    },
    {
      "cell_type": "code",
      "execution_count": null,
      "metadata": {
        "collapsed": false
      },
      "outputs": [],
      "source": [
        "solid_name = syc.setup.add_participant(participant_session=mapdl)\nfluid_name = syc.setup.add_participant(participant_session=fluent)\n\nsyc.setup.coupling_participant[solid_name].display_name = \"Solid\"\nsyc.setup.coupling_participant[fluid_name].display_name = \"Fluid\""
      ]
    },
    {
      "cell_type": "markdown",
      "metadata": {},
      "source": [
        "Add a coupling interface and data transfers.\n\n"
      ]
    },
    {
      "cell_type": "code",
      "execution_count": null,
      "metadata": {
        "collapsed": false
      },
      "outputs": [],
      "source": [
        "interface_name = syc.setup.add_interface(\n    side_one_participant=fluid_name,\n    side_one_regions=[\"wall_deforming\"],\n    side_two_participant=solid_name,\n    side_two_regions=[\"FSIN_1\"],\n)\n\n# set up 2-way FSI coupling - add force & displacement data transfers\ndt_names = syc.setup.add_fsi_data_transfers(interface=interface_name)\n\n# modify force transfer to apply constant initial loading for the first 0.5 [s]\nforce_transfer = syc.setup.coupling_interface[interface_name].data_transfer[\"FORC\"]\nforce_transfer.option = \"UsingExpression\"\nforce_transfer.value = \"vector(5.0 [N], 0.0 [N], 0.0 [N]) if Time < 0.5 [s] else force\""
      ]
    },
    {
      "cell_type": "markdown",
      "metadata": {},
      "source": [
        "Time step size, end time, output controls\n\n"
      ]
    },
    {
      "cell_type": "code",
      "execution_count": null,
      "metadata": {
        "collapsed": false
      },
      "outputs": [],
      "source": [
        "syc.setup.solution_control.time_step_size = \"0.1 [s]\"  # time step is 0.1 [s]\nsyc.setup.solution_control.end_time = 10  # end time is 10.0 [s]\n\nsyc.setup.output_control.option = \"EveryStep\"\nsyc.setup.output_control.generate_csv_chart_output = True"
      ]
    },
    {
      "cell_type": "markdown",
      "metadata": {},
      "source": [
        "# Solution\n\n"
      ]
    },
    {
      "cell_type": "code",
      "execution_count": null,
      "metadata": {
        "collapsed": false
      },
      "outputs": [],
      "source": [
        "syc.solution.solve()"
      ]
    },
    {
      "cell_type": "markdown",
      "metadata": {},
      "source": [
        "# Post-processing\n\n"
      ]
    },
    {
      "cell_type": "markdown",
      "metadata": {},
      "source": [
        "Post-process the structural results\n\n"
      ]
    },
    {
      "cell_type": "code",
      "execution_count": null,
      "metadata": {
        "collapsed": false
      },
      "outputs": [],
      "source": [
        "mapdl.finish()\nmapdl.post1()\nnode_ids, node_coords = mapdl.result.nodal_displacement(0)\nmax_dx = max([value[0] for value in node_coords])\nprint(f\"There are {len(node_ids)} nodes. Maximum x-displacement is {max_dx}\")"
      ]
    },
    {
      "cell_type": "markdown",
      "metadata": {},
      "source": [
        "Post-process the fluids results\n\n"
      ]
    },
    {
      "cell_type": "code",
      "execution_count": null,
      "metadata": {
        "collapsed": false
      },
      "outputs": [],
      "source": [
        "# use_window_resolution option not active inside containers or Ansys Lab environment\nif fluent.results.graphics.picture.use_window_resolution.is_active():\n    fluent.results.graphics.picture.use_window_resolution = False\n\nfluent.results.graphics.picture.x_resolution = 1920\nfluent.results.graphics.picture.y_resolution = 1440\n\nfluent.results.graphics.contour[\"contour_static_pressure\"] = {}\ncontour = fluent.results.graphics.contour[\"contour_static_pressure\"]\n\ncontour.coloring.option = \"banded\"\ncontour.field = \"pressure\"\ncontour.filled = True\n\ncontour.surfaces_list = [\"symmetry1\", \"wall_deforming\"]\ncontour.display()\n\nfluent.results.graphics.views.restore_view(view_name=\"front\")\nfluent.results.graphics.views.auto_scale()\nfluent.results.graphics.picture.save_picture(file_name=\"oscplate_pressure_contour.png\")"
      ]
    },
    {
      "cell_type": "markdown",
      "metadata": {},
      "source": [
        "<img src=\"file://_static/oscplate_pressure_contour.png\" width=\"500pt\" align=\"center\">\n\n"
      ]
    },
    {
      "cell_type": "markdown",
      "metadata": {},
      "source": [
        "Post-process the System Coupling results - display the charts\nshowing displacement and force values during the simulation\n\n"
      ]
    },
    {
      "cell_type": "code",
      "execution_count": null,
      "metadata": {
        "collapsed": false
      },
      "outputs": [],
      "source": [
        "syc.solution.show_plot(show_convergence=False)"
      ]
    },
    {
      "cell_type": "markdown",
      "metadata": {},
      "source": [
        "# Exit\n\n"
      ]
    },
    {
      "cell_type": "code",
      "execution_count": null,
      "metadata": {
        "collapsed": false
      },
      "outputs": [],
      "source": [
        "syc.exit()\nfluent.exit()\nmapdl.exit()"
      ]
    }
  ],
  "metadata": {
    "kernelspec": {
      "display_name": "Python 3",
      "language": "python",
      "name": "python3"
    },
    "language_info": {
      "codemirror_mode": {
        "name": "ipython",
        "version": 3
      },
      "file_extension": ".py",
      "mimetype": "text/x-python",
      "name": "python",
      "nbconvert_exporter": "python",
      "pygments_lexer": "ipython3",
      "version": "3.10.14"
    }
  },
  "nbformat": 4,
  "nbformat_minor": 0
}