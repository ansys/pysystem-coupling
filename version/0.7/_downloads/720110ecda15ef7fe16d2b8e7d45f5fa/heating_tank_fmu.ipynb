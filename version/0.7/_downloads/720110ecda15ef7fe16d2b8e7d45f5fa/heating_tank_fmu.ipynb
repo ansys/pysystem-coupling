{
  "cells": [
    {
      "cell_type": "markdown",
      "metadata": {},
      "source": [
        "\n# Heating tank with a Functional Mock-up Unit (FMU)\n\nThis demo illustrates a transient coupled simulation of convection\nheating of a fluid in a cylindrical tank. Fluent is used to prepare\nthe thermal analysis while heat flow in source is controlled via an FMU,\nby taking the temperature from a sensor as an input.\n\n- Ansys Fluent is used to perform the transient fluid-thermal analysis.\n- FMU is used to control the heat flow at the bottom of the tank.\n- System Coupling coordinates the simultaneous execution of the solvers for\n  these Ansys products and the data transfers between their coupled surface regions.\n\n**Problem description**\n\nHeating tank with FMU:\n\n<img src=\"file://_static/heating_tank_fmu.png\" width=\"400pt\" align=\"center\">\n\nThe thermostat receives a temperature from the Fluent sensor\nand outputs a heat-rate. The FMU has three parameters that\ncan be set:\n\n    - Target temperature [K]\n    - Maximum heat output [W]\n    - Heat scale factor [W/K].\n\nTwo coupling interfaces :\n\n    - sensor-FMU coupling interface\n    - heat source- FMU coupling interface\n\nTwo data transfers :\n\n    - temperature\n    - heat flow\n"
      ]
    },
    {
      "cell_type": "code",
      "execution_count": null,
      "metadata": {
        "collapsed": false
      },
      "outputs": [],
      "source": [
        "# Tags: FMU, Fluent, transient"
      ]
    },
    {
      "cell_type": "markdown",
      "metadata": {},
      "source": [
        "# Import modules, download files, launch products\nSetting up this example consists of performing imports, downloading\nthe input file, and launching the required products.\n\n## Perform required imports\nImport the ``ansys-systemcoupling-core`` package and other required packages.\n\n"
      ]
    },
    {
      "cell_type": "code",
      "execution_count": null,
      "metadata": {
        "collapsed": false
      },
      "outputs": [],
      "source": [
        "import ansys.fluent.core as pyfluent\n\nimport ansys.systemcoupling.core as pysystemcoupling\nfrom ansys.systemcoupling.core import examples"
      ]
    },
    {
      "cell_type": "markdown",
      "metadata": {},
      "source": [
        "## Download input files\nDownload the case file for Fluent and the FMU file.\n\n"
      ]
    },
    {
      "cell_type": "code",
      "execution_count": null,
      "metadata": {
        "collapsed": false
      },
      "outputs": [],
      "source": [
        "fmu_file = examples.download_file(\n    \"thermostat.fmu\", \"pysystem-coupling/heating_tank_fmu/FMU\"\n)\n\nfluent_cas_file = examples.download_file(\n    \"fluent.cas.h5\", \"pysystem-coupling/heating_tank_fmu/Fluent\"\n)"
      ]
    },
    {
      "cell_type": "markdown",
      "metadata": {},
      "source": [
        "## Launch products\nLaunch a remote Fluent and System Coupling instances and\nreturn *client* objects that allows you to interact with\nthese products via an API exposed into the current Python\nenvironment.\n\n<div class=\"alert alert-info\"><h4>Note</h4><p>Fluent version greater than 24.1 is required.\n   To specify Fluent version explicitly when launching Fluent,\n   use ``product_version`` argument to the ``launch_fluent``\n   function, for example ``pyfluent.launch_fluent(product_version=\"24.2.0\")``</p></div>\n\n"
      ]
    },
    {
      "cell_type": "code",
      "execution_count": null,
      "metadata": {
        "collapsed": false
      },
      "outputs": [],
      "source": [
        "fluent = pyfluent.launch_fluent(start_transcript=False)\nsyc = pysystemcoupling.launch(start_output=True)"
      ]
    },
    {
      "cell_type": "markdown",
      "metadata": {},
      "source": [
        "# Setup\nThe setup consists of setting up the the fluids analysis\nand the coupled analysis.\n\n"
      ]
    },
    {
      "cell_type": "markdown",
      "metadata": {},
      "source": [
        "## Set up the fluid analysis\n\n"
      ]
    },
    {
      "cell_type": "markdown",
      "metadata": {},
      "source": [
        "Read the pre-created case file.\n\n"
      ]
    },
    {
      "cell_type": "code",
      "execution_count": null,
      "metadata": {
        "collapsed": false
      },
      "outputs": [],
      "source": [
        "fluent.file.read(file_type=\"case\", file_name=fluent_cas_file)"
      ]
    },
    {
      "cell_type": "markdown",
      "metadata": {},
      "source": [
        "## Set up the coupled analysis\nSystem Coupling setup involves adding the fluid and FMU\nparticipants, adding coupled interfaces and data transfers,\nand setting other coupled analysis properties.\n\n"
      ]
    },
    {
      "cell_type": "markdown",
      "metadata": {},
      "source": [
        "Add participants\n\n"
      ]
    },
    {
      "cell_type": "code",
      "execution_count": null,
      "metadata": {
        "collapsed": false
      },
      "outputs": [],
      "source": [
        "fluid_name = syc.setup.add_participant(participant_session=fluent)\nfmu_name = syc.setup.add_participant(input_file=fmu_file)"
      ]
    },
    {
      "cell_type": "markdown",
      "metadata": {},
      "source": [
        "Set FMU settings\n\n"
      ]
    },
    {
      "cell_type": "code",
      "execution_count": null,
      "metadata": {
        "collapsed": false
      },
      "outputs": [],
      "source": [
        "fmu_participant = syc.setup.coupling_participant[fmu_name]\n\n# Change the \"maximum heat output\" settings\nmax_heat_output_param = fmu_participant.fmu_parameter[\"Real_2\"]\nmax_heat_output_param.real_value = 10.0\nmax_heat_output_param.display_name = \"Maximum_Heat_Output\"\n\n# Change the \"target temperature\" settings\ntarget_temperature_param = fmu_participant.fmu_parameter[\"Real_3\"]\ntarget_temperature_param.real_value = 350\ntarget_temperature_param.display_name = \"Target_Temperature\"\n\n# Change the \"heat scale factor\" settings\nheat_scale_factor_param = fmu_participant.fmu_parameter[\"Real_4\"]\nheat_scale_factor_param.real_value = 2.0\nheat_scale_factor_param.display_name = \"Heat_Scale_Factor\""
      ]
    },
    {
      "cell_type": "markdown",
      "metadata": {},
      "source": [
        "## Add a coupling interface and data transfers\n\n"
      ]
    },
    {
      "cell_type": "code",
      "execution_count": null,
      "metadata": {
        "collapsed": false
      },
      "outputs": [],
      "source": [
        "# Add a coupling interface for Fluent sensor region -> FMU\nsensor_interface_name = syc.setup.add_interface(\n    side_one_participant=fluid_name,\n    side_one_regions=[\"sensor\"],\n    side_two_participant=fmu_name,\n)\n\n# Add the temperature data transfer\ntemperature_transfer_name = syc.setup.add_data_transfer(\n    interface=sensor_interface_name,\n    target_side=\"Two\",\n    source_variable=\"temperature\",\n    target_variable=\"Real_0\",\n)\n\n# Add a coupling interface for FMU -> Fluent heat source region\nheat_source_interface_name = syc.setup.add_interface(\n    side_one_participant=fmu_name,\n    side_two_participant=fluid_name,\n    side_two_regions=[\"heat_source\"],\n)\n\n# Add the heat flow data transfer\nheatflow_transfer_name = syc.setup.add_data_transfer(\n    interface=heat_source_interface_name,\n    target_side=\"Two\",\n    source_variable=\"Real_1\",\n    target_variable=\"heatflow\",\n)"
      ]
    },
    {
      "cell_type": "markdown",
      "metadata": {},
      "source": [
        "Other controls\n\n"
      ]
    },
    {
      "cell_type": "code",
      "execution_count": null,
      "metadata": {
        "collapsed": false
      },
      "outputs": [],
      "source": [
        "# Set time step size\nsyc.setup.solution_control.time_step_size = \"0.5 [s]\"\n\n# Set the simulation end time\nsyc.setup.solution_control.end_time = \"40.0 [s]\"\n\n# Set minimum and maximum iterations per time step\nsyc.setup.solution_control.minimum_iterations = 1\nsyc.setup.solution_control.maximum_iterations = 5\n\n# Turn on chart output\nsyc.setup.output_control.generate_csv_chart_output = True"
      ]
    },
    {
      "cell_type": "markdown",
      "metadata": {},
      "source": [
        "# Solution\n\n"
      ]
    },
    {
      "cell_type": "code",
      "execution_count": null,
      "metadata": {
        "collapsed": false
      },
      "outputs": [],
      "source": [
        "syc.solution.solve()"
      ]
    },
    {
      "cell_type": "markdown",
      "metadata": {},
      "source": [
        "# Post-processing\nPrint the chart displaying sensor temperature over time\n\n"
      ]
    },
    {
      "cell_type": "code",
      "execution_count": null,
      "metadata": {
        "collapsed": false
      },
      "outputs": [],
      "source": [
        "syc.solution.show_plot(\n    interface_name=sensor_interface_name,\n    show_convergence=False,\n)"
      ]
    },
    {
      "cell_type": "markdown",
      "metadata": {},
      "source": [
        "# Exit\n\n"
      ]
    },
    {
      "cell_type": "code",
      "execution_count": null,
      "metadata": {
        "collapsed": false
      },
      "outputs": [],
      "source": [
        "syc.exit()"
      ]
    }
  ],
  "metadata": {
    "kernelspec": {
      "display_name": "Python 3",
      "language": "python",
      "name": "python3"
    },
    "language_info": {
      "codemirror_mode": {
        "name": "ipython",
        "version": 3
      },
      "file_extension": ".py",
      "mimetype": "text/x-python",
      "name": "python",
      "nbconvert_exporter": "python",
      "pygments_lexer": "ipython3",
      "version": "3.10.14"
    }
  },
  "nbformat": 4,
  "nbformat_minor": 0
}