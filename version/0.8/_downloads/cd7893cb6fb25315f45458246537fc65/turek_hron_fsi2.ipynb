{
  "cells": [
    {
      "cell_type": "markdown",
      "metadata": {},
      "source": [
        "\n# Turek-Hron FSI2 Benchmark Example\n\nThis example is a version of the *Turek-Hron FSI2* case that is\noften used as a benchmark case for System Coupling. This two-way, fluid-structure\ninteraction (FSI) case is based on co-simulation of a transient oscillating\nbeam with surface data transfers.\n\n- Ansys Mechanical APDL (MAPDL) is used to perform a transient structural analysis.\n- Ansys Fluent is used to perform a transient fluid-flow analysis.\n- System Coupling coordinates the coupled solution involving the above products to\n  solve the multiphysics problem via co-simulation.\n\n**Problem description**\n\nAn elastic beam structure is attached to a rigid cylinder. The system\nresides within a fluid filled channel:\n\n<img src=\"file://_static/turek_hron_case.png\" width=\"400pt\" align=\"center\">\n\nThe flow is laminar with a Reynolds number of $Re = 100$. The inlet velocity\nhas a parabolic profile with a maximum value of $1.5 \\cdot \\bar{U}$, where $\\bar{U}$\nis the average inlet velocity. The cylinder sits at an offset of $0.05~m$ to the\nincoming flow, causing an imbalance of surface forces on the elastic beam.\nThe beam and the surrounding fluid are simulated for a few time setps to\nallow an examination of the motion of the beam as it starts vibrating due to\nvortices shedded by the rigid cylinder.\n"
      ]
    },
    {
      "cell_type": "markdown",
      "metadata": {},
      "source": [
        "# Import modules, download files, launch products\nSetting up this example consists of performing imports, downloading\nthe input file, and launching the required products.\n\n## Perform required imports\nImport ``ansys-systemcoupling-core``, ``ansys-fluent-core`` and\n``ansys-mapdl-core`` and other required packages.\n\n"
      ]
    },
    {
      "cell_type": "code",
      "execution_count": null,
      "metadata": {
        "collapsed": false
      },
      "outputs": [],
      "source": [
        "import ansys.fluent.core as pyfluent\nimport ansys.mapdl.core as pymapdl\nimport matplotlib.pyplot as plt\n\nimport ansys.systemcoupling.core as pysyc\nfrom ansys.systemcoupling.core import examples"
      ]
    },
    {
      "cell_type": "markdown",
      "metadata": {},
      "source": [
        "## Download the input file\nThis example uses one pre-created file - a Fluent mesh file that contains\nthe fluids mesh and named zones.\n\n\n"
      ]
    },
    {
      "cell_type": "code",
      "execution_count": null,
      "metadata": {
        "collapsed": false
      },
      "outputs": [],
      "source": [
        "fluent_msh_file = examples.download_file(\n    \"turek_hron_fluid.msh\", \"pysystem-coupling/turek-horn-benchmark\"\n)\n\nmapdl_cdb_file = examples.download_file(\n    \"turek_hron_solid_model.cdb\", \"pysystem-coupling/turek-horn-benchmark\"\n)"
      ]
    },
    {
      "cell_type": "markdown",
      "metadata": {},
      "source": [
        "## Launch products\nLaunch instances of the Mechanical APDL, Fluent, and System Coupling\nand return *client* (session) objects that allow you to interact with\nthese products via APIs exposed into the current Python environment.\n\n"
      ]
    },
    {
      "cell_type": "code",
      "execution_count": null,
      "metadata": {
        "collapsed": false
      },
      "outputs": [],
      "source": [
        "mapdl = pymapdl.launch_mapdl()\nfluent = pyfluent.launch_fluent()\n\nsyc = pysyc.launch(start_output=True)"
      ]
    },
    {
      "cell_type": "markdown",
      "metadata": {},
      "source": [
        "# Setup Mechanical APDL, Fluent, and System Coupling analyses\nThe setup consists of setting up the structural analysis,\nthe fluids analysis, and the coupled analysis.\n\n"
      ]
    },
    {
      "cell_type": "markdown",
      "metadata": {},
      "source": [
        "## Define constants\n\n"
      ]
    },
    {
      "cell_type": "code",
      "execution_count": null,
      "metadata": {
        "collapsed": false
      },
      "outputs": [],
      "source": [
        "CYLINDER_DIA = 0.1  # Diameter of the cylinder\nRE = 100  # Reynolds number\nU_BAR = 1  # Average velocity\nFLUID_DENS = 1000  # Fluid density\nSOLID_DENS = 10000  # Solid density\nNU = 0.4  # Poisson's ratio\nG = 500000  # Shear modulus\nE = 2 * G * (1 + NU)  # Youngs modulus"
      ]
    },
    {
      "cell_type": "markdown",
      "metadata": {},
      "source": [
        "## Clear cache\n\n"
      ]
    },
    {
      "cell_type": "code",
      "execution_count": null,
      "metadata": {
        "collapsed": false
      },
      "outputs": [],
      "source": [
        "mapdl.clear()"
      ]
    },
    {
      "cell_type": "markdown",
      "metadata": {},
      "source": [
        "## Enter Mechancal APDL setup\n\n"
      ]
    },
    {
      "cell_type": "code",
      "execution_count": null,
      "metadata": {
        "collapsed": false
      },
      "outputs": [],
      "source": [
        "mapdl.prep7()"
      ]
    },
    {
      "cell_type": "markdown",
      "metadata": {},
      "source": [
        "## Read the CDB file\n\n"
      ]
    },
    {
      "cell_type": "code",
      "execution_count": null,
      "metadata": {
        "collapsed": false
      },
      "outputs": [],
      "source": [
        "mapdl.cdread(option=\"DB\", fname=mapdl_cdb_file)"
      ]
    },
    {
      "cell_type": "markdown",
      "metadata": {},
      "source": [
        "## Define material properties.\n\n"
      ]
    },
    {
      "cell_type": "code",
      "execution_count": null,
      "metadata": {
        "collapsed": false
      },
      "outputs": [],
      "source": [
        "mapdl.mp(\"DENS\", 1, SOLID_DENS)  # density\nmapdl.mp(\"EX\", 1, E)  # Young's modulus\nmapdl.mp(\"NUXY\", 1, NU)  # Poisson's ratio\nmapdl.mp(\"GXY\", 1, G)  # Shear modulus"
      ]
    },
    {
      "cell_type": "markdown",
      "metadata": {},
      "source": [
        "## Mechanical solver setup\n\n"
      ]
    },
    {
      "cell_type": "code",
      "execution_count": null,
      "metadata": {
        "collapsed": false
      },
      "outputs": [],
      "source": [
        "mapdl.slashsolu()\nmapdl.antype(4)\nmapdl.nlgeom(\"on\")\nmapdl.kbc(1)\n\nmapdl.eqslv(\"sparse\")\nmapdl.run(\"rstsuppress,none\")  # don't suppress anything due to presence of FSI loading\nmapdl.dmpoption(\"emat\", \"no\")\nmapdl.dmpoption(\"esav\", \"no\")\n\nmapdl.cmwrite()  # Export components due to presence of FSI loading\nmapdl.trnopt(tintopt=\"hht\")\nmapdl.tintp(\"mosp\")  # No such option in docs\nmapdl.nldiag(\"cont\", \"iter\")\nmapdl.scopt(\"NO\")\n\nmapdl.autots(\"on\")  # User turned on automatic time stepping\nmapdl.nsubst(1, 1, 1, \"OFF\")\nmapdl.time(20.0)  # Max time set to any high value; will be controlled by syc\nmapdl.timint(\"on\")\n\nmapdl.outres(\"all\", \"all\")"
      ]
    },
    {
      "cell_type": "markdown",
      "metadata": {},
      "source": [
        "## Set up the fluid analysis\n\n"
      ]
    },
    {
      "cell_type": "markdown",
      "metadata": {},
      "source": [
        "Read the pre-created mesh file\n\n"
      ]
    },
    {
      "cell_type": "code",
      "execution_count": null,
      "metadata": {
        "collapsed": false
      },
      "outputs": [],
      "source": [
        "fluent.file.read_mesh(file_name=fluent_msh_file)\nfluent.mesh.check()"
      ]
    },
    {
      "cell_type": "markdown",
      "metadata": {},
      "source": [
        "## Define fluids general solver settings\n\n"
      ]
    },
    {
      "cell_type": "code",
      "execution_count": null,
      "metadata": {
        "collapsed": false
      },
      "outputs": [],
      "source": [
        "fluent.setup.general.solver.type = \"pressure-based\"\nfluent.solution.methods.high_order_term_relaxation.enable = True"
      ]
    },
    {
      "cell_type": "markdown",
      "metadata": {},
      "source": [
        "## Define the fluid and update the material properties\n\n"
      ]
    },
    {
      "cell_type": "code",
      "execution_count": null,
      "metadata": {
        "collapsed": false
      },
      "outputs": [],
      "source": [
        "viscosity = (FLUID_DENS * U_BAR * CYLINDER_DIA) / RE\n\nfluent.setup.models.viscous.model = \"laminar\"\nfluent.setup.materials.fluid[\"water\"] = {\n    \"density\": {\"option\": \"constant\", \"value\": FLUID_DENS},\n    \"viscosity\": {\"option\": \"constant\", \"value\": viscosity},\n}\n\nfluent.setup.cell_zone_conditions.fluid[\"*fluid*\"].general.material = \"water\"\nfluent.setup.materials.print_state()"
      ]
    },
    {
      "cell_type": "markdown",
      "metadata": {},
      "source": [
        "## Create the parabolic inlet profile as a named expression\n\n"
      ]
    },
    {
      "cell_type": "code",
      "execution_count": null,
      "metadata": {
        "collapsed": false
      },
      "outputs": [],
      "source": [
        "fluent.setup.named_expressions[\"u_bar\"] = {  # average velocity\n    \"definition\": f\"{U_BAR} [m/s]\"\n}\nfluent.setup.named_expressions[\"t_bar\"] = {\"definition\": \"1.0 [s]\"}\nfluent.setup.named_expressions[\"y_bar\"] = {\"definition\": \"1.0 [m]\"}\nfluent.setup.named_expressions[\"u_y\"] = {\n    \"definition\": f\"(6 * u_bar / ( ( 4.1 * {CYLINDER_DIA} ) ** 2 )) \\\n* ( y/y_bar + 0.2 ) * ( 0.21 - y/y_bar )\"\n}"
      ]
    },
    {
      "cell_type": "markdown",
      "metadata": {},
      "source": [
        "## Update the inlet field\n\n"
      ]
    },
    {
      "cell_type": "code",
      "execution_count": null,
      "metadata": {
        "collapsed": false
      },
      "outputs": [],
      "source": [
        "inlet_fluid = fluent.setup.boundary_conditions.velocity_inlet[\"inlet\"]\ninlet_fluid.momentum.initial_gauge_pressure.value = 0\ninlet_fluid.momentum.velocity.value = \"u_y\"\nfluent.setup.named_expressions.print_state()"
      ]
    },
    {
      "cell_type": "markdown",
      "metadata": {},
      "source": [
        "## Setup any relevant solution controls\n\n"
      ]
    },
    {
      "cell_type": "code",
      "execution_count": null,
      "metadata": {
        "collapsed": false
      },
      "outputs": [],
      "source": [
        "fluent.solution.methods.discretization_scheme = {\n    \"mom\": \"second-order-upwind\",\n    \"pressure\": \"second-order\",\n}"
      ]
    },
    {
      "cell_type": "markdown",
      "metadata": {},
      "source": [
        "## Initialize the flow field & run a steady simulation\nFirst, a steady simulation is conducted to initialize the\nflow field with the parabolic inlet flow.\n\n"
      ]
    },
    {
      "cell_type": "code",
      "execution_count": null,
      "metadata": {
        "collapsed": false
      },
      "outputs": [],
      "source": [
        "fluent.solution.initialization.hybrid_initialize()\nfluent.solution.run_calculation.iterate(iter_count=500)"
      ]
    },
    {
      "cell_type": "markdown",
      "metadata": {},
      "source": [
        "## Switch to transient mode and prepare for coupling\n\n"
      ]
    },
    {
      "cell_type": "code",
      "execution_count": null,
      "metadata": {
        "collapsed": false
      },
      "outputs": [],
      "source": [
        "fluent.setup.general.solver.time = \"unsteady-1st-order\""
      ]
    },
    {
      "cell_type": "markdown",
      "metadata": {},
      "source": [
        "## Define dynamic meshing\nDefine dynamic meshing for deforming symmetry planes.\nCurrently, dynamic_mesh is not exposed to the fluent root\nsession directly. We need to use the `tui` framework to create\ndynamic zones.\n\n"
      ]
    },
    {
      "cell_type": "code",
      "execution_count": null,
      "metadata": {
        "collapsed": false
      },
      "outputs": [],
      "source": [
        "fluent.tui.define.dynamic_mesh.dynamic_mesh(\"yes\", \"no\", \"no\", \"no\", \"no\")\nfluent.tui.define.dynamic_mesh.zones.create(\"fsi\", \"system-coupling\")\nfluent.tui.define.dynamic_mesh.zones.create(\n    \"symmetry_bot\",\n    \"deforming\",\n    \"plane\",\n    \"0.\",\n    \"0.\",\n    \"0.00\",\n    \"0\",\n    \"0\",\n    \"1\",\n    \"no\",\n    \"yes\",\n    \"yes\",\n    \"yes\",\n    \"no\",\n    \"yes\",\n    \"no\",\n    \"yes\",\n)\nfluent.tui.define.dynamic_mesh.zones.create(\n    \"symmetry_top\",\n    \"deforming\",\n    \"plane\",\n    \"0.\",\n    \"0.\",\n    \"0.01\",\n    \"0\",\n    \"0\",\n    \"1\",\n    \"no\",\n    \"yes\",\n    \"yes\",\n    \"yes\",\n    \"no\",\n    \"yes\",\n    \"no\",\n    \"yes\",\n)"
      ]
    },
    {
      "cell_type": "markdown",
      "metadata": {},
      "source": [
        "## Results and output controls\nDefine number of sub-steps fluent iterates for each coupling step.\nMaximum integration time and total steps are controlled by\nsystem coupling.\n\n"
      ]
    },
    {
      "cell_type": "code",
      "execution_count": null,
      "metadata": {
        "collapsed": false
      },
      "outputs": [],
      "source": [
        "fluent.solution.run_calculation.transient_controls.max_iter_per_time_step = 20\n\n\nfluent.file.auto_save.save_data_file_every.frequency_type = \"time-step\"\nfluent.file.auto_save.data_frequency = 10\nfluent.file.auto_save.root_name = \"turek_hron_fluid_resolved\""
      ]
    },
    {
      "cell_type": "markdown",
      "metadata": {},
      "source": [
        "## Set up the coupled analysis\nSystem Coupling setup involves adding the structural and fluid\nparticipants, adding coupled interfaces and data transfers,\nand setting other coupled analysis properties.\n\n"
      ]
    },
    {
      "cell_type": "markdown",
      "metadata": {},
      "source": [
        "## Add participants\nAdd participants by passing session handles to System Coupling.\n\n"
      ]
    },
    {
      "cell_type": "code",
      "execution_count": null,
      "metadata": {
        "collapsed": false
      },
      "outputs": [],
      "source": [
        "fluid = syc.setup.add_participant(participant_session=fluent)\nsolid = syc.setup.add_participant(participant_session=mapdl)"
      ]
    },
    {
      "cell_type": "markdown",
      "metadata": {},
      "source": [
        "## Setup the interface and data transfers\nAdd a coupling interface and data transfers.\n\n"
      ]
    },
    {
      "cell_type": "code",
      "execution_count": null,
      "metadata": {
        "collapsed": false
      },
      "outputs": [],
      "source": [
        "interface_name = syc.setup.add_interface(\n    side_one_participant=fluid,\n    side_one_regions=[\"fsi\"],\n    side_two_participant=solid,\n    side_two_regions=[\"FSIN_1\"],\n)\n\n\n# set up 2-way FSI coupling - add force & displacement data transfers\ndata_transfer = syc.setup.add_fsi_data_transfers(interface=interface_name)\nforce_transfer = syc.setup.coupling_interface[interface_name].data_transfer[\"FORC\"]\nforce_transfer.relaxation_factor = 0.5"
      ]
    },
    {
      "cell_type": "markdown",
      "metadata": {},
      "source": [
        "Time step size, end time, output controls\n\n"
      ]
    },
    {
      "cell_type": "code",
      "execution_count": null,
      "metadata": {
        "collapsed": false
      },
      "outputs": [],
      "source": [
        "syc.setup.solution_control.time_step_size = \"0.01 [s]\"  # time step is 0.01 [s]\n\n# To generate similar results shown in this example documentation, increase an end_time\n# parameter to 15 [s].\nsyc.setup.solution_control.end_time = \"0.1 [s]\"  # end time\n\nsyc.setup.output_control.option = \"StepInterval\"\nsyc.setup.output_control.output_frequency = 250\n# print(syc.setup.get_setup_summary())"
      ]
    },
    {
      "cell_type": "markdown",
      "metadata": {},
      "source": [
        "# Solve the coupled system\n\n"
      ]
    },
    {
      "cell_type": "code",
      "execution_count": null,
      "metadata": {
        "collapsed": false
      },
      "outputs": [],
      "source": [
        "syc.solution.solve()"
      ]
    },
    {
      "cell_type": "markdown",
      "metadata": {},
      "source": [
        "# Postprocessing\n\n"
      ]
    },
    {
      "cell_type": "markdown",
      "metadata": {},
      "source": [
        "## Postprocess the structural results\n\n"
      ]
    },
    {
      "cell_type": "code",
      "execution_count": null,
      "metadata": {
        "collapsed": false
      },
      "outputs": [],
      "source": [
        "mapdl.finish()\nmapdl.post1()\nmapdl.nsel(\"s\", \"loc\", \"x\", 0.45)  # select the right side of the beam\nmapdl.nsel(\"r\", \"loc\", \"y\", 0.00)  # select the top of the beam\ntip_node = mapdl.nsel(\"r\", \"loc\", \"z\", 0.005)[0]  # select the tip node\ntip_y_0 = mapdl.get_value(\"node\", tip_node, \"loc\", \"y\")\ntip_y = []\nnsets = mapdl.post_processing.nsets\nfor i in range(1, nsets + 1):\n    mapdl.set(i, 1)\n    u_y = mapdl.get_value(\"node\", tip_node, \"u\", \"y\")\n    tip_y.append(tip_y_0 + u_y)\n\ntime_values = mapdl.post_processing.time_values\nplt.plot(time_values, tip_y)\nplt.xlabel(\"t (s)\")\nplt.ylabel(r\"$x_{tip}$ (m)\")\nplt.savefig(\"turek_horn_fsi2_tip_disp.png\")\n# If you want to see the in-line plot, comment following line.\nplt.close()  # close the plot to avoid showing it in the docs."
      ]
    },
    {
      "cell_type": "markdown",
      "metadata": {},
      "source": [
        "<img src=\"file://_static/turek_horn_fsi2_tip_disp.png\" width=\"500pt\" align=\"center\">\n\n"
      ]
    },
    {
      "cell_type": "markdown",
      "metadata": {},
      "source": [
        "## Postprocess the fluids results\nuse_window_resolution option not active inside containers or Ansys Lab environment\n\n"
      ]
    },
    {
      "cell_type": "code",
      "execution_count": null,
      "metadata": {
        "collapsed": false
      },
      "outputs": [],
      "source": [
        "if fluent.results.graphics.picture.use_window_resolution.is_active():\n    fluent.results.graphics.picture.use_window_resolution = False\n\nfluent.results.graphics.picture.x_resolution = 1920\nfluent.results.graphics.picture.y_resolution = 1440\n\nfluent.results.graphics.contour[\"contour_static_pressure\"] = {}\ncontour = fluent.results.graphics.contour[\"contour_static_pressure\"]\n\ncontour.coloring.option = \"banded\"\ncontour.field = \"pressure\"\ncontour.filled = True\n\ncontour.surfaces_list = [\"symmetry_bot\"]\ncontour.display()\n\nfluent.results.graphics.views.restore_view(view_name=\"front\")\nfluent.results.graphics.views.auto_scale()\nfluent.results.graphics.picture.save_picture(\n    file_name=\"turek_horn_fsi2_pressure_contour.png\"\n)"
      ]
    },
    {
      "cell_type": "markdown",
      "metadata": {},
      "source": [
        "<img src=\"file://_static/turek_horn_fsi2_pressure_contour.png\" width=\"500pt\" align=\"center\">\n\n"
      ]
    },
    {
      "cell_type": "markdown",
      "metadata": {},
      "source": [
        "# Exit\n\n"
      ]
    },
    {
      "cell_type": "code",
      "execution_count": null,
      "metadata": {
        "collapsed": false
      },
      "outputs": [],
      "source": [
        "syc.exit()\nfluent.exit()\nmapdl.exit()"
      ]
    },
    {
      "cell_type": "markdown",
      "metadata": {},
      "source": [
        "# Note\nThe results shown in this example are for illustrative purposes only.\nTo get similar results, you may need to run the simulation with an end_time equal to 15[s].\nRefer to the section time step size, end time, output controls section to update the end time.\n\n"
      ]
    },
    {
      "cell_type": "code",
      "execution_count": null,
      "metadata": {
        "collapsed": false
      },
      "outputs": [],
      "source": [
        "# The results shown below are at end_time as 15 [s] and it took approx. 2 hrs based on\n# the compute resource used.Please note that the runtime may vary depending on the\n# compute resources used.\n\n# Velocity field at 15 [sec]"
      ]
    },
    {
      "cell_type": "markdown",
      "metadata": {},
      "source": [
        "<img src=\"file://_static/turek_hron_velocity_field_at_15_sec.png\" width=\"500pt\" align=\"center\">\n\n"
      ]
    },
    {
      "cell_type": "code",
      "execution_count": null,
      "metadata": {
        "collapsed": false
      },
      "outputs": [],
      "source": [
        "# Pressure field at 15 [sec]"
      ]
    },
    {
      "cell_type": "markdown",
      "metadata": {},
      "source": [
        "<img src=\"file://_static/turek_hron_pressure_field_at_15_sec.png\" width=\"500pt\" align=\"center\">\n\n"
      ]
    },
    {
      "cell_type": "markdown",
      "metadata": {},
      "source": [
        "# References\n\n[1]. Turek, S., & Hron, J. (2006).\u00a0Proposal for numerical benchmarking of fluid-structure\ninteraction between an elastic object and laminar incompressible flow\u00a0(pp. 371-385).\nSpringer Berlin Heidelberg.\n\n"
      ]
    }
  ],
  "metadata": {
    "kernelspec": {
      "display_name": "Python 3",
      "language": "python",
      "name": "python3"
    },
    "language_info": {
      "codemirror_mode": {
        "name": "ipython",
        "version": 3
      },
      "file_extension": ".py",
      "mimetype": "text/x-python",
      "name": "python",
      "nbconvert_exporter": "python",
      "pygments_lexer": "ipython3",
      "version": "3.10.15"
    }
  },
  "nbformat": 4,
  "nbformat_minor": 0
}