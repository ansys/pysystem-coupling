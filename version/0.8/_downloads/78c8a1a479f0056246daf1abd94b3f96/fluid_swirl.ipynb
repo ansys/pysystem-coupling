{
  "cells": [
    {
      "cell_type": "markdown",
      "metadata": {},
      "source": [
        "\n# Fluid swirl\n\nThis example illustrates a one-way data transfer from a SCDT file to\nFluent, using System Coupling. Fluent solves a simple steady fluid\nflow problem, where the flow is affected by the momentum sources\ndefined in the SCDT file.\n\n**Problem description**\n\nFluid flow problem consists of the water flowing through the pipe.\n\n<img src=\"file://_static/fluid_swirl_setup.png\" width=\"400pt\" align=\"center\">\n\nThe SCDT file will be generated that consists of a cloud of points\noverlapping the fluid domain. At each point, the force density value\nis defined, with force acting along the flow cross-section, always in a\ncounter-clockwise direction (if looking from the inlet to the outlet).\n\nSystem Coupling is used to map the data from the cloud of points defined\nin the SCDT file onto Fluent mesh. The force values are then transferred\ninto Fluent and Fluent solves the resulting fluid flow problem, where\nthe fluid is influenced by the provided forces. As a result, the\nswirl is induced in the fluid flow.\n"
      ]
    },
    {
      "cell_type": "code",
      "execution_count": null,
      "metadata": {
        "collapsed": false
      },
      "outputs": [],
      "source": [
        "# Tags: SCDT, Fluent, steady"
      ]
    },
    {
      "cell_type": "markdown",
      "metadata": {},
      "source": [
        "# Import modules, download files, launch products\nSetting up this example consists of performing imports, downloading\nthe input file, and launching the required products.\n\n## Perform required imports\nImport the ``ansys-systemcoupling-core`` package and other required packages.\n\n"
      ]
    },
    {
      "cell_type": "code",
      "execution_count": null,
      "metadata": {
        "collapsed": false
      },
      "outputs": [],
      "source": [
        "import math\n\nimport ansys.fluent.core as pyfluent\n\nimport ansys.systemcoupling.core as pysystemcoupling\nfrom ansys.systemcoupling.core import examples"
      ]
    },
    {
      "cell_type": "markdown",
      "metadata": {},
      "source": [
        "## Download input files\nDownload the case file for Fluent and the FMU file.\n\n"
      ]
    },
    {
      "cell_type": "code",
      "execution_count": null,
      "metadata": {
        "collapsed": false
      },
      "outputs": [],
      "source": [
        "fluent_cas_file = examples.download_file(\n    \"water_pipe_flow.cas.h5\", \"pysystem-coupling/fluid-swirl\"\n)"
      ]
    },
    {
      "cell_type": "markdown",
      "metadata": {},
      "source": [
        "## Launch products\nLaunch a remote Fluent and System Coupling instances and\nreturn *client* objects that allows you to interact with\nthese products via an API exposed into the current Python\nenvironment.\n\n<div class=\"alert alert-info\"><h4>Note</h4><p>Fluent version greater than 24.1 is required.\n   To specify Fluent version explicitly when launching Fluent,\n   use ``product_version`` argument to the ``launch_fluent``\n   function, for example ``pyfluent.launch_fluent(product_version=\"24.2.0\")``</p></div>\n\n"
      ]
    },
    {
      "cell_type": "code",
      "execution_count": null,
      "metadata": {
        "collapsed": false
      },
      "outputs": [],
      "source": [
        "fluent = pyfluent.launch_fluent(start_transcript=True, processor_count=4)\nsyc = pysystemcoupling.launch(start_output=False)"
      ]
    },
    {
      "cell_type": "markdown",
      "metadata": {},
      "source": [
        "# Setup\nThe setup consists of setting up the the fluids analysis,\ngenerating the SCDT file, and setting up the coupled analysis.\n\n"
      ]
    },
    {
      "cell_type": "markdown",
      "metadata": {},
      "source": [
        "## Set up the fluid analysis\n\n"
      ]
    },
    {
      "cell_type": "markdown",
      "metadata": {},
      "source": [
        "Read the pre-created case file.\n\n"
      ]
    },
    {
      "cell_type": "code",
      "execution_count": null,
      "metadata": {
        "collapsed": false
      },
      "outputs": [],
      "source": [
        "fluent.file.read(file_type=\"case\", file_name=fluent_cas_file)"
      ]
    },
    {
      "cell_type": "markdown",
      "metadata": {},
      "source": [
        "## Generate the SCDT file\nThe following script generates a simple comma-separated file\nwith points defined along the fluid domain. Six columns of data\nwill be written: x, y, z coordinate values, followed by\nx-, y-, and z-components of the force density field.\nThe number of points can be adjusted by `naxial`, `ncirc`,\nand `nrad` parameter values.\nThe magnitude of the force (defined in N/m^3) can be adjusted\nby `force_mag` parameter value.\n\n"
      ]
    },
    {
      "cell_type": "code",
      "execution_count": null,
      "metadata": {
        "collapsed": false
      },
      "outputs": [],
      "source": [
        "def create_source_file(file_name):\n    force_mag = 5.0\n    naxial = 33\n    ncirc = 10\n    nrad = 20\n    radius = 0.025\n    with open(file_name, \"w\") as f:\n        for xi in range(naxial):\n            x = (1.0 - 0.0) * xi / (naxial - 1)\n            for ti in range(ncirc):\n                theta = 2.0 * math.pi * ti / ncirc\n                for ri in range(nrad):\n                    r = radius * (ri + 1) / nrad\n                    z = r * math.cos(theta)\n                    y = r * math.sin(theta)\n                    fx = 0.0\n                    fy = force_mag * math.sin(theta + 0.5 * math.pi)\n                    fz = force_mag * math.cos(theta + 0.5 * math.pi)\n                    f.write(f\"{x}, {y}, {z}, {fx}, {fy}, {fz}\\n\")\n\n\nsrc_file_base_name = \"source\"\nsrc_file_name = f\"{src_file_base_name}.scdt\"\ncreate_source_file(src_file_name)"
      ]
    },
    {
      "cell_type": "markdown",
      "metadata": {},
      "source": [
        "<img src=\"file://_static/fluid_swirl_point_cloud.png\" width=\"500pt\" align=\"center\">\n\n"
      ]
    },
    {
      "cell_type": "markdown",
      "metadata": {},
      "source": [
        "## Set up the coupled analysis\nSystem Coupling setup involves adding the SCDT file and\nFluent solver session as participants, adding coupled\ninterfaces and data transfers, and setting other coupled\nanalysis properties.\n\n"
      ]
    },
    {
      "cell_type": "markdown",
      "metadata": {},
      "source": [
        "Add participants\n\n"
      ]
    },
    {
      "cell_type": "code",
      "execution_count": null,
      "metadata": {
        "collapsed": false
      },
      "outputs": [],
      "source": [
        "source_name = syc.setup.add_participant(input_file=src_file_name)\nfluid_name = syc.setup.add_participant(participant_session=fluent)"
      ]
    },
    {
      "cell_type": "markdown",
      "metadata": {},
      "source": [
        "## Add a coupling interface and data transfers\n\n"
      ]
    },
    {
      "cell_type": "code",
      "execution_count": null,
      "metadata": {
        "collapsed": false
      },
      "outputs": [],
      "source": [
        "# Add a coupling interface for SCDT file -> Fluent\ninterface_name = syc.setup.add_interface(\n    side_one_participant=source_name,\n    side_one_regions=[src_file_base_name],\n    side_two_participant=fluid_name,\n    side_two_regions=[\"tube_solid\"],\n)\n\n# Add force data transfer.\n# Use System Coupling expression to combine force field\n# components in the SCDT file into a vector.\n# System Coupling will automatically convert force density\n# values on the source (defined in [N/m^3]) to force\n# values on the target (defined in [N]).\nsyc.setup.add_data_transfer(\n    interface=interface_name,\n    target_side=\"Two\",\n    target_variable=\"lorentz-force\",\n    value=\"vector(Variable1 * 1.0 [N], Variable2 * 1.0 [N], Variable3 * 1.0 [N])\",\n)"
      ]
    },
    {
      "cell_type": "markdown",
      "metadata": {},
      "source": [
        "# Solution\n\n"
      ]
    },
    {
      "cell_type": "code",
      "execution_count": null,
      "metadata": {
        "collapsed": false
      },
      "outputs": [],
      "source": [
        "syc.solution.solve()"
      ]
    },
    {
      "cell_type": "markdown",
      "metadata": {},
      "source": [
        "# Post-processing\nGenerate an image with fluid flow streamlines using PyFluent post-processing.\nNote how the force values defined in the SCDT file induce the swirl in\nthe fluid flow.\n\n"
      ]
    },
    {
      "cell_type": "code",
      "execution_count": null,
      "metadata": {
        "collapsed": false
      },
      "outputs": [],
      "source": [
        "if fluent.results.graphics.picture.use_window_resolution.is_active():\n    fluent.results.graphics.picture.use_window_resolution = False\n\nfluent.results.graphics.picture.x_resolution = 1920\nfluent.results.graphics.picture.y_resolution = 1440\n\nfluent.results.graphics.pathline[\"pathline\"] = {}\npathline = fluent.results.graphics.pathline[\"pathline\"]\npathline.field = \"velocity-magnitude\"\npathline.release_from_surfaces = [\"in\"]\npathline.display()\n\nfluent.results.graphics.views.restore_view(view_name=\"isometric\")\nfluent.results.graphics.views.auto_scale()\nfluent.results.graphics.picture.save_picture(file_name=\"fluid_swirl_pathline.png\")"
      ]
    },
    {
      "cell_type": "markdown",
      "metadata": {},
      "source": [
        "<img src=\"file://_static/fluid_swirl_pathline.png\" width=\"500pt\" align=\"center\">\n\n"
      ]
    },
    {
      "cell_type": "markdown",
      "metadata": {},
      "source": [
        "# Exit\n\n"
      ]
    },
    {
      "cell_type": "code",
      "execution_count": null,
      "metadata": {
        "collapsed": false
      },
      "outputs": [],
      "source": [
        "fluent.exit()\nsyc.exit()"
      ]
    }
  ],
  "metadata": {
    "kernelspec": {
      "display_name": "Python 3",
      "language": "python",
      "name": "python3"
    },
    "language_info": {
      "codemirror_mode": {
        "name": "ipython",
        "version": 3
      },
      "file_extension": ".py",
      "mimetype": "text/x-python",
      "name": "python",
      "nbconvert_exporter": "python",
      "pygments_lexer": "ipython3",
      "version": "3.10.15"
    }
  },
  "nbformat": 4,
  "nbformat_minor": 0
}