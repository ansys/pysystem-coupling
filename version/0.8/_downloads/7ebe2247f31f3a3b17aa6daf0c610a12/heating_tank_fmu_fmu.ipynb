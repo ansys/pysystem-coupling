{
  "cells": [
    {
      "cell_type": "markdown",
      "metadata": {},
      "source": [
        "\n# FMU-FMU cosimulation of a heating tank & heater\n\nThis demo illustrates a transient coupled simulation of convection\nheating of a fluid in a cylindrical tank. The heat source and heating\ntank are controlled via two FMUs that share temperature and heat flow\ndata with one another.\n\n- One FMU is used to model the fluid in the tank.\n- Another FMU is used to model the controlled heat source at the bottom\n  of the tank.\n- System Coupling coordinates the simultaneous execution of the solvers\n  and the data transfers between them.\n\n**Problem description**\n\nThe tank is modelled as a uniform-temperature fluid heated by a\nthermostat and experiencing convective cooling at its top. The\ntemperature of the fluid is available as an output, modelling a sensor\nin the tank. The FMU has six parameters that can be set:\n\n    - Height and base radius of the cylindrical tank [m]\n    - Density [kg m\\ :sup:`-3`\\ ] and specific heat [W kg\\ :sup:`-1`\\ K\\ :sup:`-1`\\] of the fluid\n      (by default, set to the properties of water)\n    - Convection heat transfer coefficient between the fluid and its\n      surroundings [W m\\ :sup:`-2`\\ K\\ :sup:`-1`\\]\n    - Temperature of the tank's surroundings [K].\n\nThe thermostat receives a temperature from the tank sensor and outputs\na heat-rate. The FMU uses PID (proprtional-integral-derivative) control\nto determine the heat output and has five parameters that can be set:\n\n    - Target temperature [K]\n    - Maximum heat output [W]\n    - Heat scale proportional factor [W/K]\n    - Heat scale integral factor [W K\\ :sup:`-1`\\ s\\ :sup:`-1`\\]\n    - Heat scale derivative factor [W s K\\ :sup:`-1`\\]\n\nOne coupling interface between the FMUs with two data transfers :\n\n    - temperature\n    - heat flow\n"
      ]
    },
    {
      "cell_type": "code",
      "execution_count": null,
      "metadata": {
        "collapsed": false
      },
      "outputs": [],
      "source": [
        "# Tags: FMU, transient"
      ]
    },
    {
      "cell_type": "markdown",
      "metadata": {},
      "source": [
        "# Import modules, download files, launch products\nSetting up this example consists of importing required modules,\ndownloading the input files, and launching the required products.\n\n## Perform required imports\nImport ``ansys-systemcoupling-core``.\n\n"
      ]
    },
    {
      "cell_type": "code",
      "execution_count": null,
      "metadata": {
        "collapsed": false
      },
      "outputs": [],
      "source": [
        "import ansys.systemcoupling.core as pysystemcoupling\nfrom ansys.systemcoupling.core import examples"
      ]
    },
    {
      "cell_type": "markdown",
      "metadata": {},
      "source": [
        "## Download the input files\nThis example requires the two FMU files to be downloaded.\n\n\n"
      ]
    },
    {
      "cell_type": "code",
      "execution_count": null,
      "metadata": {
        "collapsed": false
      },
      "outputs": [],
      "source": [
        "examples.delete_downloads()\nfmu_file_heater = examples.download_file(\n    \"thermostat.fmu\", \"pysystem-coupling/heating_tank_fmu/FMU\"\n)\nfmu_file_tank = examples.download_file(\n    \"heatingTank.fmu\", \"pysystem-coupling/heating_tank_fmu_fmu/FMU\"\n)"
      ]
    },
    {
      "cell_type": "markdown",
      "metadata": {},
      "source": [
        "## Launch System Coupling\nLaunch a remote System Coupling instance and return a *client* object\n(a ``Session`` object) that allows you to interact with System Coupling\nvia an API exposed into the current Python environment.\n\n"
      ]
    },
    {
      "cell_type": "code",
      "execution_count": null,
      "metadata": {
        "collapsed": false
      },
      "outputs": [],
      "source": [
        "syc = pysystemcoupling.launch(start_output=True)"
      ]
    },
    {
      "cell_type": "markdown",
      "metadata": {},
      "source": [
        "# Set up the coupled analysis\nSystem Coupling setup involves adding the two FMU participants,\nadding coupled interfaces and data transfers,\nand setting other coupled analysis properties.\n\n\n"
      ]
    },
    {
      "cell_type": "markdown",
      "metadata": {},
      "source": [
        "Add participants by passing session handles to System Coupling.\n\n"
      ]
    },
    {
      "cell_type": "code",
      "execution_count": null,
      "metadata": {
        "collapsed": false
      },
      "outputs": [],
      "source": [
        "heater_part_name = syc.setup.add_participant(input_file=fmu_file_heater)\ntank_part_name = syc.setup.add_participant(input_file=fmu_file_tank)"
      ]
    },
    {
      "cell_type": "markdown",
      "metadata": {},
      "source": [
        "## Set FMU settings\n\n"
      ]
    },
    {
      "cell_type": "code",
      "execution_count": null,
      "metadata": {
        "collapsed": false
      },
      "outputs": [],
      "source": [
        "# Access the heater participant object\nheater_participant = syc.setup.coupling_participant[heater_part_name]\n\n# Change the \"maximum heat output\" settings\nmax_heat_output_param = heater_participant.fmu_parameter[\"Real_2\"]\nmax_heat_output_param.real_value = 1000\n\n# Change the \"target temperature\" settings\ntarget_temperature_param = heater_participant.fmu_parameter[\"Real_3\"]\ntarget_temperature_param.real_value = 350\n\n# Change the \"heat scale proportional factor\" settings\nheat_p_factor_param = heater_participant.fmu_parameter[\"Real_4\"]\nheat_p_factor_param.real_value = 400\n\n# Change the \"heat scale integral factor\" settings\nheat_i_factor_param = heater_participant.fmu_parameter[\"Real_5\"]\nheat_i_factor_param.real_value = 0\n\n# Change the \"heat scale derivative factor\" settings\nheat_d_factor_param = heater_participant.fmu_parameter[\"Real_6\"]\nheat_d_factor_param.real_value = 0\n\n# Access the heating tank participant object\ntank_participant = syc.setup.coupling_participant[tank_part_name]\n\n# Change the \"tank height\" settings\ntank_height_param = tank_participant.fmu_parameter[\"Real_2\"]\ntank_height_param.real_value = 0.14\n\n# Change the \"tank radius\" settings\ntank_radius_param = tank_participant.fmu_parameter[\"Real_3\"]\ntank_radius_param.real_value = 0.05\n\n# Change the \"fluid density\" settings\nfluid_density_param = tank_participant.fmu_parameter[\"Real_4\"]\nfluid_density_param.real_value = 998.2\n\n# Change the \"fluid heat capacity\" settings\nfluid_heat_capacity_param = tank_participant.fmu_parameter[\"Real_5\"]\nfluid_heat_capacity_param.real_value = 4182\n\n# Change the \"convection heat transfer coefficient\" settings\nconvection_coeff_param = tank_participant.fmu_parameter[\"Real_6\"]\nconvection_coeff_param.real_value = 10\n\n# Change the \"surrounding temperature\" settings\nsurrounding_temp = tank_participant.fmu_parameter[\"Real_7\"]\nsurrounding_temp.real_value = 295"
      ]
    },
    {
      "cell_type": "markdown",
      "metadata": {},
      "source": [
        "## Add a coupling interface and data transfers\n\n"
      ]
    },
    {
      "cell_type": "code",
      "execution_count": null,
      "metadata": {
        "collapsed": false
      },
      "outputs": [],
      "source": [
        "# Add a coupling interface for tank <-> heater (sensor, heat source)\nfmu_interface_name = syc.setup.add_interface(\n    side_one_participant=tank_part_name, side_two_participant=heater_part_name\n)\n\n# Add the temperature data transfer\ntemperature_transfer_name = syc.setup.add_data_transfer(\n    interface=fmu_interface_name,\n    target_side=\"Two\",\n    source_variable=\"Real_0\",\n    target_variable=\"Real_0\",\n)\n\n# Add the heat flow data transfer\nheatflow_transfer_name = syc.setup.add_data_transfer(\n    interface=fmu_interface_name,\n    target_side=\"One\",\n    source_variable=\"Real_1\",\n    target_variable=\"Real_1\",\n)"
      ]
    },
    {
      "cell_type": "markdown",
      "metadata": {},
      "source": [
        "Other controls\n\n"
      ]
    },
    {
      "cell_type": "code",
      "execution_count": null,
      "metadata": {
        "collapsed": false
      },
      "outputs": [],
      "source": [
        "# Set time step size\nsyc.setup.solution_control.time_step_size = \"4 [s]\"\n\n# Set the simulation end time\nsyc.setup.solution_control.end_time = \"400 [s]\"\n\n# Set minimum and maximum number of iterations to 1\n# to emulate explicit update.\nsyc.setup.solution_control.minimum_iterations = 1\nsyc.setup.solution_control.maximum_iterations = 1\n\n# Turn on chart output. This step is necessary\n# to chart the data after solving.\nsyc.setup.output_control.generate_csv_chart_output = True"
      ]
    },
    {
      "cell_type": "markdown",
      "metadata": {},
      "source": [
        "# Solution\n\n"
      ]
    },
    {
      "cell_type": "code",
      "execution_count": null,
      "metadata": {
        "collapsed": false
      },
      "outputs": [],
      "source": [
        "syc.solution.solve()"
      ]
    },
    {
      "cell_type": "markdown",
      "metadata": {},
      "source": [
        "# Post-processing\nPlot graphs of temperature and heat rate over time using System Coupling's\ncharting command.\n\n"
      ]
    },
    {
      "cell_type": "code",
      "execution_count": null,
      "metadata": {
        "collapsed": false
      },
      "outputs": [],
      "source": [
        "syc.solution.show_plot(interface_name=fmu_interface_name, show_convergence=False)"
      ]
    },
    {
      "cell_type": "markdown",
      "metadata": {},
      "source": [
        "# Exit\n\n"
      ]
    },
    {
      "cell_type": "code",
      "execution_count": null,
      "metadata": {
        "collapsed": false
      },
      "outputs": [],
      "source": [
        "syc.exit()"
      ]
    }
  ],
  "metadata": {
    "kernelspec": {
      "display_name": "Python 3",
      "language": "python",
      "name": "python3"
    },
    "language_info": {
      "codemirror_mode": {
        "name": "ipython",
        "version": 3
      },
      "file_extension": ".py",
      "mimetype": "text/x-python",
      "name": "python",
      "nbconvert_exporter": "python",
      "pygments_lexer": "ipython3",
      "version": "3.10.15"
    }
  },
  "nbformat": 4,
  "nbformat_minor": 0
}